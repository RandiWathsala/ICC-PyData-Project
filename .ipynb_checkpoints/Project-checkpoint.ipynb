{
 "cells": [
  {
   "cell_type": "markdown",
   "id": "0560b800",
   "metadata": {},
   "source": [
    "Data Preprocessing"
   ]
  },
  {
   "cell_type": "code",
   "execution_count": 86,
   "id": "9341985c",
   "metadata": {},
   "outputs": [
    {
     "name": "stdout",
     "output_type": "stream",
     "text": [
      "Requirement already satisfied: seaborn in c:\\users\\acer\\anaconda3\\lib\\site-packages (0.13.2)\n",
      "Requirement already satisfied: numpy!=1.24.0,>=1.20 in c:\\users\\acer\\anaconda3\\lib\\site-packages (from seaborn) (1.26.4)\n",
      "Requirement already satisfied: pandas>=1.2 in c:\\users\\acer\\anaconda3\\lib\\site-packages (from seaborn) (2.2.2)\n",
      "Requirement already satisfied: matplotlib!=3.6.1,>=3.4 in c:\\users\\acer\\anaconda3\\lib\\site-packages (from seaborn) (3.9.2)\n",
      "Requirement already satisfied: contourpy>=1.0.1 in c:\\users\\acer\\anaconda3\\lib\\site-packages (from matplotlib!=3.6.1,>=3.4->seaborn) (1.2.0)\n",
      "Requirement already satisfied: cycler>=0.10 in c:\\users\\acer\\anaconda3\\lib\\site-packages (from matplotlib!=3.6.1,>=3.4->seaborn) (0.11.0)\n",
      "Requirement already satisfied: fonttools>=4.22.0 in c:\\users\\acer\\anaconda3\\lib\\site-packages (from matplotlib!=3.6.1,>=3.4->seaborn) (4.51.0)\n",
      "Requirement already satisfied: kiwisolver>=1.3.1 in c:\\users\\acer\\anaconda3\\lib\\site-packages (from matplotlib!=3.6.1,>=3.4->seaborn) (1.4.4)\n",
      "Requirement already satisfied: packaging>=20.0 in c:\\users\\acer\\anaconda3\\lib\\site-packages (from matplotlib!=3.6.1,>=3.4->seaborn) (24.1)\n",
      "Requirement already satisfied: pillow>=8 in c:\\users\\acer\\anaconda3\\lib\\site-packages (from matplotlib!=3.6.1,>=3.4->seaborn) (10.4.0)\n",
      "Requirement already satisfied: pyparsing>=2.3.1 in c:\\users\\acer\\anaconda3\\lib\\site-packages (from matplotlib!=3.6.1,>=3.4->seaborn) (3.1.2)\n",
      "Requirement already satisfied: python-dateutil>=2.7 in c:\\users\\acer\\anaconda3\\lib\\site-packages (from matplotlib!=3.6.1,>=3.4->seaborn) (2.9.0.post0)\n",
      "Requirement already satisfied: pytz>=2020.1 in c:\\users\\acer\\anaconda3\\lib\\site-packages (from pandas>=1.2->seaborn) (2024.1)\n",
      "Requirement already satisfied: tzdata>=2022.7 in c:\\users\\acer\\anaconda3\\lib\\site-packages (from pandas>=1.2->seaborn) (2023.3)\n",
      "Requirement already satisfied: six>=1.5 in c:\\users\\acer\\anaconda3\\lib\\site-packages (from python-dateutil>=2.7->matplotlib!=3.6.1,>=3.4->seaborn) (1.16.0)\n"
     ]
    }
   ],
   "source": [
    "!pip install seaborn"
   ]
  },
  {
   "cell_type": "code",
   "execution_count": 87,
   "id": "8867aff1-5805-4268-b548-2fa76ada9b45",
   "metadata": {},
   "outputs": [
    {
     "name": "stdout",
     "output_type": "stream",
     "text": [
      "Collecting dash\n",
      "  Downloading dash-2.18.2-py3-none-any.whl.metadata (10 kB)\n",
      "Requirement already satisfied: Flask<3.1,>=1.0.4 in c:\\users\\acer\\anaconda3\\lib\\site-packages (from dash) (3.0.3)\n",
      "Requirement already satisfied: Werkzeug<3.1 in c:\\users\\acer\\anaconda3\\lib\\site-packages (from dash) (3.0.3)\n",
      "Requirement already satisfied: plotly>=5.0.0 in c:\\users\\acer\\anaconda3\\lib\\site-packages (from dash) (5.24.1)\n",
      "Collecting dash-html-components==2.0.0 (from dash)\n",
      "  Downloading dash_html_components-2.0.0-py3-none-any.whl.metadata (3.8 kB)\n",
      "Collecting dash-core-components==2.0.0 (from dash)\n",
      "  Downloading dash_core_components-2.0.0-py3-none-any.whl.metadata (2.9 kB)\n",
      "Collecting dash-table==5.0.0 (from dash)\n",
      "  Downloading dash_table-5.0.0-py3-none-any.whl.metadata (2.4 kB)\n",
      "Requirement already satisfied: importlib-metadata in c:\\users\\acer\\anaconda3\\lib\\site-packages (from dash) (7.0.1)\n",
      "Requirement already satisfied: typing-extensions>=4.1.1 in c:\\users\\acer\\anaconda3\\lib\\site-packages (from dash) (4.11.0)\n",
      "Requirement already satisfied: requests in c:\\users\\acer\\anaconda3\\lib\\site-packages (from dash) (2.32.3)\n",
      "Collecting retrying (from dash)\n",
      "  Downloading retrying-1.3.4-py3-none-any.whl.metadata (6.9 kB)\n",
      "Requirement already satisfied: nest-asyncio in c:\\users\\acer\\anaconda3\\lib\\site-packages (from dash) (1.6.0)\n",
      "Requirement already satisfied: setuptools in c:\\users\\acer\\anaconda3\\lib\\site-packages (from dash) (75.1.0)\n",
      "Requirement already satisfied: Jinja2>=3.1.2 in c:\\users\\acer\\anaconda3\\lib\\site-packages (from Flask<3.1,>=1.0.4->dash) (3.1.4)\n",
      "Requirement already satisfied: itsdangerous>=2.1.2 in c:\\users\\acer\\anaconda3\\lib\\site-packages (from Flask<3.1,>=1.0.4->dash) (2.2.0)\n",
      "Requirement already satisfied: click>=8.1.3 in c:\\users\\acer\\anaconda3\\lib\\site-packages (from Flask<3.1,>=1.0.4->dash) (8.1.7)\n",
      "Requirement already satisfied: blinker>=1.6.2 in c:\\users\\acer\\anaconda3\\lib\\site-packages (from Flask<3.1,>=1.0.4->dash) (1.6.2)\n",
      "Requirement already satisfied: tenacity>=6.2.0 in c:\\users\\acer\\anaconda3\\lib\\site-packages (from plotly>=5.0.0->dash) (8.2.3)\n",
      "Requirement already satisfied: packaging in c:\\users\\acer\\anaconda3\\lib\\site-packages (from plotly>=5.0.0->dash) (24.1)\n",
      "Requirement already satisfied: MarkupSafe>=2.1.1 in c:\\users\\acer\\anaconda3\\lib\\site-packages (from Werkzeug<3.1->dash) (2.1.3)\n",
      "Requirement already satisfied: zipp>=0.5 in c:\\users\\acer\\anaconda3\\lib\\site-packages (from importlib-metadata->dash) (3.17.0)\n",
      "Requirement already satisfied: charset-normalizer<4,>=2 in c:\\users\\acer\\anaconda3\\lib\\site-packages (from requests->dash) (3.3.2)\n",
      "Requirement already satisfied: idna<4,>=2.5 in c:\\users\\acer\\anaconda3\\lib\\site-packages (from requests->dash) (3.7)\n",
      "Requirement already satisfied: urllib3<3,>=1.21.1 in c:\\users\\acer\\anaconda3\\lib\\site-packages (from requests->dash) (2.2.3)\n",
      "Requirement already satisfied: certifi>=2017.4.17 in c:\\users\\acer\\anaconda3\\lib\\site-packages (from requests->dash) (2024.8.30)\n",
      "Requirement already satisfied: six>=1.7.0 in c:\\users\\acer\\anaconda3\\lib\\site-packages (from retrying->dash) (1.16.0)\n",
      "Requirement already satisfied: colorama in c:\\users\\acer\\anaconda3\\lib\\site-packages (from click>=8.1.3->Flask<3.1,>=1.0.4->dash) (0.4.6)\n",
      "Downloading dash-2.18.2-py3-none-any.whl (7.8 MB)\n",
      "   ---------------------------------------- 0.0/7.8 MB ? eta -:--:--\n",
      "   ---------------------------------------- 0.0/7.8 MB ? eta -:--:--\n",
      "   ---------------------------------------- 0.0/7.8 MB ? eta -:--:--\n",
      "   - -------------------------------------- 0.3/7.8 MB ? eta -:--:--\n",
      "   - -------------------------------------- 0.3/7.8 MB ? eta -:--:--\n",
      "   -- ------------------------------------- 0.5/7.8 MB 837.5 kB/s eta 0:00:09\n",
      "   -- ------------------------------------- 0.5/7.8 MB 837.5 kB/s eta 0:00:09\n",
      "   ---- ----------------------------------- 0.8/7.8 MB 762.0 kB/s eta 0:00:10\n",
      "   ----- ---------------------------------- 1.0/7.8 MB 751.1 kB/s eta 0:00:09\n",
      "   ------ --------------------------------- 1.3/7.8 MB 808.5 kB/s eta 0:00:09\n",
      "   ------ --------------------------------- 1.3/7.8 MB 808.5 kB/s eta 0:00:09\n",
      "   -------- ------------------------------- 1.6/7.8 MB 822.3 kB/s eta 0:00:08\n",
      "   --------- ------------------------------ 1.8/7.8 MB 824.8 kB/s eta 0:00:08\n",
      "   ---------- ----------------------------- 2.1/7.8 MB 857.1 kB/s eta 0:00:07\n",
      "   ------------ --------------------------- 2.4/7.8 MB 945.1 kB/s eta 0:00:06\n",
      "   ------------- -------------------------- 2.6/7.8 MB 931.8 kB/s eta 0:00:06\n",
      "   ------------- -------------------------- 2.6/7.8 MB 931.8 kB/s eta 0:00:06\n",
      "   ---------------- ----------------------- 3.1/7.8 MB 1.0 MB/s eta 0:00:05\n",
      "   ------------------ --------------------- 3.7/7.8 MB 1.1 MB/s eta 0:00:04\n",
      "   ------------------ --------------------- 3.7/7.8 MB 1.1 MB/s eta 0:00:04\n",
      "   -------------------- ------------------- 3.9/7.8 MB 1.1 MB/s eta 0:00:04\n",
      "   ---------------------- ----------------- 4.5/7.8 MB 1.1 MB/s eta 0:00:03\n",
      "   ---------------------- ----------------- 4.5/7.8 MB 1.1 MB/s eta 0:00:03\n",
      "   ------------------------- -------------- 5.0/7.8 MB 1.2 MB/s eta 0:00:03\n",
      "   ----------------------------- ---------- 5.8/7.8 MB 1.2 MB/s eta 0:00:02\n",
      "   ----------------------------- ---------- 5.8/7.8 MB 1.2 MB/s eta 0:00:02\n",
      "   -------------------------------- ------- 6.3/7.8 MB 1.3 MB/s eta 0:00:02\n",
      "   ------------------------------------ --- 7.1/7.8 MB 1.4 MB/s eta 0:00:01\n",
      "   ------------------------------------ --- 7.1/7.8 MB 1.4 MB/s eta 0:00:01\n",
      "   ---------------------------------------  7.6/7.8 MB 1.4 MB/s eta 0:00:01\n",
      "   ---------------------------------------- 7.8/7.8 MB 1.3 MB/s eta 0:00:00\n",
      "Downloading dash_core_components-2.0.0-py3-none-any.whl (3.8 kB)\n",
      "Downloading dash_html_components-2.0.0-py3-none-any.whl (4.1 kB)\n",
      "Downloading dash_table-5.0.0-py3-none-any.whl (3.9 kB)\n",
      "Downloading retrying-1.3.4-py3-none-any.whl (11 kB)\n",
      "Installing collected packages: dash-table, dash-html-components, dash-core-components, retrying, dash\n",
      "Successfully installed dash-2.18.2 dash-core-components-2.0.0 dash-html-components-2.0.0 dash-table-5.0.0 retrying-1.3.4\n"
     ]
    }
   ],
   "source": [
    "!pip install dash"
   ]
  },
  {
   "cell_type": "code",
   "execution_count": 88,
   "id": "537fab07-1c19-4909-99a6-1ed8d592aad9",
   "metadata": {},
   "outputs": [
    {
     "name": "stdout",
     "output_type": "stream",
     "text": [
      "Requirement already satisfied: pandas in c:\\users\\acer\\anaconda3\\lib\\site-packages (2.2.2)\n",
      "Requirement already satisfied: networkx in c:\\users\\acer\\anaconda3\\lib\\site-packages (3.3)\n",
      "Requirement already satisfied: matplotlib in c:\\users\\acer\\anaconda3\\lib\\site-packages (3.9.2)\n",
      "Requirement already satisfied: ipywidgets in c:\\users\\acer\\anaconda3\\lib\\site-packages (7.8.1)\n",
      "Requirement already satisfied: numpy>=1.26.0 in c:\\users\\acer\\anaconda3\\lib\\site-packages (from pandas) (1.26.4)\n",
      "Requirement already satisfied: python-dateutil>=2.8.2 in c:\\users\\acer\\anaconda3\\lib\\site-packages (from pandas) (2.9.0.post0)\n",
      "Requirement already satisfied: pytz>=2020.1 in c:\\users\\acer\\anaconda3\\lib\\site-packages (from pandas) (2024.1)\n",
      "Requirement already satisfied: tzdata>=2022.7 in c:\\users\\acer\\anaconda3\\lib\\site-packages (from pandas) (2023.3)\n",
      "Requirement already satisfied: contourpy>=1.0.1 in c:\\users\\acer\\anaconda3\\lib\\site-packages (from matplotlib) (1.2.0)\n",
      "Requirement already satisfied: cycler>=0.10 in c:\\users\\acer\\anaconda3\\lib\\site-packages (from matplotlib) (0.11.0)\n",
      "Requirement already satisfied: fonttools>=4.22.0 in c:\\users\\acer\\anaconda3\\lib\\site-packages (from matplotlib) (4.51.0)\n",
      "Requirement already satisfied: kiwisolver>=1.3.1 in c:\\users\\acer\\anaconda3\\lib\\site-packages (from matplotlib) (1.4.4)\n",
      "Requirement already satisfied: packaging>=20.0 in c:\\users\\acer\\anaconda3\\lib\\site-packages (from matplotlib) (24.1)\n",
      "Requirement already satisfied: pillow>=8 in c:\\users\\acer\\anaconda3\\lib\\site-packages (from matplotlib) (10.4.0)\n",
      "Requirement already satisfied: pyparsing>=2.3.1 in c:\\users\\acer\\anaconda3\\lib\\site-packages (from matplotlib) (3.1.2)\n",
      "Requirement already satisfied: comm>=0.1.3 in c:\\users\\acer\\anaconda3\\lib\\site-packages (from ipywidgets) (0.2.1)\n",
      "Requirement already satisfied: ipython-genutils~=0.2.0 in c:\\users\\acer\\anaconda3\\lib\\site-packages (from ipywidgets) (0.2.0)\n",
      "Requirement already satisfied: traitlets>=4.3.1 in c:\\users\\acer\\anaconda3\\lib\\site-packages (from ipywidgets) (5.14.3)\n",
      "Requirement already satisfied: widgetsnbextension~=3.6.6 in c:\\users\\acer\\anaconda3\\lib\\site-packages (from ipywidgets) (3.6.6)\n",
      "Requirement already satisfied: ipython>=4.0.0 in c:\\users\\acer\\anaconda3\\lib\\site-packages (from ipywidgets) (8.27.0)\n",
      "Requirement already satisfied: jupyterlab-widgets<3,>=1.0.0 in c:\\users\\acer\\anaconda3\\lib\\site-packages (from ipywidgets) (1.0.0)\n",
      "Requirement already satisfied: decorator in c:\\users\\acer\\anaconda3\\lib\\site-packages (from ipython>=4.0.0->ipywidgets) (5.1.1)\n",
      "Requirement already satisfied: jedi>=0.16 in c:\\users\\acer\\anaconda3\\lib\\site-packages (from ipython>=4.0.0->ipywidgets) (0.19.1)\n",
      "Requirement already satisfied: matplotlib-inline in c:\\users\\acer\\anaconda3\\lib\\site-packages (from ipython>=4.0.0->ipywidgets) (0.1.6)\n",
      "Requirement already satisfied: prompt-toolkit<3.1.0,>=3.0.41 in c:\\users\\acer\\anaconda3\\lib\\site-packages (from ipython>=4.0.0->ipywidgets) (3.0.43)\n",
      "Requirement already satisfied: pygments>=2.4.0 in c:\\users\\acer\\anaconda3\\lib\\site-packages (from ipython>=4.0.0->ipywidgets) (2.15.1)\n",
      "Requirement already satisfied: stack-data in c:\\users\\acer\\anaconda3\\lib\\site-packages (from ipython>=4.0.0->ipywidgets) (0.2.0)\n",
      "Requirement already satisfied: colorama in c:\\users\\acer\\anaconda3\\lib\\site-packages (from ipython>=4.0.0->ipywidgets) (0.4.6)\n",
      "Requirement already satisfied: six>=1.5 in c:\\users\\acer\\anaconda3\\lib\\site-packages (from python-dateutil>=2.8.2->pandas) (1.16.0)\n",
      "Requirement already satisfied: notebook>=4.4.1 in c:\\users\\acer\\anaconda3\\lib\\site-packages (from widgetsnbextension~=3.6.6->ipywidgets) (7.2.2)\n",
      "Requirement already satisfied: parso<0.9.0,>=0.8.3 in c:\\users\\acer\\anaconda3\\lib\\site-packages (from jedi>=0.16->ipython>=4.0.0->ipywidgets) (0.8.3)\n",
      "Requirement already satisfied: jupyter-server<3,>=2.4.0 in c:\\users\\acer\\anaconda3\\lib\\site-packages (from notebook>=4.4.1->widgetsnbextension~=3.6.6->ipywidgets) (2.14.1)\n",
      "Requirement already satisfied: jupyterlab-server<3,>=2.27.1 in c:\\users\\acer\\anaconda3\\lib\\site-packages (from notebook>=4.4.1->widgetsnbextension~=3.6.6->ipywidgets) (2.27.3)\n",
      "Requirement already satisfied: jupyterlab<4.3,>=4.2.0 in c:\\users\\acer\\anaconda3\\lib\\site-packages (from notebook>=4.4.1->widgetsnbextension~=3.6.6->ipywidgets) (4.2.5)\n",
      "Requirement already satisfied: notebook-shim<0.3,>=0.2 in c:\\users\\acer\\anaconda3\\lib\\site-packages (from notebook>=4.4.1->widgetsnbextension~=3.6.6->ipywidgets) (0.2.3)\n",
      "Requirement already satisfied: tornado>=6.2.0 in c:\\users\\acer\\anaconda3\\lib\\site-packages (from notebook>=4.4.1->widgetsnbextension~=3.6.6->ipywidgets) (6.4.1)\n",
      "Requirement already satisfied: wcwidth in c:\\users\\acer\\anaconda3\\lib\\site-packages (from prompt-toolkit<3.1.0,>=3.0.41->ipython>=4.0.0->ipywidgets) (0.2.5)\n",
      "Requirement already satisfied: executing in c:\\users\\acer\\anaconda3\\lib\\site-packages (from stack-data->ipython>=4.0.0->ipywidgets) (0.8.3)\n",
      "Requirement already satisfied: asttokens in c:\\users\\acer\\anaconda3\\lib\\site-packages (from stack-data->ipython>=4.0.0->ipywidgets) (2.0.5)\n",
      "Requirement already satisfied: pure-eval in c:\\users\\acer\\anaconda3\\lib\\site-packages (from stack-data->ipython>=4.0.0->ipywidgets) (0.2.2)\n",
      "Requirement already satisfied: anyio>=3.1.0 in c:\\users\\acer\\anaconda3\\lib\\site-packages (from jupyter-server<3,>=2.4.0->notebook>=4.4.1->widgetsnbextension~=3.6.6->ipywidgets) (4.2.0)\n",
      "Requirement already satisfied: argon2-cffi>=21.1 in c:\\users\\acer\\anaconda3\\lib\\site-packages (from jupyter-server<3,>=2.4.0->notebook>=4.4.1->widgetsnbextension~=3.6.6->ipywidgets) (21.3.0)\n",
      "Requirement already satisfied: jinja2>=3.0.3 in c:\\users\\acer\\anaconda3\\lib\\site-packages (from jupyter-server<3,>=2.4.0->notebook>=4.4.1->widgetsnbextension~=3.6.6->ipywidgets) (3.1.4)\n",
      "Requirement already satisfied: jupyter-client>=7.4.4 in c:\\users\\acer\\anaconda3\\lib\\site-packages (from jupyter-server<3,>=2.4.0->notebook>=4.4.1->widgetsnbextension~=3.6.6->ipywidgets) (8.6.0)\n",
      "Requirement already satisfied: jupyter-core!=5.0.*,>=4.12 in c:\\users\\acer\\anaconda3\\lib\\site-packages (from jupyter-server<3,>=2.4.0->notebook>=4.4.1->widgetsnbextension~=3.6.6->ipywidgets) (5.7.2)\n",
      "Requirement already satisfied: jupyter-events>=0.9.0 in c:\\users\\acer\\anaconda3\\lib\\site-packages (from jupyter-server<3,>=2.4.0->notebook>=4.4.1->widgetsnbextension~=3.6.6->ipywidgets) (0.10.0)\n",
      "Requirement already satisfied: jupyter-server-terminals>=0.4.4 in c:\\users\\acer\\anaconda3\\lib\\site-packages (from jupyter-server<3,>=2.4.0->notebook>=4.4.1->widgetsnbextension~=3.6.6->ipywidgets) (0.4.4)\n",
      "Requirement already satisfied: nbconvert>=6.4.4 in c:\\users\\acer\\anaconda3\\lib\\site-packages (from jupyter-server<3,>=2.4.0->notebook>=4.4.1->widgetsnbextension~=3.6.6->ipywidgets) (7.16.4)\n",
      "Requirement already satisfied: nbformat>=5.3.0 in c:\\users\\acer\\anaconda3\\lib\\site-packages (from jupyter-server<3,>=2.4.0->notebook>=4.4.1->widgetsnbextension~=3.6.6->ipywidgets) (5.10.4)\n",
      "Requirement already satisfied: overrides>=5.0 in c:\\users\\acer\\anaconda3\\lib\\site-packages (from jupyter-server<3,>=2.4.0->notebook>=4.4.1->widgetsnbextension~=3.6.6->ipywidgets) (7.4.0)\n",
      "Requirement already satisfied: prometheus-client>=0.9 in c:\\users\\acer\\anaconda3\\lib\\site-packages (from jupyter-server<3,>=2.4.0->notebook>=4.4.1->widgetsnbextension~=3.6.6->ipywidgets) (0.14.1)\n",
      "Requirement already satisfied: pywinpty>=2.0.1 in c:\\users\\acer\\anaconda3\\lib\\site-packages (from jupyter-server<3,>=2.4.0->notebook>=4.4.1->widgetsnbextension~=3.6.6->ipywidgets) (2.0.10)\n",
      "Requirement already satisfied: pyzmq>=24 in c:\\users\\acer\\anaconda3\\lib\\site-packages (from jupyter-server<3,>=2.4.0->notebook>=4.4.1->widgetsnbextension~=3.6.6->ipywidgets) (25.1.2)\n",
      "Requirement already satisfied: send2trash>=1.8.2 in c:\\users\\acer\\anaconda3\\lib\\site-packages (from jupyter-server<3,>=2.4.0->notebook>=4.4.1->widgetsnbextension~=3.6.6->ipywidgets) (1.8.2)\n",
      "Requirement already satisfied: terminado>=0.8.3 in c:\\users\\acer\\anaconda3\\lib\\site-packages (from jupyter-server<3,>=2.4.0->notebook>=4.4.1->widgetsnbextension~=3.6.6->ipywidgets) (0.17.1)\n",
      "Requirement already satisfied: websocket-client>=1.7 in c:\\users\\acer\\anaconda3\\lib\\site-packages (from jupyter-server<3,>=2.4.0->notebook>=4.4.1->widgetsnbextension~=3.6.6->ipywidgets) (1.8.0)\n",
      "Requirement already satisfied: async-lru>=1.0.0 in c:\\users\\acer\\anaconda3\\lib\\site-packages (from jupyterlab<4.3,>=4.2.0->notebook>=4.4.1->widgetsnbextension~=3.6.6->ipywidgets) (2.0.4)\n",
      "Requirement already satisfied: httpx>=0.25.0 in c:\\users\\acer\\anaconda3\\lib\\site-packages (from jupyterlab<4.3,>=4.2.0->notebook>=4.4.1->widgetsnbextension~=3.6.6->ipywidgets) (0.27.0)\n",
      "Requirement already satisfied: ipykernel>=6.5.0 in c:\\users\\acer\\anaconda3\\lib\\site-packages (from jupyterlab<4.3,>=4.2.0->notebook>=4.4.1->widgetsnbextension~=3.6.6->ipywidgets) (6.28.0)\n",
      "Requirement already satisfied: jupyter-lsp>=2.0.0 in c:\\users\\acer\\anaconda3\\lib\\site-packages (from jupyterlab<4.3,>=4.2.0->notebook>=4.4.1->widgetsnbextension~=3.6.6->ipywidgets) (2.2.0)\n",
      "Requirement already satisfied: setuptools>=40.1.0 in c:\\users\\acer\\anaconda3\\lib\\site-packages (from jupyterlab<4.3,>=4.2.0->notebook>=4.4.1->widgetsnbextension~=3.6.6->ipywidgets) (75.1.0)\n",
      "Requirement already satisfied: babel>=2.10 in c:\\users\\acer\\anaconda3\\lib\\site-packages (from jupyterlab-server<3,>=2.27.1->notebook>=4.4.1->widgetsnbextension~=3.6.6->ipywidgets) (2.11.0)\n",
      "Requirement already satisfied: json5>=0.9.0 in c:\\users\\acer\\anaconda3\\lib\\site-packages (from jupyterlab-server<3,>=2.27.1->notebook>=4.4.1->widgetsnbextension~=3.6.6->ipywidgets) (0.9.6)\n",
      "Requirement already satisfied: jsonschema>=4.18.0 in c:\\users\\acer\\anaconda3\\lib\\site-packages (from jupyterlab-server<3,>=2.27.1->notebook>=4.4.1->widgetsnbextension~=3.6.6->ipywidgets) (4.23.0)\n",
      "Requirement already satisfied: requests>=2.31 in c:\\users\\acer\\anaconda3\\lib\\site-packages (from jupyterlab-server<3,>=2.27.1->notebook>=4.4.1->widgetsnbextension~=3.6.6->ipywidgets) (2.32.3)\n",
      "Requirement already satisfied: idna>=2.8 in c:\\users\\acer\\anaconda3\\lib\\site-packages (from anyio>=3.1.0->jupyter-server<3,>=2.4.0->notebook>=4.4.1->widgetsnbextension~=3.6.6->ipywidgets) (3.7)\n",
      "Requirement already satisfied: sniffio>=1.1 in c:\\users\\acer\\anaconda3\\lib\\site-packages (from anyio>=3.1.0->jupyter-server<3,>=2.4.0->notebook>=4.4.1->widgetsnbextension~=3.6.6->ipywidgets) (1.3.0)\n",
      "Requirement already satisfied: argon2-cffi-bindings in c:\\users\\acer\\anaconda3\\lib\\site-packages (from argon2-cffi>=21.1->jupyter-server<3,>=2.4.0->notebook>=4.4.1->widgetsnbextension~=3.6.6->ipywidgets) (21.2.0)\n",
      "Requirement already satisfied: certifi in c:\\users\\acer\\anaconda3\\lib\\site-packages (from httpx>=0.25.0->jupyterlab<4.3,>=4.2.0->notebook>=4.4.1->widgetsnbextension~=3.6.6->ipywidgets) (2024.8.30)\n",
      "Requirement already satisfied: httpcore==1.* in c:\\users\\acer\\anaconda3\\lib\\site-packages (from httpx>=0.25.0->jupyterlab<4.3,>=4.2.0->notebook>=4.4.1->widgetsnbextension~=3.6.6->ipywidgets) (1.0.2)\n",
      "Requirement already satisfied: h11<0.15,>=0.13 in c:\\users\\acer\\anaconda3\\lib\\site-packages (from httpcore==1.*->httpx>=0.25.0->jupyterlab<4.3,>=4.2.0->notebook>=4.4.1->widgetsnbextension~=3.6.6->ipywidgets) (0.14.0)\n",
      "Requirement already satisfied: debugpy>=1.6.5 in c:\\users\\acer\\anaconda3\\lib\\site-packages (from ipykernel>=6.5.0->jupyterlab<4.3,>=4.2.0->notebook>=4.4.1->widgetsnbextension~=3.6.6->ipywidgets) (1.6.7)\n",
      "Requirement already satisfied: nest-asyncio in c:\\users\\acer\\anaconda3\\lib\\site-packages (from ipykernel>=6.5.0->jupyterlab<4.3,>=4.2.0->notebook>=4.4.1->widgetsnbextension~=3.6.6->ipywidgets) (1.6.0)\n",
      "Requirement already satisfied: psutil in c:\\users\\acer\\anaconda3\\lib\\site-packages (from ipykernel>=6.5.0->jupyterlab<4.3,>=4.2.0->notebook>=4.4.1->widgetsnbextension~=3.6.6->ipywidgets) (5.9.0)\n",
      "Requirement already satisfied: MarkupSafe>=2.0 in c:\\users\\acer\\anaconda3\\lib\\site-packages (from jinja2>=3.0.3->jupyter-server<3,>=2.4.0->notebook>=4.4.1->widgetsnbextension~=3.6.6->ipywidgets) (2.1.3)\n",
      "Requirement already satisfied: attrs>=22.2.0 in c:\\users\\acer\\anaconda3\\lib\\site-packages (from jsonschema>=4.18.0->jupyterlab-server<3,>=2.27.1->notebook>=4.4.1->widgetsnbextension~=3.6.6->ipywidgets) (23.1.0)\n",
      "Requirement already satisfied: jsonschema-specifications>=2023.03.6 in c:\\users\\acer\\anaconda3\\lib\\site-packages (from jsonschema>=4.18.0->jupyterlab-server<3,>=2.27.1->notebook>=4.4.1->widgetsnbextension~=3.6.6->ipywidgets) (2023.7.1)\n",
      "Requirement already satisfied: referencing>=0.28.4 in c:\\users\\acer\\anaconda3\\lib\\site-packages (from jsonschema>=4.18.0->jupyterlab-server<3,>=2.27.1->notebook>=4.4.1->widgetsnbextension~=3.6.6->ipywidgets) (0.30.2)\n",
      "Requirement already satisfied: rpds-py>=0.7.1 in c:\\users\\acer\\anaconda3\\lib\\site-packages (from jsonschema>=4.18.0->jupyterlab-server<3,>=2.27.1->notebook>=4.4.1->widgetsnbextension~=3.6.6->ipywidgets) (0.10.6)\n",
      "Requirement already satisfied: platformdirs>=2.5 in c:\\users\\acer\\anaconda3\\lib\\site-packages (from jupyter-core!=5.0.*,>=4.12->jupyter-server<3,>=2.4.0->notebook>=4.4.1->widgetsnbextension~=3.6.6->ipywidgets) (3.10.0)\n",
      "Requirement already satisfied: pywin32>=300 in c:\\users\\acer\\anaconda3\\lib\\site-packages (from jupyter-core!=5.0.*,>=4.12->jupyter-server<3,>=2.4.0->notebook>=4.4.1->widgetsnbextension~=3.6.6->ipywidgets) (305.1)\n",
      "Requirement already satisfied: python-json-logger>=2.0.4 in c:\\users\\acer\\anaconda3\\lib\\site-packages (from jupyter-events>=0.9.0->jupyter-server<3,>=2.4.0->notebook>=4.4.1->widgetsnbextension~=3.6.6->ipywidgets) (2.0.7)\n",
      "Requirement already satisfied: pyyaml>=5.3 in c:\\users\\acer\\anaconda3\\lib\\site-packages (from jupyter-events>=0.9.0->jupyter-server<3,>=2.4.0->notebook>=4.4.1->widgetsnbextension~=3.6.6->ipywidgets) (6.0.1)\n",
      "Requirement already satisfied: rfc3339-validator in c:\\users\\acer\\anaconda3\\lib\\site-packages (from jupyter-events>=0.9.0->jupyter-server<3,>=2.4.0->notebook>=4.4.1->widgetsnbextension~=3.6.6->ipywidgets) (0.1.4)\n",
      "Requirement already satisfied: rfc3986-validator>=0.1.1 in c:\\users\\acer\\anaconda3\\lib\\site-packages (from jupyter-events>=0.9.0->jupyter-server<3,>=2.4.0->notebook>=4.4.1->widgetsnbextension~=3.6.6->ipywidgets) (0.1.1)\n",
      "Requirement already satisfied: beautifulsoup4 in c:\\users\\acer\\anaconda3\\lib\\site-packages (from nbconvert>=6.4.4->jupyter-server<3,>=2.4.0->notebook>=4.4.1->widgetsnbextension~=3.6.6->ipywidgets) (4.12.3)\n",
      "Requirement already satisfied: bleach!=5.0.0 in c:\\users\\acer\\anaconda3\\lib\\site-packages (from nbconvert>=6.4.4->jupyter-server<3,>=2.4.0->notebook>=4.4.1->widgetsnbextension~=3.6.6->ipywidgets) (4.1.0)\n",
      "Requirement already satisfied: defusedxml in c:\\users\\acer\\anaconda3\\lib\\site-packages (from nbconvert>=6.4.4->jupyter-server<3,>=2.4.0->notebook>=4.4.1->widgetsnbextension~=3.6.6->ipywidgets) (0.7.1)\n",
      "Requirement already satisfied: jupyterlab-pygments in c:\\users\\acer\\anaconda3\\lib\\site-packages (from nbconvert>=6.4.4->jupyter-server<3,>=2.4.0->notebook>=4.4.1->widgetsnbextension~=3.6.6->ipywidgets) (0.1.2)\n",
      "Requirement already satisfied: mistune<4,>=2.0.3 in c:\\users\\acer\\anaconda3\\lib\\site-packages (from nbconvert>=6.4.4->jupyter-server<3,>=2.4.0->notebook>=4.4.1->widgetsnbextension~=3.6.6->ipywidgets) (2.0.4)\n",
      "Requirement already satisfied: nbclient>=0.5.0 in c:\\users\\acer\\anaconda3\\lib\\site-packages (from nbconvert>=6.4.4->jupyter-server<3,>=2.4.0->notebook>=4.4.1->widgetsnbextension~=3.6.6->ipywidgets) (0.8.0)\n",
      "Requirement already satisfied: pandocfilters>=1.4.1 in c:\\users\\acer\\anaconda3\\lib\\site-packages (from nbconvert>=6.4.4->jupyter-server<3,>=2.4.0->notebook>=4.4.1->widgetsnbextension~=3.6.6->ipywidgets) (1.5.0)\n",
      "Requirement already satisfied: tinycss2 in c:\\users\\acer\\anaconda3\\lib\\site-packages (from nbconvert>=6.4.4->jupyter-server<3,>=2.4.0->notebook>=4.4.1->widgetsnbextension~=3.6.6->ipywidgets) (1.2.1)\n",
      "Requirement already satisfied: fastjsonschema>=2.15 in c:\\users\\acer\\anaconda3\\lib\\site-packages (from nbformat>=5.3.0->jupyter-server<3,>=2.4.0->notebook>=4.4.1->widgetsnbextension~=3.6.6->ipywidgets) (2.16.2)\n",
      "Requirement already satisfied: charset-normalizer<4,>=2 in c:\\users\\acer\\anaconda3\\lib\\site-packages (from requests>=2.31->jupyterlab-server<3,>=2.27.1->notebook>=4.4.1->widgetsnbextension~=3.6.6->ipywidgets) (3.3.2)\n",
      "Requirement already satisfied: urllib3<3,>=1.21.1 in c:\\users\\acer\\anaconda3\\lib\\site-packages (from requests>=2.31->jupyterlab-server<3,>=2.27.1->notebook>=4.4.1->widgetsnbextension~=3.6.6->ipywidgets) (2.2.3)\n",
      "Requirement already satisfied: webencodings in c:\\users\\acer\\anaconda3\\lib\\site-packages (from bleach!=5.0.0->nbconvert>=6.4.4->jupyter-server<3,>=2.4.0->notebook>=4.4.1->widgetsnbextension~=3.6.6->ipywidgets) (0.5.1)\n",
      "Collecting fqdn (from jsonschema[format-nongpl]>=4.18.0->jupyter-events>=0.9.0->jupyter-server<3,>=2.4.0->notebook>=4.4.1->widgetsnbextension~=3.6.6->ipywidgets)\n",
      "  Downloading fqdn-1.5.1-py3-none-any.whl.metadata (1.4 kB)\n",
      "Collecting isoduration (from jsonschema[format-nongpl]>=4.18.0->jupyter-events>=0.9.0->jupyter-server<3,>=2.4.0->notebook>=4.4.1->widgetsnbextension~=3.6.6->ipywidgets)\n",
      "  Downloading isoduration-20.11.0-py3-none-any.whl.metadata (5.7 kB)\n",
      "Requirement already satisfied: jsonpointer>1.13 in c:\\users\\acer\\anaconda3\\lib\\site-packages (from jsonschema[format-nongpl]>=4.18.0->jupyter-events>=0.9.0->jupyter-server<3,>=2.4.0->notebook>=4.4.1->widgetsnbextension~=3.6.6->ipywidgets) (2.1)\n",
      "Collecting uri-template (from jsonschema[format-nongpl]>=4.18.0->jupyter-events>=0.9.0->jupyter-server<3,>=2.4.0->notebook>=4.4.1->widgetsnbextension~=3.6.6->ipywidgets)\n",
      "  Downloading uri_template-1.3.0-py3-none-any.whl.metadata (8.8 kB)\n",
      "Collecting webcolors>=24.6.0 (from jsonschema[format-nongpl]>=4.18.0->jupyter-events>=0.9.0->jupyter-server<3,>=2.4.0->notebook>=4.4.1->widgetsnbextension~=3.6.6->ipywidgets)\n",
      "  Downloading webcolors-24.11.1-py3-none-any.whl.metadata (2.2 kB)\n",
      "Requirement already satisfied: cffi>=1.0.1 in c:\\users\\acer\\anaconda3\\lib\\site-packages (from argon2-cffi-bindings->argon2-cffi>=21.1->jupyter-server<3,>=2.4.0->notebook>=4.4.1->widgetsnbextension~=3.6.6->ipywidgets) (1.17.1)\n",
      "Requirement already satisfied: soupsieve>1.2 in c:\\users\\acer\\anaconda3\\lib\\site-packages (from beautifulsoup4->nbconvert>=6.4.4->jupyter-server<3,>=2.4.0->notebook>=4.4.1->widgetsnbextension~=3.6.6->ipywidgets) (2.5)\n",
      "Requirement already satisfied: pycparser in c:\\users\\acer\\anaconda3\\lib\\site-packages (from cffi>=1.0.1->argon2-cffi-bindings->argon2-cffi>=21.1->jupyter-server<3,>=2.4.0->notebook>=4.4.1->widgetsnbextension~=3.6.6->ipywidgets) (2.21)\n",
      "Requirement already satisfied: arrow>=0.15.0 in c:\\users\\acer\\anaconda3\\lib\\site-packages (from isoduration->jsonschema[format-nongpl]>=4.18.0->jupyter-events>=0.9.0->jupyter-server<3,>=2.4.0->notebook>=4.4.1->widgetsnbextension~=3.6.6->ipywidgets) (1.2.3)\n",
      "Downloading webcolors-24.11.1-py3-none-any.whl (14 kB)\n",
      "Downloading fqdn-1.5.1-py3-none-any.whl (9.1 kB)\n",
      "Downloading isoduration-20.11.0-py3-none-any.whl (11 kB)\n",
      "Downloading uri_template-1.3.0-py3-none-any.whl (11 kB)\n",
      "Installing collected packages: webcolors, uri-template, fqdn, isoduration\n",
      "Successfully installed fqdn-1.5.1 isoduration-20.11.0 uri-template-1.3.0 webcolors-24.11.1\n"
     ]
    }
   ],
   "source": [
    "!pip install pandas networkx matplotlib ipywidgets"
   ]
  },
  {
   "cell_type": "code",
   "execution_count": 89,
   "id": "d36cf3c4",
   "metadata": {},
   "outputs": [],
   "source": [
    "#Importing Packages\n",
    "import pandas as pd\n",
    "import glob\n",
    "import numpy as np\n",
    "import seaborn as sns\n",
    "import matplotlib.pyplot as plt\n",
    "import dash\n",
    "from dash import dcc, html\n",
    "from dash.dependencies import Input, Output\n",
    "import plotly.graph_objects as go\n",
    "import plotly.express as px\n",
    "\n",
    "\n",
    "\n"
   ]
  },
  {
   "cell_type": "markdown",
   "id": "3e85ca3d",
   "metadata": {},
   "source": [
    "Uploading the Dataset"
   ]
  },
  {
   "cell_type": "code",
   "execution_count": 45,
   "id": "28b1a5d8",
   "metadata": {},
   "outputs": [
    {
     "data": {
      "text/html": [
       "<div>\n",
       "<style scoped>\n",
       "    .dataframe tbody tr th:only-of-type {\n",
       "        vertical-align: middle;\n",
       "    }\n",
       "\n",
       "    .dataframe tbody tr th {\n",
       "        vertical-align: top;\n",
       "    }\n",
       "\n",
       "    .dataframe thead th {\n",
       "        text-align: right;\n",
       "    }\n",
       "</style>\n",
       "<table border=\"1\" class=\"dataframe\">\n",
       "  <thead>\n",
       "    <tr style=\"text-align: right;\">\n",
       "      <th></th>\n",
       "      <th>Unnamed: 0.1</th>\n",
       "      <th>Unnamed: 0</th>\n",
       "      <th>date</th>\n",
       "      <th>venue</th>\n",
       "      <th>match_category</th>\n",
       "      <th>team_1</th>\n",
       "      <th>team_2</th>\n",
       "      <th>team_1_runs</th>\n",
       "      <th>team_1_wickets</th>\n",
       "      <th>team_2_runs</th>\n",
       "      <th>team_2_wickets</th>\n",
       "      <th>result</th>\n",
       "      <th>pom</th>\n",
       "      <th>best_batters</th>\n",
       "      <th>best_bowlers</th>\n",
       "      <th>commentary_line</th>\n",
       "      <th>world_cup_year</th>\n",
       "      <th>host_country</th>\n",
       "    </tr>\n",
       "  </thead>\n",
       "  <tbody>\n",
       "    <tr>\n",
       "      <th>0</th>\n",
       "      <td>0</td>\n",
       "      <td>11</td>\n",
       "      <td>NaN</td>\n",
       "      <td>Nottingham</td>\n",
       "      <td>League-Match</td>\n",
       "      <td>PAK</td>\n",
       "      <td>SL</td>\n",
       "      <td>330.0</td>\n",
       "      <td>6.0</td>\n",
       "      <td>138.0</td>\n",
       "      <td>0.0</td>\n",
       "      <td>Pakistan won by 192 runs</td>\n",
       "      <td>Zaheer Abbas</td>\n",
       "      <td>NaN</td>\n",
       "      <td>NaN</td>\n",
       "      <td>NaN</td>\n",
       "      <td>1975</td>\n",
       "      <td>England</td>\n",
       "    </tr>\n",
       "    <tr>\n",
       "      <th>1</th>\n",
       "      <td>1</td>\n",
       "      <td>5</td>\n",
       "      <td>NaN</td>\n",
       "      <td>Leeds</td>\n",
       "      <td>League-Match</td>\n",
       "      <td>EAf</td>\n",
       "      <td>IND</td>\n",
       "      <td>120.0</td>\n",
       "      <td>0.0</td>\n",
       "      <td>123.0</td>\n",
       "      <td>0.0</td>\n",
       "      <td>India won by 10 wickets (with 181 balls remain...</td>\n",
       "      <td>Farokh Engineer</td>\n",
       "      <td>NaN</td>\n",
       "      <td>NaN</td>\n",
       "      <td>NaN</td>\n",
       "      <td>1975</td>\n",
       "      <td>England</td>\n",
       "    </tr>\n",
       "    <tr>\n",
       "      <th>2</th>\n",
       "      <td>2</td>\n",
       "      <td>12</td>\n",
       "      <td>1975-06-18</td>\n",
       "      <td>Leeds</td>\n",
       "      <td>Semi-Final</td>\n",
       "      <td>ENG</td>\n",
       "      <td>AUS</td>\n",
       "      <td>93.0</td>\n",
       "      <td>0.0</td>\n",
       "      <td>94.0</td>\n",
       "      <td>6.0</td>\n",
       "      <td>Australia won by 4 wickets (with 188 balls rem...</td>\n",
       "      <td>Gary Gilmour</td>\n",
       "      <td>NaN</td>\n",
       "      <td>NaN</td>\n",
       "      <td>NaN</td>\n",
       "      <td>1975</td>\n",
       "      <td>England</td>\n",
       "    </tr>\n",
       "    <tr>\n",
       "      <th>3</th>\n",
       "      <td>3</td>\n",
       "      <td>8</td>\n",
       "      <td>1975-06-14</td>\n",
       "      <td>Birmingham</td>\n",
       "      <td>League-Match</td>\n",
       "      <td>ENG</td>\n",
       "      <td>EAf</td>\n",
       "      <td>290.0</td>\n",
       "      <td>5.0</td>\n",
       "      <td>94.0</td>\n",
       "      <td>0.0</td>\n",
       "      <td>England won by 196 runs</td>\n",
       "      <td>John Snow</td>\n",
       "      <td>NaN</td>\n",
       "      <td>NaN</td>\n",
       "      <td>NaN</td>\n",
       "      <td>1975</td>\n",
       "      <td>England</td>\n",
       "    </tr>\n",
       "    <tr>\n",
       "      <th>4</th>\n",
       "      <td>4</td>\n",
       "      <td>13</td>\n",
       "      <td>NaN</td>\n",
       "      <td>The Oval</td>\n",
       "      <td>Semi-Final</td>\n",
       "      <td>NZ</td>\n",
       "      <td>WI</td>\n",
       "      <td>158.0</td>\n",
       "      <td>0.0</td>\n",
       "      <td>159.0</td>\n",
       "      <td>5.0</td>\n",
       "      <td>West Indies won by 5 wickets (with 119 balls r...</td>\n",
       "      <td>Alvin Kallicharran</td>\n",
       "      <td>NaN</td>\n",
       "      <td>NaN</td>\n",
       "      <td>NaN</td>\n",
       "      <td>1975</td>\n",
       "      <td>England</td>\n",
       "    </tr>\n",
       "  </tbody>\n",
       "</table>\n",
       "</div>"
      ],
      "text/plain": [
       "   Unnamed: 0.1  Unnamed: 0        date        venue match_category team_1  \\\n",
       "0             0          11         NaN   Nottingham   League-Match    PAK   \n",
       "1             1           5         NaN        Leeds   League-Match    EAf   \n",
       "2             2          12  1975-06-18        Leeds     Semi-Final    ENG   \n",
       "3             3           8  1975-06-14   Birmingham   League-Match    ENG   \n",
       "4             4          13         NaN     The Oval     Semi-Final     NZ   \n",
       "\n",
       "  team_2  team_1_runs  team_1_wickets  team_2_runs  team_2_wickets  \\\n",
       "0     SL        330.0             6.0        138.0             0.0   \n",
       "1    IND        120.0             0.0        123.0             0.0   \n",
       "2    AUS         93.0             0.0         94.0             6.0   \n",
       "3    EAf        290.0             5.0         94.0             0.0   \n",
       "4     WI        158.0             0.0        159.0             5.0   \n",
       "\n",
       "                                              result                 pom  \\\n",
       "0                           Pakistan won by 192 runs        Zaheer Abbas   \n",
       "1  India won by 10 wickets (with 181 balls remain...     Farokh Engineer   \n",
       "2  Australia won by 4 wickets (with 188 balls rem...        Gary Gilmour   \n",
       "3                            England won by 196 runs           John Snow   \n",
       "4  West Indies won by 5 wickets (with 119 balls r...  Alvin Kallicharran   \n",
       "\n",
       "  best_batters best_bowlers commentary_line  world_cup_year host_country  \n",
       "0          NaN          NaN             NaN            1975      England  \n",
       "1          NaN          NaN             NaN            1975      England  \n",
       "2          NaN          NaN             NaN            1975      England  \n",
       "3          NaN          NaN             NaN            1975      England  \n",
       "4          NaN          NaN             NaN            1975      England  "
      ]
     },
     "execution_count": 45,
     "metadata": {},
     "output_type": "execute_result"
    }
   ],
   "source": [
    "urls=['https://raw.githubusercontent.com/ashanjayamal/PyDataProject/refs/heads/main/1975_Match_Stats.csv',\n",
    "      'https://raw.githubusercontent.com/ashanjayamal/PyDataProject/refs/heads/main/1979_Match_Stats.csv',\n",
    "      'https://raw.githubusercontent.com/ashanjayamal/PyDataProject/refs/heads/main/1983_Match_Stats.csv',\n",
    "      'https://raw.githubusercontent.com/ashanjayamal/PyDataProject/refs/heads/main/1987_Match_Stats.csv',\n",
    "      'https://raw.githubusercontent.com/ashanjayamal/PyDataProject/refs/heads/main/1992_Match_Stats.csv',\n",
    "      'https://raw.githubusercontent.com/ashanjayamal/PyDataProject/refs/heads/main/1996_Match_Stats.csv',\n",
    "      'https://raw.githubusercontent.com/ashanjayamal/PyDataProject/refs/heads/main/1999_Match_Stats.csv',\n",
    "      'https://raw.githubusercontent.com/ashanjayamal/PyDataProject/refs/heads/main/2003_Match_Stats.csv',\n",
    "      'https://raw.githubusercontent.com/ashanjayamal/PyDataProject/refs/heads/main/2007_Match_Stats.csv',\n",
    "      'https://raw.githubusercontent.com/ashanjayamal/PyDataProject/refs/heads/main/2011_Match_Stats.csv',\n",
    "      'https://raw.githubusercontent.com/ashanjayamal/PyDataProject/refs/heads/main/2015_Match_Stats.csv',\n",
    "      'https://raw.githubusercontent.com/ashanjayamal/PyDataProject/refs/heads/main/2019_Match_Stats.csv',\n",
    "      'https://raw.githubusercontent.com/ashanjayamal/PyDataProject/refs/heads/main/2023_Match_Stats.csv'\n",
    "      ]\n",
    "#csv_files=[pd.read_csv(url) for url in urls]\n",
    "#csv_files\n",
    "crick_df = pd.concat([pd.read_csv(url) for url in urls], ignore_index=True)\n",
    "\n",
    "crick_df.head()"
   ]
  },
  {
   "cell_type": "markdown",
   "id": "4217ace5",
   "metadata": {},
   "source": [
    "Examining the DataFrame"
   ]
  },
  {
   "cell_type": "code",
   "execution_count": 46,
   "id": "83e830fa",
   "metadata": {},
   "outputs": [
    {
     "name": "stdout",
     "output_type": "stream",
     "text": [
      "<class 'pandas.core.frame.DataFrame'>\n",
      "RangeIndex: 528 entries, 0 to 527\n",
      "Data columns (total 18 columns):\n",
      " #   Column           Non-Null Count  Dtype  \n",
      "---  ------           --------------  -----  \n",
      " 0   Unnamed: 0.1     528 non-null    int64  \n",
      " 1   Unnamed: 0       528 non-null    int64  \n",
      " 2   date             364 non-null    object \n",
      " 3   venue            528 non-null    object \n",
      " 4   match_category   528 non-null    object \n",
      " 5   team_1           528 non-null    object \n",
      " 6   team_2           528 non-null    object \n",
      " 7   team_1_runs      518 non-null    float64\n",
      " 8   team_1_wickets   518 non-null    float64\n",
      " 9   team_2_runs      513 non-null    float64\n",
      " 10  team_2_wickets   513 non-null    float64\n",
      " 11  result           528 non-null    object \n",
      " 12  pom              510 non-null    object \n",
      " 13  best_batters     250 non-null    object \n",
      " 14  best_bowlers     250 non-null    object \n",
      " 15  commentary_line  83 non-null     object \n",
      " 16  world_cup_year   528 non-null    int64  \n",
      " 17  host_country     528 non-null    object \n",
      "dtypes: float64(4), int64(3), object(11)\n",
      "memory usage: 74.4+ KB\n"
     ]
    }
   ],
   "source": [
    "crick_df.info()"
   ]
  },
  {
   "cell_type": "code",
   "execution_count": 47,
   "id": "8b771bde",
   "metadata": {},
   "outputs": [
    {
     "data": {
      "text/plain": [
       "Index(['Unnamed: 0.1', 'Unnamed: 0', 'date', 'venue', 'match_category',\n",
       "       'team_1', 'team_2', 'team_1_runs', 'team_1_wickets', 'team_2_runs',\n",
       "       'team_2_wickets', 'result', 'pom', 'best_batters', 'best_bowlers',\n",
       "       'commentary_line', 'world_cup_year', 'host_country'],\n",
       "      dtype='object')"
      ]
     },
     "execution_count": 47,
     "metadata": {},
     "output_type": "execute_result"
    }
   ],
   "source": [
    "crick_df.columns"
   ]
  },
  {
   "cell_type": "code",
   "execution_count": 48,
   "id": "c2f31259",
   "metadata": {},
   "outputs": [
    {
     "name": "stdout",
     "output_type": "stream",
     "text": [
      "(528, 18)\n"
     ]
    }
   ],
   "source": [
    "print(crick_df.shape)"
   ]
  },
  {
   "cell_type": "code",
   "execution_count": 49,
   "id": "3d19ccb7",
   "metadata": {},
   "outputs": [
    {
     "data": {
      "text/html": [
       "<div>\n",
       "<style scoped>\n",
       "    .dataframe tbody tr th:only-of-type {\n",
       "        vertical-align: middle;\n",
       "    }\n",
       "\n",
       "    .dataframe tbody tr th {\n",
       "        vertical-align: top;\n",
       "    }\n",
       "\n",
       "    .dataframe thead th {\n",
       "        text-align: right;\n",
       "    }\n",
       "</style>\n",
       "<table border=\"1\" class=\"dataframe\">\n",
       "  <thead>\n",
       "    <tr style=\"text-align: right;\">\n",
       "      <th></th>\n",
       "      <th>Unnamed: 0.1</th>\n",
       "      <th>Unnamed: 0</th>\n",
       "      <th>team_1_runs</th>\n",
       "      <th>team_1_wickets</th>\n",
       "      <th>team_2_runs</th>\n",
       "      <th>team_2_wickets</th>\n",
       "      <th>world_cup_year</th>\n",
       "    </tr>\n",
       "  </thead>\n",
       "  <tbody>\n",
       "    <tr>\n",
       "      <th>count</th>\n",
       "      <td>528.000000</td>\n",
       "      <td>528.000000</td>\n",
       "      <td>518.000000</td>\n",
       "      <td>518.000000</td>\n",
       "      <td>513.000000</td>\n",
       "      <td>513.000000</td>\n",
       "      <td>528.000000</td>\n",
       "    </tr>\n",
       "    <tr>\n",
       "      <th>mean</th>\n",
       "      <td>21.871212</td>\n",
       "      <td>21.034091</td>\n",
       "      <td>243.239382</td>\n",
       "      <td>4.590734</td>\n",
       "      <td>198.643275</td>\n",
       "      <td>2.777778</td>\n",
       "      <td>2003.373106</td>\n",
       "    </tr>\n",
       "    <tr>\n",
       "      <th>std</th>\n",
       "      <td>14.307231</td>\n",
       "      <td>13.915398</td>\n",
       "      <td>75.108565</td>\n",
       "      <td>3.465005</td>\n",
       "      <td>59.732864</td>\n",
       "      <td>3.044163</td>\n",
       "      <td>13.352007</td>\n",
       "    </tr>\n",
       "    <tr>\n",
       "      <th>min</th>\n",
       "      <td>0.000000</td>\n",
       "      <td>0.000000</td>\n",
       "      <td>1.000000</td>\n",
       "      <td>0.000000</td>\n",
       "      <td>24.000000</td>\n",
       "      <td>0.000000</td>\n",
       "      <td>1975.000000</td>\n",
       "    </tr>\n",
       "    <tr>\n",
       "      <th>25%</th>\n",
       "      <td>10.000000</td>\n",
       "      <td>9.000000</td>\n",
       "      <td>197.000000</td>\n",
       "      <td>0.000000</td>\n",
       "      <td>158.000000</td>\n",
       "      <td>0.000000</td>\n",
       "      <td>1992.000000</td>\n",
       "    </tr>\n",
       "    <tr>\n",
       "      <th>50%</th>\n",
       "      <td>20.000000</td>\n",
       "      <td>20.000000</td>\n",
       "      <td>244.000000</td>\n",
       "      <td>6.000000</td>\n",
       "      <td>204.000000</td>\n",
       "      <td>2.000000</td>\n",
       "      <td>2003.000000</td>\n",
       "    </tr>\n",
       "    <tr>\n",
       "      <th>75%</th>\n",
       "      <td>33.000000</td>\n",
       "      <td>32.000000</td>\n",
       "      <td>292.000000</td>\n",
       "      <td>8.000000</td>\n",
       "      <td>235.000000</td>\n",
       "      <td>5.000000</td>\n",
       "      <td>2015.000000</td>\n",
       "    </tr>\n",
       "    <tr>\n",
       "      <th>max</th>\n",
       "      <td>55.000000</td>\n",
       "      <td>53.000000</td>\n",
       "      <td>428.000000</td>\n",
       "      <td>9.000000</td>\n",
       "      <td>383.000000</td>\n",
       "      <td>9.000000</td>\n",
       "      <td>2023.000000</td>\n",
       "    </tr>\n",
       "  </tbody>\n",
       "</table>\n",
       "</div>"
      ],
      "text/plain": [
       "       Unnamed: 0.1  Unnamed: 0  team_1_runs  team_1_wickets  team_2_runs  \\\n",
       "count    528.000000  528.000000   518.000000      518.000000   513.000000   \n",
       "mean      21.871212   21.034091   243.239382        4.590734   198.643275   \n",
       "std       14.307231   13.915398    75.108565        3.465005    59.732864   \n",
       "min        0.000000    0.000000     1.000000        0.000000    24.000000   \n",
       "25%       10.000000    9.000000   197.000000        0.000000   158.000000   \n",
       "50%       20.000000   20.000000   244.000000        6.000000   204.000000   \n",
       "75%       33.000000   32.000000   292.000000        8.000000   235.000000   \n",
       "max       55.000000   53.000000   428.000000        9.000000   383.000000   \n",
       "\n",
       "       team_2_wickets  world_cup_year  \n",
       "count      513.000000      528.000000  \n",
       "mean         2.777778     2003.373106  \n",
       "std          3.044163       13.352007  \n",
       "min          0.000000     1975.000000  \n",
       "25%          0.000000     1992.000000  \n",
       "50%          2.000000     2003.000000  \n",
       "75%          5.000000     2015.000000  \n",
       "max          9.000000     2023.000000  "
      ]
     },
     "execution_count": 49,
     "metadata": {},
     "output_type": "execute_result"
    }
   ],
   "source": [
    "crick_df.describe()"
   ]
  },
  {
   "cell_type": "markdown",
   "id": "38e13947",
   "metadata": {},
   "source": [
    "Data Cleaning"
   ]
  },
  {
   "cell_type": "code",
   "execution_count": 50,
   "id": "02bebab5",
   "metadata": {},
   "outputs": [
    {
     "name": "stdout",
     "output_type": "stream",
     "text": [
      "DataFrame shape after removing duplicates: (528, 18)\n"
     ]
    }
   ],
   "source": [
    "\n",
    "# Removing duplicate rows from the DataFrame\n",
    "crick_df = crick_df.drop_duplicates()\n",
    "\n",
    "# Resetting the index after removing duplicates\n",
    "crick_df.reset_index(drop=True, inplace=True)\n",
    "\n",
    "# Checking the shape of the DataFrame after removing duplicates\n",
    "print(f\"DataFrame shape after removing duplicates: {crick_df.shape}\")"
   ]
  },
  {
   "cell_type": "markdown",
   "id": "72633946",
   "metadata": {},
   "source": [
    "Removing Unnecessary Columns\n",
    "\n",
    "Since the columns named 'Unnamed: 0.1','Unnamed: 0' don't have any specific meaning, we removed those columns.\n",
    "Since the columns named 'commentary_line','date' aren't relevent for the data analysis, we removed those columns."
   ]
  },
  {
   "cell_type": "code",
   "execution_count": 51,
   "id": "c00207c5",
   "metadata": {},
   "outputs": [],
   "source": [
    "# Removing unnessary colummuns\n",
    "crick_df = crick_df.drop(columns=['date','Unnamed: 0.1','Unnamed: 0','commentary_line'])\n"
   ]
  },
  {
   "cell_type": "code",
   "execution_count": 52,
   "id": "39f701e1",
   "metadata": {},
   "outputs": [
    {
     "name": "stdout",
     "output_type": "stream",
     "text": [
      "venue               0\n",
      "match_category      0\n",
      "team_1              0\n",
      "team_2              0\n",
      "team_1_runs        10\n",
      "team_1_wickets     10\n",
      "team_2_runs        15\n",
      "team_2_wickets     15\n",
      "result              0\n",
      "pom                18\n",
      "best_batters      278\n",
      "best_bowlers      278\n",
      "world_cup_year      0\n",
      "host_country        0\n",
      "dtype: int64\n"
     ]
    }
   ],
   "source": [
    "# checking null values\n",
    "print(crick_df.isnull().sum())"
   ]
  },
  {
   "cell_type": "code",
   "execution_count": 53,
   "id": "02849245",
   "metadata": {},
   "outputs": [
    {
     "name": "stdout",
     "output_type": "stream",
     "text": [
      "(528, 14)\n"
     ]
    }
   ],
   "source": [
    "print(crick_df.shape)"
   ]
  },
  {
   "cell_type": "markdown",
   "id": "da9097d4",
   "metadata": {},
   "source": [
    "Checking for outliers"
   ]
  },
  {
   "cell_type": "code",
   "execution_count": 54,
   "id": "b1e65bb0",
   "metadata": {},
   "outputs": [
    {
     "data": {
      "image/png": "[encoded data removed]",
      "text/plain": [
       "<Figure size 800x200 with 1 Axes>"
      ]
     },
     "metadata": {},
     "output_type": "display_data"
    },
    {
     "data": {
      "image/png": "[encoded data removed]",
      "text/plain": [
       "<Figure size 800x200 with 1 Axes>"
      ]
     },
     "metadata": {},
     "output_type": "display_data"
    },
    {
     "data": {
      "image/png": "[encoded data removed]",
      "text/plain": [
       "<Figure size 800x200 with 1 Axes>"
      ]
     },
     "metadata": {},
     "output_type": "display_data"
    },
    {
     "data": {
      "image/png": "[encoded data removed]",
      "text/plain": [
       "<Figure size 800x200 with 1 Axes>"
      ]
     },
     "metadata": {},
     "output_type": "display_data"
    }
   ],
   "source": [
    "\n",
    "\n",
    "# Identify numerical columns\n",
    "numerical_cols = ['team_1_runs', 'team_2_runs', 'team_1_wickets', 'team_2_wickets']\n",
    "\n",
    "# Plot boxplots to visualize potential outliers\n",
    "for col in numerical_cols:\n",
    "    plt.figure(figsize=(8,2))\n",
    "    sns.boxplot(x=crick_df[col])\n",
    "    plt.title(f\"Boxplot for {col}\")\n",
    "    plt.show()"
   ]
  },
  {
   "cell_type": "markdown",
   "id": "6f5761a3",
   "metadata": {},
   "source": [
    "Checking for the rows with extreme values\n",
    "\n",
    "Since the highest and lowest values of this dataset has a specific meaning according to the real scenario, we are going to check for extremely unrealistic values instead of following the normal ways like below.\n",
    "1. considering the IQR\n",
    "2. using the Boxplot"
   ]
  },
  {
   "cell_type": "code",
   "execution_count": 55,
   "id": "6184afa3",
   "metadata": {},
   "outputs": [
    {
     "name": "stdout",
     "output_type": "stream",
     "text": [
      "              venue match_category team_1 team_2  team_1_runs  team_1_wickets  \\\n",
      "323   Port of Spain   League-Match    IND    BER        413.0             5.0   \n",
      "387           Perth   League-Match    AUS    AFG        417.0             6.0   \n",
      "406          Sydney   League-Match     SA     WI        408.0             5.0   \n",
      "414        Canberra   League-Match     SA    IRE        411.0             4.0   \n",
      "479       Bengaluru   League-Match     NZ    PAK        401.0             6.0   \n",
      "507           Delhi   League-Match     SA     SL        428.0             5.0   \n",
      "526       Bengaluru   League-Match    IND    NED        410.0             4.0   \n",
      "\n",
      "     team_2_runs  team_2_wickets                                result  \\\n",
      "323        156.0             0.0                 India won by 257 runs   \n",
      "387        142.0             0.0             Australia won by 275 runs   \n",
      "406        151.0             0.0          South Africa won by 257 runs   \n",
      "414        210.0             0.0          South Africa won by 201 runs   \n",
      "479        200.0             1.0  Pakistan won by 21 runs (DLS method)   \n",
      "507        326.0             0.0          South Africa won by 102 runs   \n",
      "526        250.0             0.0                 India won by 160 runs   \n",
      "\n",
      "                 pom                                       best_batters  \\\n",
      "323  Virender Sehwag  ['V Sehwag - 114 runs ', 'SC Ganguly - 89 runs ']   \n",
      "387     David Warner  ['DA Warner - 178 runs ', 'SPD Smith - 95 runs ']   \n",
      "406   AB de Villiers  ['AB de Villiers - 162 runs ', 'HM Amla - 65 r...   \n",
      "414      Hashim Amla  ['HM Amla - 159 runs ', 'F du Plessis - 109 ru...   \n",
      "479     Fakhar Zaman  ['Fakhar Zaman - 126 runs ', 'R Ravindra - 108...   \n",
      "507    Aiden Markram  ['HE van der Dussen - 108 runs ', 'AK Markram ...   \n",
      "526     Shreyas Iyer    ['SS Iyer - 128 runs ', 'KL Rahul - 102 runs ']   \n",
      "\n",
      "                                 best_bowlers  world_cup_year host_country  \n",
      "323        ['AB Agarkar - 3', 'A Kumble - 3']            2007  West Indies  \n",
      "387        ['MG Johnson - 4', 'MA Starc - 2']            2015    Australia  \n",
      "406       ['Imran Tahir - 5', 'M Morkel - 2']            2015    Australia  \n",
      "414         ['KJ Abbott - 4', 'M Morkel - 3']            2015    Australia  \n",
      "479  ['Mohammad Wasim - 3', 'TG Southee - 1']            2023        India  \n",
      "507       ['G Coetzee - 3', 'KA Maharaj - 2']            2023        India  \n",
      "526    ['JJ Bumrah - 2', 'Kuldeep Yadav - 2']            2023        India  \n"
     ]
    }
   ],
   "source": [
    "# Filter rows where team_1_runs > 400\n",
    "high_scoring_matches_1 = crick_df[crick_df['team_1_runs'] > 400]\n",
    "\n",
    "# Display the filtered rows\n",
    "print(high_scoring_matches_1)"
   ]
  },
  {
   "cell_type": "markdown",
   "id": "4da8c728",
   "metadata": {},
   "source": [
    "Since these values are not extreme according to the reality, we are not going to remove these."
   ]
  },
  {
   "cell_type": "code",
   "execution_count": 56,
   "id": "2de1cc44",
   "metadata": {},
   "outputs": [
    {
     "name": "stdout",
     "output_type": "stream",
     "text": [
      "<class 'pandas.core.frame.DataFrame'>\n",
      "RangeIndex: 528 entries, 0 to 527\n",
      "Data columns (total 14 columns):\n",
      " #   Column          Non-Null Count  Dtype  \n",
      "---  ------          --------------  -----  \n",
      " 0   venue           528 non-null    object \n",
      " 1   match_category  528 non-null    object \n",
      " 2   team_1          528 non-null    object \n",
      " 3   team_2          528 non-null    object \n",
      " 4   team_1_runs     518 non-null    float64\n",
      " 5   team_1_wickets  518 non-null    float64\n",
      " 6   team_2_runs     513 non-null    float64\n",
      " 7   team_2_wickets  513 non-null    float64\n",
      " 8   result          528 non-null    object \n",
      " 9   pom             510 non-null    object \n",
      " 10  best_batters    250 non-null    object \n",
      " 11  best_bowlers    250 non-null    object \n",
      " 12  world_cup_year  528 non-null    int64  \n",
      " 13  host_country    528 non-null    object \n",
      "dtypes: float64(4), int64(1), object(9)\n",
      "memory usage: 57.9+ KB\n"
     ]
    }
   ],
   "source": [
    "crick_df.info()"
   ]
  },
  {
   "cell_type": "code",
   "execution_count": 57,
   "id": "c9432b56",
   "metadata": {},
   "outputs": [
    {
     "name": "stdout",
     "output_type": "stream",
     "text": [
      "            venue match_category team_1 team_2  team_1_runs  team_1_wickets  \\\n",
      "17     Manchester   League-Match    CAN    ENG         45.0             0.0   \n",
      "24     Manchester   League-Match    CAN    ENG         45.0             0.0   \n",
      "98         Mackay   League-Match    IND     SL          1.0             0.0   \n",
      "144         Patna   League-Match    ZIM  KENYA         45.0             3.0   \n",
      "271         Paarl   League-Match    CAN     SL         36.0             0.0   \n",
      "474   Southampton   League-Match     SA     WI         29.0             2.0   \n",
      "\n",
      "     team_2_runs  team_2_wickets  \\\n",
      "17          46.0             2.0   \n",
      "24          46.0             2.0   \n",
      "98           NaN             NaN   \n",
      "144          NaN             NaN   \n",
      "271         37.0             1.0   \n",
      "474          NaN             NaN   \n",
      "\n",
      "                                                result               pom  \\\n",
      "17   England won by 8 wickets (with 277 balls remai...         Chris Old   \n",
      "24   England won by 8 wickets (with 277 balls remai...         Chris Old   \n",
      "98                                           No result               NaN   \n",
      "144                                          No result               NaN   \n",
      "271  Sri Lanka won by 9 wickets (with 272 balls rem...  Prabath Nissanka   \n",
      "474                                          No result               NaN   \n",
      "\n",
      "                                      best_batters  \\\n",
      "17                                             NaN   \n",
      "24                                             NaN   \n",
      "98                                             NaN   \n",
      "144                                            NaN   \n",
      "271                                            NaN   \n",
      "474  ['Q de Kock - 17 runs ', 'HM Amla - 6 runs ']   \n",
      "\n",
      "                            best_bowlers  world_cup_year  host_country  \n",
      "17                                   NaN            1979       England  \n",
      "24                                   NaN            1979       England  \n",
      "98                                   NaN            1992   New Zealand  \n",
      "144                                  NaN            1996         India  \n",
      "271                                  NaN            2003  South Africa  \n",
      "474  ['SS Cottrell - 2', 'O Thomas - 0']            2019       England  \n"
     ]
    }
   ],
   "source": [
    "# Filter rows where team_1_runs < 50\n",
    "low_scoring_matches_1 = crick_df[crick_df['team_1_runs'] < 50]\n",
    "\n",
    "# Display the filtered rows\n",
    "print(low_scoring_matches_1)"
   ]
  },
  {
   "cell_type": "code",
   "execution_count": 58,
   "id": "07d8f1c2",
   "metadata": {},
   "outputs": [
    {
     "name": "stdout",
     "output_type": "stream",
     "text": [
      "Empty DataFrame\n",
      "Columns: [venue, match_category, team_1, team_2, team_1_runs, team_1_wickets, team_2_runs, team_2_wickets, result, pom, best_batters, best_bowlers, world_cup_year, host_country]\n",
      "Index: []\n"
     ]
    }
   ],
   "source": [
    "# Filter rows where team_2_runs > 400\n",
    "high_scoring_matches_2 = crick_df[crick_df['team_2_runs'] > 400]\n",
    "\n",
    "# Display the filtered rows\n",
    "print(high_scoring_matches_2)"
   ]
  },
  {
   "cell_type": "code",
   "execution_count": 59,
   "id": "ba13df5b",
   "metadata": {},
   "outputs": [
    {
     "name": "stdout",
     "output_type": "stream",
     "text": [
      "              venue match_category team_1 team_2  team_1_runs  team_1_wickets  \\\n",
      "17       Manchester   League-Match    CAN    ENG         45.0             0.0   \n",
      "24       Manchester   League-Match    CAN    ENG         45.0             0.0   \n",
      "119        Adelaide   League-Match    PAK    ENG         74.0             0.0   \n",
      "230   Potchefstroom   League-Match    AUS    NAM        301.0             6.0   \n",
      "237          Benoni   League-Match     WI    BAN        244.0             9.0   \n",
      "271           Paarl   League-Match    CAN     SL         36.0             0.0   \n",
      "\n",
      "     team_2_runs  team_2_wickets  \\\n",
      "17          46.0             2.0   \n",
      "24          46.0             2.0   \n",
      "119         24.0             1.0   \n",
      "230         45.0             0.0   \n",
      "237         32.0             2.0   \n",
      "271         37.0             1.0   \n",
      "\n",
      "                                                result               pom  \\\n",
      "17   England won by 8 wickets (with 277 balls remai...         Chris Old   \n",
      "24   England won by 8 wickets (with 277 balls remai...         Chris Old   \n",
      "119                                          No result               NaN   \n",
      "230                          Australia won by 256 runs     Glenn McGrath   \n",
      "237                                          No result               NaN   \n",
      "271  Sri Lanka won by 9 wickets (with 272 balls rem...  Prabath Nissanka   \n",
      "\n",
      "    best_batters best_bowlers  world_cup_year  host_country  \n",
      "17           NaN          NaN            1979       England  \n",
      "24           NaN          NaN            1979       England  \n",
      "119          NaN          NaN            1992     Australia  \n",
      "230          NaN          NaN            2003  South Africa  \n",
      "237          NaN          NaN            2003  South Africa  \n",
      "271          NaN          NaN            2003  South Africa  \n"
     ]
    }
   ],
   "source": [
    "# Filter rows where team_2_runs < 50\n",
    "low_scoring_matches_2 = crick_df[crick_df['team_2_runs'] < 50]\n",
    "\n",
    "# Display the filtered rows\n",
    "print(low_scoring_matches_2)"
   ]
  },
  {
   "cell_type": "markdown",
   "id": "c8f5831f",
   "metadata": {},
   "source": [
    "Since these values are not extreme according to the reality, we are not going to remove these.\n",
    "\n",
    "Normally the minimum wicket count is 0 and the maximum wicket count is 10. Therefore we are going to check for extremes using these values.\n"
   ]
  },
  {
   "cell_type": "code",
   "execution_count": 60,
   "id": "86451926",
   "metadata": {},
   "outputs": [
    {
     "name": "stdout",
     "output_type": "stream",
     "text": [
      "Empty DataFrame\n",
      "Columns: [venue, match_category, team_1, team_2, team_1_runs, team_1_wickets, team_2_runs, team_2_wickets, result, pom, best_batters, best_bowlers, world_cup_year, host_country]\n",
      "Index: []\n"
     ]
    }
   ],
   "source": [
    "# Filter rows where team_1_wickets > 10\n",
    "high_wicket_matches_1 = crick_df[crick_df['team_1_wickets'] > 10]\n",
    "\n",
    "# Display the filtered rows\n",
    "print(high_wicket_matches_1)"
   ]
  },
  {
   "cell_type": "code",
   "execution_count": 61,
   "id": "a4ceeea2",
   "metadata": {},
   "outputs": [
    {
     "name": "stdout",
     "output_type": "stream",
     "text": [
      "           venue match_category team_1 team_2  team_1_runs  team_1_wickets  \\\n",
      "1          Leeds   League-Match    EAf    IND        120.0             0.0   \n",
      "2          Leeds     Semi-Final    ENG    AUS         93.0             0.0   \n",
      "4       The Oval     Semi-Final     NZ     WI        158.0             0.0   \n",
      "10    Manchester   League-Match     SL     WI         86.0             0.0   \n",
      "11      The Oval     Semi-Final     NZ     WI        158.0             0.0   \n",
      "..           ...            ...    ...    ...          ...             ...   \n",
      "517      Lucknow   League-Match     SL    AUS        209.0             0.0   \n",
      "519    Ahmedabad   League-Match    AFG     SA        244.0             0.0   \n",
      "523      Lucknow   League-Match    NED     SL        262.0             0.0   \n",
      "524    Bengaluru   League-Match     SL     NZ        171.0             0.0   \n",
      "525    Hyderabad   League-Match    PAK    NED        286.0             0.0   \n",
      "\n",
      "     team_2_runs  team_2_wickets  \\\n",
      "1          123.0             0.0   \n",
      "2           94.0             6.0   \n",
      "4          159.0             5.0   \n",
      "10          87.0             1.0   \n",
      "11         159.0             5.0   \n",
      "..           ...             ...   \n",
      "517        215.0             5.0   \n",
      "519        247.0             5.0   \n",
      "523        263.0             5.0   \n",
      "524        172.0             5.0   \n",
      "525        205.0             0.0   \n",
      "\n",
      "                                                result  \\\n",
      "1    India won by 10 wickets (with 181 balls remain...   \n",
      "2    Australia won by 4 wickets (with 188 balls rem...   \n",
      "4    West Indies won by 5 wickets (with 119 balls r...   \n",
      "10   West Indies won by 9 wickets (with 236 balls r...   \n",
      "11   West Indies won by 5 wickets (with 119 balls r...   \n",
      "..                                                 ...   \n",
      "517  Australia won by 5 wickets (with 88 balls rema...   \n",
      "519  South Africa won by 5 wickets (with 15 balls r...   \n",
      "523  Sri Lanka won by 5 wickets (with 10 balls rema...   \n",
      "524  New Zealand won by 5 wickets (with 160 balls r...   \n",
      "525                            Pakistan won by 81 runs   \n",
      "\n",
      "                        pom  \\\n",
      "1           Farokh Engineer   \n",
      "2              Gary Gilmour   \n",
      "4        Alvin Kallicharran   \n",
      "10           Bernard Julien   \n",
      "11       Alvin Kallicharran   \n",
      "..                      ...   \n",
      "517              Adam Zampa   \n",
      "519   Rassie van der Dussen   \n",
      "523  Sadeera Samarawickrama   \n",
      "524             Trent Boult   \n",
      "525            Saud Shakeel   \n",
      "\n",
      "                                          best_batters  \\\n",
      "1                                                  NaN   \n",
      "2                                                  NaN   \n",
      "4                                                  NaN   \n",
      "10                                                 NaN   \n",
      "11                                                 NaN   \n",
      "..                                                 ...   \n",
      "517  ['MDKJ Perera - 78 runs ', 'P Nissanka - 61 ru...   \n",
      "519  ['Azmatullah Omarzai - 97 runs ', 'HE van der ...   \n",
      "523  ['S Samarawickrama - 91 runs ', 'SA Engelbrech...   \n",
      "524  ['MDKJ Perera - 51 runs ', 'DP Conway - 45 run...   \n",
      "525  ['Saud Shakeel - 68 runs ', 'Mohammad Rizwan -...   \n",
      "\n",
      "                                best_bowlers  world_cup_year host_country  \n",
      "1                                        NaN            1975      England  \n",
      "2                                        NaN            1975      England  \n",
      "4                                        NaN            1975      England  \n",
      "10                                       NaN            1975      England  \n",
      "11                                       NaN            1975      England  \n",
      "..                                       ...             ...          ...  \n",
      "517      ['A Zampa - 4', 'D Madushanka - 3']            2023        India  \n",
      "519      ['G Coetzee - 4', 'KA Maharaj - 2']            2023        India  \n",
      "523  ['D Madushanka - 4', 'CAK Rajitha - 4']            2023        India  \n",
      "524       ['TA Boult - 3', 'MJ Santner - 2']            2023        India  \n",
      "525   ['BFW de Leede - 4', 'Haris Rauf - 3']            2023        India  \n",
      "\n",
      "[165 rows x 14 columns]\n"
     ]
    }
   ],
   "source": [
    "# Filter rows where team_1_wickets <1\n",
    "low_wicket_matches_1 = crick_df[crick_df['team_1_wickets'] < 1]\n",
    "\n",
    "# Display the filtered rows\n",
    "print(low_wicket_matches_1)"
   ]
  },
  {
   "cell_type": "code",
   "execution_count": 62,
   "id": "a2a3fabb",
   "metadata": {},
   "outputs": [
    {
     "name": "stdout",
     "output_type": "stream",
     "text": [
      "Empty DataFrame\n",
      "Columns: [venue, match_category, team_1, team_2, team_1_runs, team_1_wickets, team_2_runs, team_2_wickets, result, pom, best_batters, best_bowlers, world_cup_year, host_country]\n",
      "Index: []\n"
     ]
    }
   ],
   "source": [
    "# Filter rows where team_2_wickets > 10\n",
    "high_wicket_matches_2 = crick_df[crick_df['team_2_wickets'] > 10]\n",
    "\n",
    "# Display the filtered rows\n",
    "print(high_wicket_matches_2)"
   ]
  },
  {
   "cell_type": "code",
   "execution_count": 63,
   "id": "f4cadec6",
   "metadata": {},
   "outputs": [
    {
     "name": "stdout",
     "output_type": "stream",
     "text": [
      "           venue match_category team_1 team_2  team_1_runs  team_1_wickets  \\\n",
      "0     Nottingham   League-Match    PAK     SL        330.0             6.0   \n",
      "1          Leeds   League-Match    EAf    IND        120.0             0.0   \n",
      "3     Birmingham   League-Match    ENG    EAf        290.0             5.0   \n",
      "7          Leeds   League-Match    AUS    PAK        278.0             7.0   \n",
      "8     Nottingham   League-Match    PAK     SL        330.0             6.0   \n",
      "..           ...            ...    ...    ...          ...             ...   \n",
      "521     Wankhede     Semi-Final    IND     NZ        397.0             4.0   \n",
      "522     Wankhede   League-Match     SA    ENG        399.0             7.0   \n",
      "525    Hyderabad   League-Match    PAK    NED        286.0             0.0   \n",
      "526    Bengaluru   League-Match    IND    NED        410.0             4.0   \n",
      "527   Dharamsala   League-Match    ENG    BAN        364.0             9.0   \n",
      "\n",
      "     team_2_runs  team_2_wickets  \\\n",
      "0          138.0             0.0   \n",
      "1          123.0             0.0   \n",
      "3           94.0             0.0   \n",
      "7          205.0             0.0   \n",
      "8          138.0             0.0   \n",
      "..           ...             ...   \n",
      "521        327.0             0.0   \n",
      "522        170.0             0.0   \n",
      "525        205.0             0.0   \n",
      "526        250.0             0.0   \n",
      "527        227.0             0.0   \n",
      "\n",
      "                                                result               pom  \\\n",
      "0                             Pakistan won by 192 runs      Zaheer Abbas   \n",
      "1    India won by 10 wickets (with 181 balls remain...   Farokh Engineer   \n",
      "3                              England won by 196 runs         John Snow   \n",
      "7                             Australia won by 73 runs     Dennis Lillee   \n",
      "8                             Pakistan won by 192 runs      Zaheer Abbas   \n",
      "..                                                 ...               ...   \n",
      "521                     P1 v P4 - India won by 70 runs    Mohammed Shami   \n",
      "522                       South Africa won by 229 runs  Heinrich Klaasen   \n",
      "525                            Pakistan won by 81 runs      Saud Shakeel   \n",
      "526                              India won by 160 runs      Shreyas Iyer   \n",
      "527                            England won by 137 runs       Dawid Malan   \n",
      "\n",
      "                                          best_batters  \\\n",
      "0                                                  NaN   \n",
      "1                                                  NaN   \n",
      "3                                                  NaN   \n",
      "7                                                  NaN   \n",
      "8                                                  NaN   \n",
      "..                                                 ...   \n",
      "521  ['DJ Mitchell - 134 runs ', 'V Kohli - 117 run...   \n",
      "522  ['H Klaasen - 109 runs ', 'RR Hendricks - 85 r...   \n",
      "525  ['Saud Shakeel - 68 runs ', 'Mohammad Rizwan -...   \n",
      "526    ['SS Iyer - 128 runs ', 'KL Rahul - 102 runs ']   \n",
      "527     ['DJ Malan - 140 runs ', 'JE Root - 82 runs ']   \n",
      "\n",
      "                                 best_bowlers  world_cup_year host_country  \n",
      "0                                         NaN            1975      England  \n",
      "1                                         NaN            1975      England  \n",
      "3                                         NaN            1975      England  \n",
      "7                                         NaN            1975      England  \n",
      "8                                         NaN            1975      England  \n",
      "..                                        ...             ...          ...  \n",
      "521  ['Mohammed Shami - 7', 'TG Southee - 3']            2023        India  \n",
      "522       ['G Coetzee - 3', 'RJW Topley - 3']            2023        India  \n",
      "525    ['BFW de Leede - 4', 'Haris Rauf - 3']            2023        India  \n",
      "526    ['JJ Bumrah - 2', 'Kuldeep Yadav - 2']            2023        India  \n",
      "527    ['RJW Topley - 4', 'Mahedi Hasan - 4']            2023        India  \n",
      "\n",
      "[216 rows x 14 columns]\n"
     ]
    }
   ],
   "source": [
    "# Filter rows where team_2_wickets <1\n",
    "low_wicket_matches_2 = crick_df[crick_df['team_2_wickets'] < 1]\n",
    "# Display the filtered rows\n",
    "print(low_wicket_matches_2)"
   ]
  },
  {
   "cell_type": "markdown",
   "id": "3f9a22f9",
   "metadata": {},
   "source": [
    "There are no extreme values for the wicket counts."
   ]
  },
  {
   "cell_type": "markdown",
   "id": "8c541875",
   "metadata": {},
   "source": [
    "Missing Value Imputation"
   ]
  },
  {
   "cell_type": "code",
   "execution_count": 64,
   "id": "603f92bb",
   "metadata": {},
   "outputs": [
    {
     "name": "stdout",
     "output_type": "stream",
     "text": [
      "venue               0\n",
      "match_category      0\n",
      "team_1              0\n",
      "team_2              0\n",
      "team_1_runs        10\n",
      "team_1_wickets     10\n",
      "team_2_runs        15\n",
      "team_2_wickets     15\n",
      "result              0\n",
      "pom                18\n",
      "best_batters      278\n",
      "best_bowlers      278\n",
      "world_cup_year      0\n",
      "host_country        0\n",
      "dtype: int64\n"
     ]
    }
   ],
   "source": [
    "# checking null values\n",
    "print(crick_df.isnull().sum())"
   ]
  },
  {
   "cell_type": "markdown",
   "id": "eb6fac94",
   "metadata": {},
   "source": [
    "In the dataset, the most past year's data lacks entries for \"Player of the Match,\" \"Best Batter,\" and \"Best Bowler.\" Since these columns are important, we cannot remove the rows or drop the columns entirely. Therefore, we will replace the null values with the placeholder \"Not Mentioned.\""
   ]
  },
  {
   "cell_type": "code",
   "execution_count": 65,
   "id": "fc7bb2e8",
   "metadata": {},
   "outputs": [
    {
     "name": "stdout",
     "output_type": "stream",
     "text": [
      "                  pom   best_batters   best_bowlers\n",
      "0        Zaheer Abbas  Not Mentioned  Not Mentioned\n",
      "1     Farokh Engineer  Not Mentioned  Not Mentioned\n",
      "2        Gary Gilmour  Not Mentioned  Not Mentioned\n",
      "3           John Snow  Not Mentioned  Not Mentioned\n",
      "4  Alvin Kallicharran  Not Mentioned  Not Mentioned\n"
     ]
    }
   ],
   "source": [
    "# Columns to replace null values\n",
    "columns_to_replace = ['pom', 'best_batters', 'best_bowlers']\n",
    "\n",
    "# Replace null values with \"Not Mentioned\"\n",
    "crick_df[columns_to_replace] = crick_df[columns_to_replace].fillna(\"Not Mentioned\")\n",
    "\n",
    "# Verify the changes\n",
    "print(crick_df[columns_to_replace].head())"
   ]
  },
  {
   "cell_type": "markdown",
   "id": "6c0f1547",
   "metadata": {},
   "source": [
    "Removing records with null values"
   ]
  },
  {
   "cell_type": "code",
   "execution_count": 66,
   "id": "451fd1e7",
   "metadata": {},
   "outputs": [
    {
     "name": "stdout",
     "output_type": "stream",
     "text": [
      "venue              0\n",
      "match_category     0\n",
      "team_1             0\n",
      "team_2             0\n",
      "team_1_runs       10\n",
      "team_1_wickets    10\n",
      "team_2_runs       15\n",
      "team_2_wickets    15\n",
      "result             0\n",
      "pom                0\n",
      "best_batters       0\n",
      "best_bowlers       0\n",
      "world_cup_year     0\n",
      "host_country       0\n",
      "dtype: int64\n"
     ]
    }
   ],
   "source": [
    "# checking null values\n",
    "print(crick_df.isnull().sum())"
   ]
  },
  {
   "cell_type": "code",
   "execution_count": 67,
   "id": "b9434a91",
   "metadata": {},
   "outputs": [
    {
     "name": "stdout",
     "output_type": "stream",
     "text": [
      "venue             0\n",
      "match_category    0\n",
      "team_1            0\n",
      "team_2            0\n",
      "team_1_runs       0\n",
      "team_1_wickets    0\n",
      "team_2_runs       0\n",
      "team_2_wickets    0\n",
      "result            0\n",
      "pom               0\n",
      "best_batters      0\n",
      "best_bowlers      0\n",
      "world_cup_year    0\n",
      "host_country      0\n",
      "dtype: int64\n"
     ]
    }
   ],
   "source": [
    "# Remove rows with any null values\n",
    "crick_df = crick_df.dropna()\n",
    "\n",
    "# checking null values\n",
    "print(crick_df.isnull().sum())\n"
   ]
  },
  {
   "cell_type": "markdown",
   "id": "9ff0de37",
   "metadata": {},
   "source": [
    "# Adding New Columns\n",
    "### Match Status"
   ]
  },
  {
   "cell_type": "code",
   "execution_count": 68,
   "id": "e3437353",
   "metadata": {},
   "outputs": [],
   "source": [
    "# Define a function to check the status of a match\n",
    "def check_abandoned(row):\n",
    "    # List of column indices to check for null or empty values\n",
    "    columns_to_check = ['team_1_runs','team_1_wickets','team_2_runs','team_2_wickets']\n",
    "\n",
    "    # Check if any of the specified columns are null or empty\n",
    "    if any(pd.isnull(row[col]) or row[col] == '' for col in columns_to_check):\n",
    "        return 'abandoned'\n",
    "\n",
    "    # Check if the value in column 11 is 'No result'\n",
    "    if row['result'] == 'No result':\n",
    "        return 'abandoned'\n",
    "\n",
    "    # If none of the above conditions are met, return 'played'\n",
    "    return 'played'\n",
    "\n",
    "# Apply the function to each row of the DataFrame and create a new column 'match_status'\n",
    "crick_df['match_status'] = crick_df.apply(check_abandoned, axis=1)"
   ]
  },
  {
   "cell_type": "markdown",
   "id": "b7726937",
   "metadata": {},
   "source": [
    "### Winning Team\n",
    "\n",
    "1. A string column indicating the winning team of the match.\n",
    "2. If the match was abandoned, leave this column empty. Otherwise, derive the\n",
    "winning team from the result column."
   ]
  },
  {
   "cell_type": "code",
   "execution_count": 69,
   "id": "a24bcfe5",
   "metadata": {},
   "outputs": [],
   "source": [
    "# Function to derive the winning team from the match result\n",
    "def get_winning_team(row):\n",
    "    if row['match_status'] == 'abandoned':\n",
    "        return ''\n",
    "    return row['result'].split(' won')[0]\n",
    "\n",
    "# Apply the function to each row of the DataFrame and create a new column 'winning_team'\n",
    "crick_df['winning_team'] = crick_df.apply(get_winning_team, axis=1)"
   ]
  },
  {
   "cell_type": "code",
   "execution_count": 70,
   "id": "9bbf9638",
   "metadata": {},
   "outputs": [
    {
     "data": {
      "text/plain": [
       "array(['Pakistan', 'India', 'Australia', 'England', 'West Indies',\n",
       "       'New Zealand', 'Sri Lanka', 'Zimbabwe', 'South Africa', '',\n",
       "       'Kenya', 'U.A.E.', 'Match tied', 'Bangladesh',\n",
       "       'Match tied (D/L method)', 'Netherlands', 'Canada',\n",
       "       'D2 v B2 - West Indies', 'A1 v C1 - Australia', 'Ireland',\n",
       "       'Winner QF4 (NZ v WI) v Winner QF1 (SA) - New Zealand',\n",
       "       'Afghanistan', 'Match tied (England', 'P2 v P3 - Australia',\n",
       "       'P1 v P4 - India'], dtype=object)"
      ]
     },
     "execution_count": 70,
     "metadata": {},
     "output_type": "execute_result"
    }
   ],
   "source": [
    "crick_df['winning_team'].unique()"
   ]
  },
  {
   "cell_type": "markdown",
   "id": "fcde0bcb",
   "metadata": {},
   "source": [
    "Now we have some unexpected values so we replace them with proper result."
   ]
  },
  {
   "cell_type": "code",
   "execution_count": 71,
   "id": "aa575095",
   "metadata": {},
   "outputs": [],
   "source": [
    "crick_df['winning_team']=crick_df['winning_team'].str.replace('Winner QF4 (NZ v WI) v Winner QF1 (SA) - New Zealand',' New Zealand')\n",
    "crick_df['winning_team']=crick_df['winning_team'].str.replace('Match tied (England','England')\n",
    "crick_df['winning_team']=crick_df['winning_team'].str.replace('D2 v B2 - West Indies','West Indies')\n",
    "crick_df['winning_team']=crick_df['winning_team'].str.replace('P2 v P3 - Australia','Australia')\n",
    "crick_df['winning_team']=crick_df['winning_team'].str.replace('A1 v C1 - Australia','Australia')\n",
    "crick_df['winning_team']=crick_df['winning_team'].str.replace('P1 v P4 - India','India')"
   ]
  },
  {
   "cell_type": "code",
   "execution_count": 72,
   "id": "07a6c8b6",
   "metadata": {},
   "outputs": [
    {
     "name": "stdout",
     "output_type": "stream",
     "text": [
      "Index(['venue', 'match_category', 'team_1', 'team_2', 'team_1_runs',\n",
      "       'team_1_wickets', 'team_2_runs', 'team_2_wickets', 'result', 'pom',\n",
      "       'best_batters', 'best_bowlers', 'world_cup_year', 'host_country',\n",
      "       'match_status', 'winning_team'],\n",
      "      dtype='object')\n"
     ]
    }
   ],
   "source": [
    "print(crick_df.columns)"
   ]
  },
  {
   "cell_type": "markdown",
   "id": "0593f94f",
   "metadata": {},
   "source": [
    "# Spliting Best bowler and best Batter columns"
   ]
  },
  {
   "cell_type": "code",
   "execution_count": 73,
   "id": "ab69a64d",
   "metadata": {},
   "outputs": [],
   "source": [
    "# Remove specified symbols including inverted commas from the 'best_batters' and 'best_bowlwers' column\n",
    "crick_df['best_batters'] = crick_df['best_batters'].str.replace(r\"[\\[\\]']\", '', regex=True)\n",
    "crick_df['best_bowlers'] = crick_df['best_bowlers'].str.replace(r\"[\\[\\]']\", '', regex=True)\n",
    "\n",
    "# Battings\n",
    "\n",
    "# Split the 'best_batters' column into two new columns: 'best_batter_1_details' and 'best_batter_2_details'\n",
    "crick_df[['best_batter_1_details', 'best_batter_2_details']] = crick_df['best_batters'].str.split(',', expand=True)\n",
    "# Split the 'best_batter_1_details' column into two new columns: 'best_batter_1' and 'best_batter_1_runs'\n",
    "crick_df[['best_batter_1', 'best_batter_1_runs']] = crick_df['best_batter_1_details'].str.split(' - ', expand=True)\n",
    "# Split the 'best_batter_2_details' column into two new columns: 'best_batter_2' and 'best_batter_2_runs'\n",
    "crick_df[['best_batter_2', 'best_batter_2_runs']] = crick_df['best_batter_2_details'].str.split(' - ', expand=True)\n",
    "# Drop the now unnecessary 'best_batter_1_details' and 'best_batter_2_details' columns\n",
    "crick_df.drop(['best_batter_1_details', 'best_batter_2_details'], axis=1, inplace=True)\n",
    "\n",
    "\n",
    "\n",
    "# Bowling\n",
    "\n",
    "# Split the 'best_bowlers' column into two new columns: 'best_bowler_1_details' and 'best_bowler_2_details'\n",
    "crick_df[['best_bowler_1_details', 'best_bowler_2_details']] = crick_df['best_bowlers'].str.split(',', expand=True)\n",
    "# Split the 'best_bowler_1_details' column into two new columns: 'best_bowler_1' and 'best_bowler_1_runs'\n",
    "crick_df[['best_bowler_1', 'best_bowler_1_wic']] = crick_df['best_bowler_1_details'].str.split(' - ', expand=True)\n",
    "# Split the 'best_bowler_2_details' column into two new columns: 'best_bowler_2' and 'best_bowler_2_runs'\n",
    "crick_df[['best_bowler_2', 'best_bowler_2_wick']] = crick_df['best_bowler_2_details'].str.split(' - ', expand=True)\n",
    "# Drop the now unnecessary 'best_bowler_1_details' and 'best_bowler_2_details' columns\n",
    "crick_df.drop(['best_bowler_1_details', 'best_bowler_2_details'], axis=1, inplace=True)"
   ]
  },
  {
   "cell_type": "code",
   "execution_count": 74,
   "id": "d90a6f13-be87-4f53-a388-4f4665737a30",
   "metadata": {},
   "outputs": [
    {
     "name": "stdout",
     "output_type": "stream",
     "text": [
      "Index(['venue', 'match_category', 'team_1', 'team_2', 'team_1_runs',\n",
      "       'team_1_wickets', 'team_2_runs', 'team_2_wickets', 'result', 'pom',\n",
      "       'best_batters', 'best_bowlers', 'world_cup_year', 'host_country',\n",
      "       'match_status', 'winning_team', 'best_batter_1', 'best_batter_1_runs',\n",
      "       'best_batter_2', 'best_batter_2_runs', 'best_bowler_1',\n",
      "       'best_bowler_1_wic', 'best_bowler_2', 'best_bowler_2_wick'],\n",
      "      dtype='object')\n"
     ]
    }
   ],
   "source": [
    "print(crick_df.columns)"
   ]
  },
  {
   "cell_type": "markdown",
   "id": "e449cb87-9ed1-4cb0-b5bb-06b4de6f961c",
   "metadata": {},
   "source": [
    "Data Preparation \n",
    "\n",
    "Renaming the country names"
   ]
  },
  {
   "cell_type": "code",
   "execution_count": 75,
   "id": "3d559bf4-dd83-43c2-9930-97029285545a",
   "metadata": {},
   "outputs": [
    {
     "data": {
      "text/plain": [
       "array(['PAK', 'EAf', 'ENG', 'NZ', 'AUS', 'SL', 'IND', 'WI', 'CAN', 'ZIM',\n",
       "       'SA', 'Australia', 'UAE', 'NED', 'KENYA', 'BAN', 'SCOT', 'IRE',\n",
       "       'BER', 'AFG'], dtype=object)"
      ]
     },
     "execution_count": 75,
     "metadata": {},
     "output_type": "execute_result"
    }
   ],
   "source": [
    "crick_df['team_1'].unique()"
   ]
  },
  {
   "cell_type": "code",
   "execution_count": 76,
   "id": "9169b309-d42e-477a-bdf1-5142e4aacc82",
   "metadata": {},
   "outputs": [],
   "source": [
    "crick_df['team_1']=crick_df['team_1'].str.replace('Australia','AUS')\n",
    "crick_df['team_1']=crick_df['team_1'].str.replace('KENYA','KEN')"
   ]
  },
  {
   "cell_type": "code",
   "execution_count": 77,
   "id": "aadf14ae-5e02-4c7f-8294-53321d87ec12",
   "metadata": {},
   "outputs": [
    {
     "data": {
      "text/plain": [
       "array(['PAK', 'EAf', 'ENG', 'NZ', 'AUS', 'SL', 'IND', 'WI', 'CAN', 'ZIM',\n",
       "       'SA', 'UAE', 'NED', 'KEN', 'BAN', 'SCOT', 'IRE', 'BER', 'AFG'],\n",
       "      dtype=object)"
      ]
     },
     "execution_count": 77,
     "metadata": {},
     "output_type": "execute_result"
    }
   ],
   "source": [
    "crick_df['team_1'].unique()"
   ]
  },
  {
   "cell_type": "code",
   "execution_count": 78,
   "id": "66287d85-1696-4f32-9c56-977956c1a473",
   "metadata": {},
   "outputs": [
    {
     "name": "stdout",
     "output_type": "stream",
     "text": [
      "[1]\n"
     ]
    }
   ],
   "source": [
    "row_index = crick_df.index[crick_df['team_1'] == 'EAf'].tolist()\n",
    "print(row_index)"
   ]
  },
  {
   "cell_type": "code",
   "execution_count": 79,
   "id": "21ede646-3608-4473-ad11-0b84e91b7167",
   "metadata": {},
   "outputs": [
    {
     "data": {
      "text/plain": [
       "array(['SL', 'IND', 'AUS', 'EAf', 'WI', 'PAK', 'NZ', 'ENG', 'ZIM', 'SA',\n",
       "       'KENYA', 'UAE', 'West Indies', 'NED', 'SCOT', 'NAM', 'CAN', 'BAN',\n",
       "       'IRE', 'BER', 'AFG'], dtype=object)"
      ]
     },
     "execution_count": 79,
     "metadata": {},
     "output_type": "execute_result"
    }
   ],
   "source": [
    "crick_df['team_2'].unique()"
   ]
  },
  {
   "cell_type": "code",
   "execution_count": 80,
   "id": "649592e3-5d6f-49f7-8942-9a00dd4659c8",
   "metadata": {},
   "outputs": [],
   "source": [
    "crick_df['team_2']=crick_df['team_2'].str.replace('West Indies','WI')\n",
    "crick_df['team_2']=crick_df['team_2'].str.replace('KENYA','KEN')"
   ]
  },
  {
   "cell_type": "code",
   "execution_count": 84,
   "id": "7c39928f-b80d-48fb-baa8-ab54687d2345",
   "metadata": {},
   "outputs": [
    {
     "data": {
      "text/plain": [
       "array(['SL', 'IND', 'AUS', 'EAf', 'WI', 'PAK', 'NZ', 'ENG', 'ZIM', 'SA',\n",
       "       'KEN', 'UAE', 'NED', 'SCOT', 'NAM', 'CAN', 'BAN', 'IRE', 'BER',\n",
       "       'AFG'], dtype=object)"
      ]
     },
     "execution_count": 84,
     "metadata": {},
     "output_type": "execute_result"
    }
   ],
   "source": [
    "crick_df['team_2'].unique()"
   ]
  },
  {
   "cell_type": "markdown",
   "id": "af8cfaa5-d9c5-4f3a-a121-66ba0312dc00",
   "metadata": {},
   "source": [
    "Making a list of years"
   ]
  },
  {
   "cell_type": "code",
   "execution_count": 91,
   "id": "360194c3-eefe-40c3-8924-a9141c248103",
   "metadata": {},
   "outputs": [
    {
     "name": "stdout",
     "output_type": "stream",
     "text": [
      "[1975 1979 1983 1987 1992 1996 1999 2003 2007 2011 2015 2019 2023]\n"
     ]
    }
   ],
   "source": [
    "years = crick_df['world_cup_year'].unique()  # Get unique values from team_1\n",
    "\n",
    "# Now 'countries' contains the unique values from both columns without duplicates\n",
    "print(years)"
   ]
  },
  {
   "cell_type": "markdown",
   "id": "7e87cf68-8099-4e38-b5c5-f1b06c506db9",
   "metadata": {},
   "source": [
    "Making a list of countries"
   ]
  },
  {
   "cell_type": "code",
   "execution_count": 92,
   "id": "37e21417-e582-4d42-a1ca-7ba0e5f7caba",
   "metadata": {},
   "outputs": [
    {
     "name": "stdout",
     "output_type": "stream",
     "text": [
      "['BAN', 'KEN', 'SCOT', 'BER', 'SA', 'NAM', 'IND', 'WI', 'CAN', 'EAf', 'AUS', 'PAK', 'NZ', 'NED', 'IRE', 'SL', 'ZIM', 'UAE', 'ENG', 'AFG']\n"
     ]
    }
   ],
   "source": [
    "# Assuming you have the crick_df DataFrame with team_1 and team_2 columns\n",
    "team_1_unique = crick_df['team_1'].unique()  # Get unique values from team_1\n",
    "team_2_unique = crick_df['team_2'].unique()  # Get unique values from team_2\n",
    "\n",
    "# Merge the two lists and remove duplicates\n",
    "countries = list(set(team_1_unique) | set(team_2_unique))  # Union of both lists\n",
    "\n",
    "# Now 'countries' contains the unique values from both columns without duplicates\n",
    "print(countries)\n"
   ]
  },
  {
   "cell_type": "markdown",
   "id": "4554c84d-929b-48ce-9202-782160842c2a",
   "metadata": {},
   "source": [
    "Bar Chart 1\n",
    "\n",
    "Data preparation for the bar chart which shows the average runs scored by each country against other countries"
   ]
  },
  {
   "cell_type": "code",
   "execution_count": 93,
   "id": "b60c553b-54f5-4f4e-b6fc-23f5df017e7b",
   "metadata": {},
   "outputs": [
    {
     "name": "stdout",
     "output_type": "stream",
     "text": [
      "{'Bangladesh': {'NZ': 210.83333333333334, 'AUS': 230.25, 'PAK': 216.0, 'WI': 145.0, 'SCOT': 253.5, 'SL': 189.5, 'SA': 200.0, 'ENG': 230.4, 'IRE': 187.0, 'AFG': 229.0, 'IND': 242.0, 'CAN': 120.0, 'KEN': 185.0, 'BER': 96.0, 'NED': 154.0}, 'Kenya': {'ZIM': 156.0, 'WI': 135.0, 'IND': 209.5, 'SA': 146.0, 'ENG': 190.0, 'AUS': 215.0, 'SL': 209.0, 'BAN': 217.0, 'NZ': 126.0, 'CAN': 199.66666666666666, 'PAK': 112.0}, 'Scotland': {'NZ': 131.5, 'AUS': 147.33333333333334, 'WI': 68.0, 'SA': 186.0, 'NED': 136.0, 'BAN': 240.5, 'AFG': 210.0, 'PAK': 167.0, 'SL': 215.0, 'ENG': 184.0}, 'Bermuda': {'BAN': 94.0, 'SL': 78.0, 'IND': 156.0}, 'South Africa': {'PAK': 234.5, 'WI': 284.5, 'ENG': 231.375, 'SL': 226.875, 'NZ': 245.0, 'UAE': 331.0, 'NED': 318.4, 'AUS': 235.22222222222223, 'CAN': 254.0, 'BAN': 253.6, 'IRE': 282.6666666666667, 'ZIM': 229.33333333333334, 'IND': 203.66666666666666, 'KEN': 147.5, 'SCOT': 188.0, 'AFG': 208.33333333333334}, 'Namibia': {'ENG': 217.0, 'PAK': 84.0, 'ZIM': 104.0, 'AUS': 45.0, 'NED': 250.0, 'IND': 130.0}, 'India': {'NZ': 238.5, 'WI': 211.7, 'ZIM': 221.66666666666666, 'AUS': 235.0, 'PAK': 261.75, 'SA': 265.3333333333333, 'SL': 259.0, 'KEN': 257.0, 'ENG': 236.9, 'NED': 268.3333333333333, 'NAM': 311.0, 'BAN': 287.6, 'BER': 413.0, 'AFG': 248.5, 'EAf': 123.0, 'IRE': 235.0, 'UAE': 104.0}, 'West Indies': {'AUS': 220.9, 'PAK': 228.23076923076923, 'ENG': 236.85714285714286, 'NZ': 210.7, 'IND': 189.8, 'SL': 239.71428571428572, 'ZIM': 220.0, 'SA': 223.33333333333334, 'BAN': 207.4, 'KEN': 169.5, 'NED': 330.0, 'IRE': 256.3333333333333, 'AFG': 311.0, 'SCOT': 70.0, 'CAN': 206.0, 'UAE': 176.0}, 'Canada': {'ENG': 106.0, 'AUS': 158.0, 'PAK': 138.5, 'KEN': 198.33333333333334, 'NZ': 241.75, 'BAN': 180.0, 'WI': 202.0, 'SL': 79.0, 'SA': 136.0, 'ZIM': 123.0}, 'East Africa': {'IND': 120.0, 'ENG': 94.0, 'NZ': 128.0}, 'Australia': {'PAK': 244.36363636363637, 'SL': 272.8, 'WI': 226.3, 'ENG': 226.9, 'ZIM': 248.33333333333334, 'IND': 254.28571428571428, 'NZ': 236.92307692307693, 'SA': 229.11111111111111, 'KEN': 268.6666666666667, 'NED': 309.0, 'NAM': 301.0, 'SCOT': 216.33333333333334, 'AFG': 306.3333333333333, 'BAN': 243.75, 'CAN': 159.0, 'IRE': 92.0}, 'Pakistan': {'SL': 292.77777777777777, 'WI': 203.15384615384616, 'AUS': 232.45454545454547, 'ENG': 217.08333333333334, 'NZ': 233.8181818181818, 'ZIM': 254.6, 'SA': 239.16666666666666, 'SCOT': 261.0, 'NAM': 255.0, 'IND': 216.5, 'NED': 230.0, 'IRE': 186.5, 'CAN': 162.0, 'KEN': 317.0, 'UAE': 225.5, 'BAN': 227.0, 'AFG': 256.0}, 'New Zealand': {'WI': 238.7, 'EAf': 309.0, 'SL': 204.69230769230768, 'PAK': 249.63636363636363, 'IND': 234.33333333333334, 'ZIM': 186.83333333333334, 'AUS': 206.69230769230768, 'UAE': 276.0, 'NED': 314.5, 'SA': 215.33333333333334, 'ENG': 214.83333333333334, 'IRE': 263.0, 'CAN': 319.0, 'KEN': 201.5, 'AFG': 216.33333333333334, 'BAN': 213.33333333333334, 'SCOT': 134.5}, 'Netherlands': {'PAK': 168.66666666666666, 'UAE': 216.0, 'NAM': 314.0, 'ENG': 210.75, 'IRE': 306.0, 'IND': 191.66666666666666, 'BAN': 194.5, 'SA': 159.4, 'AFG': 179.0, 'SL': 262.0, 'NZ': 205.5, 'AUS': 113.66666666666667, 'ZIM': 202.0, 'SCOT': 140.0, 'WI': 115.0}, 'Ireland': {'WI': 240.33333333333334, 'SL': 77.0, 'ZIM': 276.0, 'SA': 167.66666666666666, 'BAN': 210.5, 'AUS': 91.0, 'IND': 233.0, 'PAK': 185.0, 'NZ': 134.0, 'ENG': 273.5, 'NED': 307.0, 'UAE': 279.0}, 'Sri Lanka': {'WI': 216.0, 'IND': 214.77777777777777, 'NZ': 215.30769230769232, 'ENG': 219.42857142857142, 'PAK': 227.33333333333334, 'AUS': 226.5, 'KEN': 244.0, 'SA': 207.0, 'ZIM': 264.6, 'BAN': 263.75, 'BER': 321.0, 'CAN': 184.5, 'SCOT': 363.0, 'AFG': 226.0, 'IRE': 81.0, 'NED': 263.0}, 'Zimbabwe': {'AUS': 197.88888888888889, 'WI': 195.71428571428572, 'IND': 193.11111111111111, 'NZ': 193.33333333333334, 'ENG': 150.5, 'SA': 224.33333333333334, 'SL': 221.4, 'NAM': 340.0, 'KEN': 188.4, 'NED': 301.0, 'CAN': 298.0, 'PAK': 157.8, 'IRE': 273.5, 'UAE': 286.0}, 'U.A.E.': {'PAK': 159.5, 'ENG': 136.0, 'IRE': 278.0, 'WI': 175.0, 'IND': 102.0, 'ZIM': 285.0, 'SA': 173.5, 'NZ': 167.0, 'NED': 220.0}, 'England': {'AUS': 205.4, 'EAf': 290.0, 'NZ': 239.33333333333334, 'IND': 243.2, 'PAK': 234.66666666666666, 'SL': 241.85714285714286, 'WI': 232.28571428571428, 'SA': 192.375, 'NED': 264.5, 'NAM': 272.0, 'IRE': 296.5, 'CAN': 123.66666666666667, 'BAN': 276.4, 'SCOT': 303.0, 'AFG': 237.66666666666666, 'ZIM': 146.5, 'UAE': 140.0, 'KEN': 191.0}, 'Afghanistan': {'ENG': 214.0, 'SL': 208.66666666666666, 'NZ': 165.66666666666666, 'SA': 204.33333333333334, 'AUS': 213.33333333333334, 'PAK': 256.5, 'BAN': 172.66666666666666, 'IND': 242.5, 'SCOT': 211.0, 'WI': 288.0, 'NED': 181.0}}\n"
     ]
    }
   ],
   "source": [
    "result_dict = {}\n",
    "for teams_y_country in countries:\n",
    "  index_list_1 = crick_df.loc[crick_df['team_1'] == teams_y_country].index.tolist()\n",
    "  index_list_2 = crick_df.loc[crick_df['team_2'] == teams_y_country].index.tolist()\n",
    "  # print(index_list_1)\n",
    "  # print(index_list_2)\n",
    "  team_x_Country = crick_df.loc[index_list_1, 'team_2'].tolist()+crick_df.loc[index_list_2, 'team_1'].tolist()\n",
    "  # print(team_x_Country)\n",
    "  team_x_runs = crick_df.loc[index_list_1, 'team_1_runs'].tolist()+crick_df.loc[index_list_2, 'team_2_runs'].tolist()\n",
    "  # print(team_x_runs)\n",
    "\n",
    "\n",
    "  # subjects =team_x_Country\n",
    "  # scores = team_x_runs\n",
    "\n",
    "  # Create a dictionary to store the count and sum of scores for each teams\n",
    "  subject_data = {}\n",
    "  for team, runs in zip(team_x_Country, team_x_runs):\n",
    "      # Initialize an empty dictionary for the country if it doesn't exist\n",
    "      subject_data.setdefault(team, {\"count\": 0, \"sum\": 0})\n",
    "\n",
    "      # Update the count and sum for the country\n",
    "      subject_data[team][\"count\"] += 1\n",
    "      subject_data[team][\"sum\"] += runs\n",
    "\n",
    "\n",
    "  # Calculate the mean for each country\n",
    "  country_means = {team_x_Country: data[\"sum\"] / data[\"count\"] for team_x_Country, data in subject_data.items()}\n",
    "  result_dict[teams_y_country]=country_means\n",
    "  # print(teams_y_country,country_means)\n",
    "\n",
    "Country_short_to_long = {\n",
    "    'KEN': 'Kenya',\n",
    "    'NED': 'Netherlands',\n",
    "    'CAN': 'Canada',\n",
    "    'IRE': 'Ireland',\n",
    "    'UAE': 'U.A.E.',\n",
    "    'SA': 'South Africa',\n",
    "    'AFG': 'Afghanistan',\n",
    "    'NAM': 'Namibia',\n",
    "    'NZ': 'New Zealand',\n",
    "    'EAf': 'East Africa',\n",
    "    'PAK': 'Pakistan',\n",
    "    'WI': 'West Indies',\n",
    "    'BER': 'Bermuda',\n",
    "    'SCOT': 'Scotland',\n",
    "    'ENG': 'England',\n",
    "    'AUS': 'Australia',\n",
    "    'SL': 'Sri Lanka',\n",
    "    'ZIM': 'Zimbabwe',\n",
    "    'IND': 'India',\n",
    "    'BAN': 'Bangladesh',\n",
    "    'Tied': 'Match tied'\n",
    "}\n",
    "\n",
    "# Renaming the first-level keys\n",
    "result_dict = {Country_short_to_long.get(k, k): v for k, v in result_dict.items()}\n",
    "\n",
    "\n",
    "# Display the bar chart result\n",
    "print(result_dict)"
   ]
  },
  {
   "cell_type": "code",
   "execution_count": 94,
   "id": "c48f8645-0d42-4660-93a4-21df0e591a84",
   "metadata": {},
   "outputs": [
    {
     "data": {
      "application/vnd.plotly.v1+json": {
       "config": {
        "plotlyServerURL": "https://plot.ly"
       },
       "data": [
        {
         "customdata": [
          "Bangladesh",
          "Bangladesh",
          "Bangladesh",
          "Bangladesh",
          "Bangladesh",
          "Bangladesh",
          "Bangladesh",
          "Bangladesh",
          "Bangladesh",
          "Bangladesh",
          "Bangladesh",
          "Bangladesh",
          "Bangladesh",
          "Bangladesh",
          "Bangladesh"
         ],
         "hovertemplate": "<b>%{customdata}</b> gets %{y:.1f} average scores against %{x}<extra></extra>",
         "name": "Bangladesh",
         "type": "bar",
         "visible": true,
         "x": [
          "NZ",
          "AUS",
          "PAK",
          "WI",
          "SCOT",
          "SL",
          "SA",
          "ENG",
          "IRE",
          "AFG",
          "IND",
          "CAN",
          "KEN",
          "BER",
          "NED"
         ],
         "y": [
          210.83333333333334,
          230.25,
          216,
          145,
          253.5,
          189.5,
          200,
          230.4,
          187,
          229,
          242,
          120,
          185,
          96,
          154
         ]
        },
        {
         "customdata": [
          "Kenya",
          "Kenya",
          "Kenya",
          "Kenya",
          "Kenya",
          "Kenya",
          "Kenya",
          "Kenya",
          "Kenya",
          "Kenya",
          "Kenya"
         ],
         "hovertemplate": "<b>%{customdata}</b> gets %{y:.1f} average scores against %{x}<extra></extra>",
         "name": "Kenya",
         "type": "bar",
         "visible": false,
         "x": [
          "ZIM",
          "WI",
          "IND",
          "SA",
          "ENG",
          "AUS",
          "SL",
          "BAN",
          "NZ",
          "CAN",
          "PAK"
         ],
         "y": [
          156,
          135,
          209.5,
          146,
          190,
          215,
          209,
          217,
          126,
          199.66666666666666,
          112
         ]
        },
        {
         "customdata": [
          "Scotland",
          "Scotland",
          "Scotland",
          "Scotland",
          "Scotland",
          "Scotland",
          "Scotland",
          "Scotland",
          "Scotland",
          "Scotland"
         ],
         "hovertemplate": "<b>%{customdata}</b> gets %{y:.1f} average scores against %{x}<extra></extra>",
         "name": "Scotland",
         "type": "bar",
         "visible": false,
         "x": [
          "NZ",
          "AUS",
          "WI",
          "SA",
          "NED",
          "BAN",
          "AFG",
          "PAK",
          "SL",
          "ENG"
         ],
         "y": [
          131.5,
          147.33333333333334,
          68,
          186,
          136,
          240.5,
          210,
          167,
          215,
          184
         ]
        },
        {
         "customdata": [
          "Bermuda",
          "Bermuda",
          "Bermuda"
         ],
         "hovertemplate": "<b>%{customdata}</b> gets %{y:.1f} average scores against %{x}<extra></extra>",
         "name": "Bermuda",
         "type": "bar",
         "visible": false,
         "x": [
          "BAN",
          "SL",
          "IND"
         ],
         "y": [
          94,
          78,
          156
         ]
        },
        {
         "customdata": [
          "South Africa",
          "South Africa",
          "South Africa",
          "South Africa",
          "South Africa",
          "South Africa",
          "South Africa",
          "South Africa",
          "South Africa",
          "South Africa",
          "South Africa",
          "South Africa",
          "South Africa",
          "South Africa",
          "South Africa",
          "South Africa"
         ],
         "hovertemplate": "<b>%{customdata}</b> gets %{y:.1f} average scores against %{x}<extra></extra>",
         "name": "South Africa",
         "type": "bar",
         "visible": false,
         "x": [
          "PAK",
          "WI",
          "ENG",
          "SL",
          "NZ",
          "UAE",
          "NED",
          "AUS",
          "CAN",
          "BAN",
          "IRE",
          "ZIM",
          "IND",
          "KEN",
          "SCOT",
          "AFG"
         ],
         "y": [
          234.5,
          284.5,
          231.375,
          226.875,
          245,
          331,
          318.4,
          235.22222222222223,
          254,
          253.6,
          282.6666666666667,
          229.33333333333334,
          203.66666666666666,
          147.5,
          188,
          208.33333333333334
         ]
        },
        {
         "customdata": [
          "Namibia",
          "Namibia",
          "Namibia",
          "Namibia",
          "Namibia",
          "Namibia"
         ],
         "hovertemplate": "<b>%{customdata}</b> gets %{y:.1f} average scores against %{x}<extra></extra>",
         "name": "Namibia",
         "type": "bar",
         "visible": false,
         "x": [
          "ENG",
          "PAK",
          "ZIM",
          "AUS",
          "NED",
          "IND"
         ],
         "y": [
          217,
          84,
          104,
          45,
          250,
          130
         ]
        },
        {
         "customdata": [
          "India",
          "India",
          "India",
          "India",
          "India",
          "India",
          "India",
          "India",
          "India",
          "India",
          "India",
          "India",
          "India",
          "India",
          "India",
          "India",
          "India"
         ],
         "hovertemplate": "<b>%{customdata}</b> gets %{y:.1f} average scores against %{x}<extra></extra>",
         "name": "India",
         "type": "bar",
         "visible": false,
         "x": [
          "NZ",
          "WI",
          "ZIM",
          "AUS",
          "PAK",
          "SA",
          "SL",
          "KEN",
          "ENG",
          "NED",
          "NAM",
          "BAN",
          "BER",
          "AFG",
          "EAf",
          "IRE",
          "UAE"
         ],
         "y": [
          238.5,
          211.7,
          221.66666666666666,
          235,
          261.75,
          265.3333333333333,
          259,
          257,
          236.9,
          268.3333333333333,
          311,
          287.6,
          413,
          248.5,
          123,
          235,
          104
         ]
        },
        {
         "customdata": [
          "West Indies",
          "West Indies",
          "West Indies",
          "West Indies",
          "West Indies",
          "West Indies",
          "West Indies",
          "West Indies",
          "West Indies",
          "West Indies",
          "West Indies",
          "West Indies",
          "West Indies",
          "West Indies",
          "West Indies",
          "West Indies"
         ],
         "hovertemplate": "<b>%{customdata}</b> gets %{y:.1f} average scores against %{x}<extra></extra>",
         "name": "West Indies",
         "type": "bar",
         "visible": false,
         "x": [
          "AUS",
          "PAK",
          "ENG",
          "NZ",
          "IND",
          "SL",
          "ZIM",
          "SA",
          "BAN",
          "KEN",
          "NED",
          "IRE",
          "AFG",
          "SCOT",
          "CAN",
          "UAE"
         ],
         "y": [
          220.9,
          228.23076923076923,
          236.85714285714286,
          210.7,
          189.8,
          239.71428571428572,
          220,
          223.33333333333334,
          207.4,
          169.5,
          330,
          256.3333333333333,
          311,
          70,
          206,
          176
         ]
        },
        {
         "customdata": [
          "Canada",
          "Canada",
          "Canada",
          "Canada",
          "Canada",
          "Canada",
          "Canada",
          "Canada",
          "Canada",
          "Canada"
         ],
         "hovertemplate": "<b>%{customdata}</b> gets %{y:.1f} average scores against %{x}<extra></extra>",
         "name": "Canada",
         "type": "bar",
         "visible": false,
         "x": [
          "ENG",
          "AUS",
          "PAK",
          "KEN",
          "NZ",
          "BAN",
          "WI",
          "SL",
          "SA",
          "ZIM"
         ],
         "y": [
          106,
          158,
          138.5,
          198.33333333333334,
          241.75,
          180,
          202,
          79,
          136,
          123
         ]
        },
        {
         "customdata": [
          "East Africa",
          "East Africa",
          "East Africa"
         ],
         "hovertemplate": "<b>%{customdata}</b> gets %{y:.1f} average scores against %{x}<extra></extra>",
         "name": "East Africa",
         "type": "bar",
         "visible": false,
         "x": [
          "IND",
          "ENG",
          "NZ"
         ],
         "y": [
          120,
          94,
          128
         ]
        },
        {
         "customdata": [
          "Australia",
          "Australia",
          "Australia",
          "Australia",
          "Australia",
          "Australia",
          "Australia",
          "Australia",
          "Australia",
          "Australia",
          "Australia",
          "Australia",
          "Australia",
          "Australia",
          "Australia",
          "Australia"
         ],
         "hovertemplate": "<b>%{customdata}</b> gets %{y:.1f} average scores against %{x}<extra></extra>",
         "name": "Australia",
         "type": "bar",
         "visible": false,
         "x": [
          "PAK",
          "SL",
          "WI",
          "ENG",
          "ZIM",
          "IND",
          "NZ",
          "SA",
          "KEN",
          "NED",
          "NAM",
          "SCOT",
          "AFG",
          "BAN",
          "CAN",
          "IRE"
         ],
         "y": [
          244.36363636363637,
          272.8,
          226.3,
          226.9,
          248.33333333333334,
          254.28571428571428,
          236.92307692307693,
          229.11111111111111,
          268.6666666666667,
          309,
          301,
          216.33333333333334,
          306.3333333333333,
          243.75,
          159,
          92
         ]
        },
        {
         "customdata": [
          "Pakistan",
          "Pakistan",
          "Pakistan",
          "Pakistan",
          "Pakistan",
          "Pakistan",
          "Pakistan",
          "Pakistan",
          "Pakistan",
          "Pakistan",
          "Pakistan",
          "Pakistan",
          "Pakistan",
          "Pakistan",
          "Pakistan",
          "Pakistan",
          "Pakistan"
         ],
         "hovertemplate": "<b>%{customdata}</b> gets %{y:.1f} average scores against %{x}<extra></extra>",
         "name": "Pakistan",
         "type": "bar",
         "visible": false,
         "x": [
          "SL",
          "WI",
          "AUS",
          "ENG",
          "NZ",
          "ZIM",
          "SA",
          "SCOT",
          "NAM",
          "IND",
          "NED",
          "IRE",
          "CAN",
          "KEN",
          "UAE",
          "BAN",
          "AFG"
         ],
         "y": [
          292.77777777777777,
          203.15384615384616,
          232.45454545454547,
          217.08333333333334,
          233.8181818181818,
          254.6,
          239.16666666666666,
          261,
          255,
          216.5,
          230,
          186.5,
          162,
          317,
          225.5,
          227,
          256
         ]
        },
        {
         "customdata": [
          "New Zealand",
          "New Zealand",
          "New Zealand",
          "New Zealand",
          "New Zealand",
          "New Zealand",
          "New Zealand",
          "New Zealand",
          "New Zealand",
          "New Zealand",
          "New Zealand",
          "New Zealand",
          "New Zealand",
          "New Zealand",
          "New Zealand",
          "New Zealand",
          "New Zealand"
         ],
         "hovertemplate": "<b>%{customdata}</b> gets %{y:.1f} average scores against %{x}<extra></extra>",
         "name": "New Zealand",
         "type": "bar",
         "visible": false,
         "x": [
          "WI",
          "EAf",
          "SL",
          "PAK",
          "IND",
          "ZIM",
          "AUS",
          "UAE",
          "NED",
          "SA",
          "ENG",
          "IRE",
          "CAN",
          "KEN",
          "AFG",
          "BAN",
          "SCOT"
         ],
         "y": [
          238.7,
          309,
          204.69230769230768,
          249.63636363636363,
          234.33333333333334,
          186.83333333333334,
          206.69230769230768,
          276,
          314.5,
          215.33333333333334,
          214.83333333333334,
          263,
          319,
          201.5,
          216.33333333333334,
          213.33333333333334,
          134.5
         ]
        },
        {
         "customdata": [
          "Netherlands",
          "Netherlands",
          "Netherlands",
          "Netherlands",
          "Netherlands",
          "Netherlands",
          "Netherlands",
          "Netherlands",
          "Netherlands",
          "Netherlands",
          "Netherlands",
          "Netherlands",
          "Netherlands",
          "Netherlands",
          "Netherlands"
         ],
         "hovertemplate": "<b>%{customdata}</b> gets %{y:.1f} average scores against %{x}<extra></extra>",
         "name": "Netherlands",
         "type": "bar",
         "visible": false,
         "x": [
          "PAK",
          "UAE",
          "NAM",
          "ENG",
          "IRE",
          "IND",
          "BAN",
          "SA",
          "AFG",
          "SL",
          "NZ",
          "AUS",
          "ZIM",
          "SCOT",
          "WI"
         ],
         "y": [
          168.66666666666666,
          216,
          314,
          210.75,
          306,
          191.66666666666666,
          194.5,
          159.4,
          179,
          262,
          205.5,
          113.66666666666667,
          202,
          140,
          115
         ]
        },
        {
         "customdata": [
          "Ireland",
          "Ireland",
          "Ireland",
          "Ireland",
          "Ireland",
          "Ireland",
          "Ireland",
          "Ireland",
          "Ireland",
          "Ireland",
          "Ireland",
          "Ireland"
         ],
         "hovertemplate": "<b>%{customdata}</b> gets %{y:.1f} average scores against %{x}<extra></extra>",
         "name": "Ireland",
         "type": "bar",
         "visible": false,
         "x": [
          "WI",
          "SL",
          "ZIM",
          "SA",
          "BAN",
          "AUS",
          "IND",
          "PAK",
          "NZ",
          "ENG",
          "NED",
          "UAE"
         ],
         "y": [
          240.33333333333334,
          77,
          276,
          167.66666666666666,
          210.5,
          91,
          233,
          185,
          134,
          273.5,
          307,
          279
         ]
        },
        {
         "customdata": [
          "Sri Lanka",
          "Sri Lanka",
          "Sri Lanka",
          "Sri Lanka",
          "Sri Lanka",
          "Sri Lanka",
          "Sri Lanka",
          "Sri Lanka",
          "Sri Lanka",
          "Sri Lanka",
          "Sri Lanka",
          "Sri Lanka",
          "Sri Lanka",
          "Sri Lanka",
          "Sri Lanka",
          "Sri Lanka"
         ],
         "hovertemplate": "<b>%{customdata}</b> gets %{y:.1f} average scores against %{x}<extra></extra>",
         "name": "Sri Lanka",
         "type": "bar",
         "visible": false,
         "x": [
          "WI",
          "IND",
          "NZ",
          "ENG",
          "PAK",
          "AUS",
          "KEN",
          "SA",
          "ZIM",
          "BAN",
          "BER",
          "CAN",
          "SCOT",
          "AFG",
          "IRE",
          "NED"
         ],
         "y": [
          216,
          214.77777777777777,
          215.30769230769232,
          219.42857142857142,
          227.33333333333334,
          226.5,
          244,
          207,
          264.6,
          263.75,
          321,
          184.5,
          363,
          226,
          81,
          263
         ]
        },
        {
         "customdata": [
          "Zimbabwe",
          "Zimbabwe",
          "Zimbabwe",
          "Zimbabwe",
          "Zimbabwe",
          "Zimbabwe",
          "Zimbabwe",
          "Zimbabwe",
          "Zimbabwe",
          "Zimbabwe",
          "Zimbabwe",
          "Zimbabwe",
          "Zimbabwe",
          "Zimbabwe"
         ],
         "hovertemplate": "<b>%{customdata}</b> gets %{y:.1f} average scores against %{x}<extra></extra>",
         "name": "Zimbabwe",
         "type": "bar",
         "visible": false,
         "x": [
          "AUS",
          "WI",
          "IND",
          "NZ",
          "ENG",
          "SA",
          "SL",
          "NAM",
          "KEN",
          "NED",
          "CAN",
          "PAK",
          "IRE",
          "UAE"
         ],
         "y": [
          197.88888888888889,
          195.71428571428572,
          193.11111111111111,
          193.33333333333334,
          150.5,
          224.33333333333334,
          221.4,
          340,
          188.4,
          301,
          298,
          157.8,
          273.5,
          286
         ]
        },
        {
         "customdata": [
          "U.A.E.",
          "U.A.E.",
          "U.A.E.",
          "U.A.E.",
          "U.A.E.",
          "U.A.E.",
          "U.A.E.",
          "U.A.E.",
          "U.A.E."
         ],
         "hovertemplate": "<b>%{customdata}</b> gets %{y:.1f} average scores against %{x}<extra></extra>",
         "name": "U.A.E.",
         "type": "bar",
         "visible": false,
         "x": [
          "PAK",
          "ENG",
          "IRE",
          "WI",
          "IND",
          "ZIM",
          "SA",
          "NZ",
          "NED"
         ],
         "y": [
          159.5,
          136,
          278,
          175,
          102,
          285,
          173.5,
          167,
          220
         ]
        },
        {
         "customdata": [
          "England",
          "England",
          "England",
          "England",
          "England",
          "England",
          "England",
          "England",
          "England",
          "England",
          "England",
          "England",
          "England",
          "England",
          "England",
          "England",
          "England",
          "England"
         ],
         "hovertemplate": "<b>%{customdata}</b> gets %{y:.1f} average scores against %{x}<extra></extra>",
         "name": "England",
         "type": "bar",
         "visible": false,
         "x": [
          "AUS",
          "EAf",
          "NZ",
          "IND",
          "PAK",
          "SL",
          "WI",
          "SA",
          "NED",
          "NAM",
          "IRE",
          "CAN",
          "BAN",
          "SCOT",
          "AFG",
          "ZIM",
          "UAE",
          "KEN"
         ],
         "y": [
          205.4,
          290,
          239.33333333333334,
          243.2,
          234.66666666666666,
          241.85714285714286,
          232.28571428571428,
          192.375,
          264.5,
          272,
          296.5,
          123.66666666666667,
          276.4,
          303,
          237.66666666666666,
          146.5,
          140,
          191
         ]
        },
        {
         "customdata": [
          "Afghanistan",
          "Afghanistan",
          "Afghanistan",
          "Afghanistan",
          "Afghanistan",
          "Afghanistan",
          "Afghanistan",
          "Afghanistan",
          "Afghanistan",
          "Afghanistan",
          "Afghanistan"
         ],
         "hovertemplate": "<b>%{customdata}</b> gets %{y:.1f} average scores against %{x}<extra></extra>",
         "name": "Afghanistan",
         "type": "bar",
         "visible": false,
         "x": [
          "ENG",
          "SL",
          "NZ",
          "SA",
          "AUS",
          "PAK",
          "BAN",
          "IND",
          "SCOT",
          "WI",
          "NED"
         ],
         "y": [
          214,
          208.66666666666666,
          165.66666666666666,
          204.33333333333334,
          213.33333333333334,
          256.5,
          172.66666666666666,
          242.5,
          211,
          288,
          181
         ]
        }
       ],
       "layout": {
        "autosize": true,
        "template": {
         "data": {
          "bar": [
           {
            "error_x": {
             "color": "#f2f5fa"
            },
            "error_y": {
             "color": "#f2f5fa"
            },
            "marker": {
             "line": {
              "color": "rgb(17,17,17)",
              "width": 0.5
             },
             "pattern": {
              "fillmode": "overlay",
              "size": 10,
              "solidity": 0.2
             }
            },
            "type": "bar"
           }
          ],
          "barpolar": [
           {
            "marker": {
             "line": {
              "color": "rgb(17,17,17)",
              "width": 0.5
             },
             "pattern": {
              "fillmode": "overlay",
              "size": 10,
              "solidity": 0.2
             }
            },
            "type": "barpolar"
           }
          ],
          "carpet": [
           {
            "aaxis": {
             "endlinecolor": "#A2B1C6",
             "gridcolor": "#506784",
             "linecolor": "#506784",
             "minorgridcolor": "#506784",
             "startlinecolor": "#A2B1C6"
            },
            "baxis": {
             "endlinecolor": "#A2B1C6",
             "gridcolor": "#506784",
             "linecolor": "#506784",
             "minorgridcolor": "#506784",
             "startlinecolor": "#A2B1C6"
            },
            "type": "carpet"
           }
          ],
          "choropleth": [
           {
            "colorbar": {
             "outlinewidth": 0,
             "ticks": ""
            },
            "type": "choropleth"
           }
          ],
          "contour": [
           {
            "colorbar": {
             "outlinewidth": 0,
             "ticks": ""
            },
            "colorscale": [
             [
              0,
              "#0d0887"
             ],
             [
              0.1111111111111111,
              "#46039f"
             ],
             [
              0.2222222222222222,
              "#7201a8"
             ],
             [
              0.3333333333333333,
              "#9c179e"
             ],
             [
              0.4444444444444444,
              "#bd3786"
             ],
             [
              0.5555555555555556,
              "#d8576b"
             ],
             [
              0.6666666666666666,
              "#ed7953"
             ],
             [
              0.7777777777777778,
              "#fb9f3a"
             ],
             [
              0.8888888888888888,
              "#fdca26"
             ],
             [
              1,
              "#f0f921"
             ]
            ],
            "type": "contour"
           }
          ],
          "contourcarpet": [
           {
            "colorbar": {
             "outlinewidth": 0,
             "ticks": ""
            },
            "type": "contourcarpet"
           }
          ],
          "heatmap": [
           {
            "colorbar": {
             "outlinewidth": 0,
             "ticks": ""
            },
            "colorscale": [
             [
              0,
              "#0d0887"
             ],
             [
              0.1111111111111111,
              "#46039f"
             ],
             [
              0.2222222222222222,
              "#7201a8"
             ],
             [
              0.3333333333333333,
              "#9c179e"
             ],
             [
              0.4444444444444444,
              "#bd3786"
             ],
             [
              0.5555555555555556,
              "#d8576b"
             ],
             [
              0.6666666666666666,
              "#ed7953"
             ],
             [
              0.7777777777777778,
              "#fb9f3a"
             ],
             [
              0.8888888888888888,
              "#fdca26"
             ],
             [
              1,
              "#f0f921"
             ]
            ],
            "type": "heatmap"
           }
          ],
          "heatmapgl": [
           {
            "colorbar": {
             "outlinewidth": 0,
             "ticks": ""
            },
            "colorscale": [
             [
              0,
              "#0d0887"
             ],
             [
              0.1111111111111111,
              "#46039f"
             ],
             [
              0.2222222222222222,
              "#7201a8"
             ],
             [
              0.3333333333333333,
              "#9c179e"
             ],
             [
              0.4444444444444444,
              "#bd3786"
             ],
             [
              0.5555555555555556,
              "#d8576b"
             ],
             [
              0.6666666666666666,
              "#ed7953"
             ],
             [
              0.7777777777777778,
              "#fb9f3a"
             ],
             [
              0.8888888888888888,
              "#fdca26"
             ],
             [
              1,
              "#f0f921"
             ]
            ],
            "type": "heatmapgl"
           }
          ],
          "histogram": [
           {
            "marker": {
             "pattern": {
              "fillmode": "overlay",
              "size": 10,
              "solidity": 0.2
             }
            },
            "type": "histogram"
           }
          ],
          "histogram2d": [
           {
            "colorbar": {
             "outlinewidth": 0,
             "ticks": ""
            },
            "colorscale": [
             [
              0,
              "#0d0887"
             ],
             [
              0.1111111111111111,
              "#46039f"
             ],
             [
              0.2222222222222222,
              "#7201a8"
             ],
             [
              0.3333333333333333,
              "#9c179e"
             ],
             [
              0.4444444444444444,
              "#bd3786"
             ],
             [
              0.5555555555555556,
              "#d8576b"
             ],
             [
              0.6666666666666666,
              "#ed7953"
             ],
             [
              0.7777777777777778,
              "#fb9f3a"
             ],
             [
              0.8888888888888888,
              "#fdca26"
             ],
             [
              1,
              "#f0f921"
             ]
            ],
            "type": "histogram2d"
           }
          ],
          "histogram2dcontour": [
           {
            "colorbar": {
             "outlinewidth": 0,
             "ticks": ""
            },
            "colorscale": [
             [
              0,
              "#0d0887"
             ],
             [
              0.1111111111111111,
              "#46039f"
             ],
             [
              0.2222222222222222,
              "#7201a8"
             ],
             [
              0.3333333333333333,
              "#9c179e"
             ],
             [
              0.4444444444444444,
              "#bd3786"
             ],
             [
              0.5555555555555556,
              "#d8576b"
             ],
             [
              0.6666666666666666,
              "#ed7953"
             ],
             [
              0.7777777777777778,
              "#fb9f3a"
             ],
             [
              0.8888888888888888,
              "#fdca26"
             ],
             [
              1,
              "#f0f921"
             ]
            ],
            "type": "histogram2dcontour"
           }
          ],
          "mesh3d": [
           {
            "colorbar": {
             "outlinewidth": 0,
             "ticks": ""
            },
            "type": "mesh3d"
           }
          ],
          "parcoords": [
           {
            "line": {
             "colorbar": {
              "outlinewidth": 0,
              "ticks": ""
             }
            },
            "type": "parcoords"
           }
          ],
          "pie": [
           {
            "automargin": true,
            "type": "pie"
           }
          ],
          "scatter": [
           {
            "marker": {
             "line": {
              "color": "#283442"
             }
            },
            "type": "scatter"
           }
          ],
          "scatter3d": [
           {
            "line": {
             "colorbar": {
              "outlinewidth": 0,
              "ticks": ""
             }
            },
            "marker": {
             "colorbar": {
              "outlinewidth": 0,
              "ticks": ""
             }
            },
            "type": "scatter3d"
           }
          ],
          "scattercarpet": [
           {
            "marker": {
             "colorbar": {
              "outlinewidth": 0,
              "ticks": ""
             }
            },
            "type": "scattercarpet"
           }
          ],
          "scattergeo": [
           {
            "marker": {
             "colorbar": {
              "outlinewidth": 0,
              "ticks": ""
             }
            },
            "type": "scattergeo"
           }
          ],
          "scattergl": [
           {
            "marker": {
             "line": {
              "color": "#283442"
             }
            },
            "type": "scattergl"
           }
          ],
          "scattermapbox": [
           {
            "marker": {
             "colorbar": {
              "outlinewidth": 0,
              "ticks": ""
             }
            },
            "type": "scattermapbox"
           }
          ],
          "scatterpolar": [
           {
            "marker": {
             "colorbar": {
              "outlinewidth": 0,
              "ticks": ""
             }
            },
            "type": "scatterpolar"
           }
          ],
          "scatterpolargl": [
           {
            "marker": {
             "colorbar": {
              "outlinewidth": 0,
              "ticks": ""
             }
            },
            "type": "scatterpolargl"
           }
          ],
          "scatterternary": [
           {
            "marker": {
             "colorbar": {
              "outlinewidth": 0,
              "ticks": ""
             }
            },
            "type": "scatterternary"
           }
          ],
          "surface": [
           {
            "colorbar": {
             "outlinewidth": 0,
             "ticks": ""
            },
            "colorscale": [
             [
              0,
              "#0d0887"
             ],
             [
              0.1111111111111111,
              "#46039f"
             ],
             [
              0.2222222222222222,
              "#7201a8"
             ],
             [
              0.3333333333333333,
              "#9c179e"
             ],
             [
              0.4444444444444444,
              "#bd3786"
             ],
             [
              0.5555555555555556,
              "#d8576b"
             ],
             [
              0.6666666666666666,
              "#ed7953"
             ],
             [
              0.7777777777777778,
              "#fb9f3a"
             ],
             [
              0.8888888888888888,
              "#fdca26"
             ],
             [
              1,
              "#f0f921"
             ]
            ],
            "type": "surface"
           }
          ],
          "table": [
           {
            "cells": {
             "fill": {
              "color": "#506784"
             },
             "line": {
              "color": "rgb(17,17,17)"
             }
            },
            "header": {
             "fill": {
              "color": "#2a3f5f"
             },
             "line": {
              "color": "rgb(17,17,17)"
             }
            },
            "type": "table"
           }
          ]
         },
         "layout": {
          "annotationdefaults": {
           "arrowcolor": "#f2f5fa",
           "arrowhead": 0,
           "arrowwidth": 1
          },
          "autotypenumbers": "strict",
          "coloraxis": {
           "colorbar": {
            "outlinewidth": 0,
            "ticks": ""
           }
          },
          "colorscale": {
           "diverging": [
            [
             0,
             "#8e0152"
            ],
            [
             0.1,
             "#c51b7d"
            ],
            [
             0.2,
             "#de77ae"
            ],
            [
             0.3,
             "#f1b6da"
            ],
            [
             0.4,
             "#fde0ef"
            ],
            [
             0.5,
             "#f7f7f7"
            ],
            [
             0.6,
             "#e6f5d0"
            ],
            [
             0.7,
             "#b8e186"
            ],
            [
             0.8,
             "#7fbc41"
            ],
            [
             0.9,
             "#4d9221"
            ],
            [
             1,
             "#276419"
            ]
           ],
           "sequential": [
            [
             0,
             "#0d0887"
            ],
            [
             0.1111111111111111,
             "#46039f"
            ],
            [
             0.2222222222222222,
             "#7201a8"
            ],
            [
             0.3333333333333333,
             "#9c179e"
            ],
            [
             0.4444444444444444,
             "#bd3786"
            ],
            [
             0.5555555555555556,
             "#d8576b"
            ],
            [
             0.6666666666666666,
             "#ed7953"
            ],
            [
             0.7777777777777778,
             "#fb9f3a"
            ],
            [
             0.8888888888888888,
             "#fdca26"
            ],
            [
             1,
             "#f0f921"
            ]
           ],
           "sequentialminus": [
            [
             0,
             "#0d0887"
            ],
            [
             0.1111111111111111,
             "#46039f"
            ],
            [
             0.2222222222222222,
             "#7201a8"
            ],
            [
             0.3333333333333333,
             "#9c179e"
            ],
            [
             0.4444444444444444,
             "#bd3786"
            ],
            [
             0.5555555555555556,
             "#d8576b"
            ],
            [
             0.6666666666666666,
             "#ed7953"
            ],
            [
             0.7777777777777778,
             "#fb9f3a"
            ],
            [
             0.8888888888888888,
             "#fdca26"
            ],
            [
             1,
             "#f0f921"
            ]
           ]
          },
          "colorway": [
           "#636efa",
           "#EF553B",
           "#00cc96",
           "#ab63fa",
           "#FFA15A",
           "#19d3f3",
           "#FF6692",
           "#B6E880",
           "#FF97FF",
           "#FECB52"
          ],
          "font": {
           "color": "#f2f5fa"
          },
          "geo": {
           "bgcolor": "rgb(17,17,17)",
           "lakecolor": "rgb(17,17,17)",
           "landcolor": "rgb(17,17,17)",
           "showlakes": true,
           "showland": true,
           "subunitcolor": "#506784"
          },
          "hoverlabel": {
           "align": "left"
          },
          "hovermode": "closest",
          "mapbox": {
           "style": "dark"
          },
          "paper_bgcolor": "rgb(17,17,17)",
          "plot_bgcolor": "rgb(17,17,17)",
          "polar": {
           "angularaxis": {
            "gridcolor": "#506784",
            "linecolor": "#506784",
            "ticks": ""
           },
           "bgcolor": "rgb(17,17,17)",
           "radialaxis": {
            "gridcolor": "#506784",
            "linecolor": "#506784",
            "ticks": ""
           }
          },
          "scene": {
           "xaxis": {
            "backgroundcolor": "rgb(17,17,17)",
            "gridcolor": "#506784",
            "gridwidth": 2,
            "linecolor": "#506784",
            "showbackground": true,
            "ticks": "",
            "zerolinecolor": "#C8D4E3"
           },
           "yaxis": {
            "backgroundcolor": "rgb(17,17,17)",
            "gridcolor": "#506784",
            "gridwidth": 2,
            "linecolor": "#506784",
            "showbackground": true,
            "ticks": "",
            "zerolinecolor": "#C8D4E3"
           },
           "zaxis": {
            "backgroundcolor": "rgb(17,17,17)",
            "gridcolor": "#506784",
            "gridwidth": 2,
            "linecolor": "#506784",
            "showbackground": true,
            "ticks": "",
            "zerolinecolor": "#C8D4E3"
           }
          },
          "shapedefaults": {
           "line": {
            "color": "#f2f5fa"
           }
          },
          "sliderdefaults": {
           "bgcolor": "#C8D4E3",
           "bordercolor": "rgb(17,17,17)",
           "borderwidth": 1,
           "tickwidth": 0
          },
          "ternary": {
           "aaxis": {
            "gridcolor": "#506784",
            "linecolor": "#506784",
            "ticks": ""
           },
           "baxis": {
            "gridcolor": "#506784",
            "linecolor": "#506784",
            "ticks": ""
           },
           "bgcolor": "rgb(17,17,17)",
           "caxis": {
            "gridcolor": "#506784",
            "linecolor": "#506784",
            "ticks": ""
           }
          },
          "title": {
           "x": 0.05
          },
          "updatemenudefaults": {
           "bgcolor": "#506784",
           "borderwidth": 0
          },
          "xaxis": {
           "automargin": true,
           "gridcolor": "#283442",
           "linecolor": "#506784",
           "ticks": "",
           "title": {
            "standoff": 15
           },
           "zerolinecolor": "#283442",
           "zerolinewidth": 2
          },
          "yaxis": {
           "automargin": true,
           "gridcolor": "#283442",
           "linecolor": "#506784",
           "ticks": "",
           "title": {
            "standoff": 15
           },
           "zerolinecolor": "#283442",
           "zerolinewidth": 2
          }
         }
        },
        "title": {
         "text": "The Average Runs Scores "
        },
        "updatemenus": [
         {
          "active": 0,
          "buttons": [
           {
            "args": [
             {
              "visible": [
               true,
               false,
               false,
               false,
               false,
               false,
               false,
               false,
               false,
               false,
               false,
               false,
               false,
               false,
               false,
               false,
               false,
               false,
               false,
               false
              ]
             },
             {
              "title": " The Average Runs Scored Aginst Bangladesh"
             }
            ],
            "label": "Bangladesh",
            "method": "update"
           },
           {
            "args": [
             {
              "visible": [
               false,
               true,
               false,
               false,
               false,
               false,
               false,
               false,
               false,
               false,
               false,
               false,
               false,
               false,
               false,
               false,
               false,
               false,
               false,
               false
              ]
             },
             {
              "title": " The Average Runs Scored Aginst Kenya"
             }
            ],
            "label": "Kenya",
            "method": "update"
           },
           {
            "args": [
             {
              "visible": [
               false,
               false,
               true,
               false,
               false,
               false,
               false,
               false,
               false,
               false,
               false,
               false,
               false,
               false,
               false,
               false,
               false,
               false,
               false,
               false
              ]
             },
             {
              "title": " The Average Runs Scored Aginst Scotland"
             }
            ],
            "label": "Scotland",
            "method": "update"
           },
           {
            "args": [
             {
              "visible": [
               false,
               false,
               false,
               true,
               false,
               false,
               false,
               false,
               false,
               false,
               false,
               false,
               false,
               false,
               false,
               false,
               false,
               false,
               false,
               false
              ]
             },
             {
              "title": " The Average Runs Scored Aginst Bermuda"
             }
            ],
            "label": "Bermuda",
            "method": "update"
           },
           {
            "args": [
             {
              "visible": [
               false,
               false,
               false,
               false,
               true,
               false,
               false,
               false,
               false,
               false,
               false,
               false,
               false,
               false,
               false,
               false,
               false,
               false,
               false,
               false
              ]
             },
             {
              "title": " The Average Runs Scored Aginst South Africa"
             }
            ],
            "label": "South Africa",
            "method": "update"
           },
           {
            "args": [
             {
              "visible": [
               false,
               false,
               false,
               false,
               false,
               true,
               false,
               false,
               false,
               false,
               false,
               false,
               false,
               false,
               false,
               false,
               false,
               false,
               false,
               false
              ]
             },
             {
              "title": " The Average Runs Scored Aginst Namibia"
             }
            ],
            "label": "Namibia",
            "method": "update"
           },
           {
            "args": [
             {
              "visible": [
               false,
               false,
               false,
               false,
               false,
               false,
               true,
               false,
               false,
               false,
               false,
               false,
               false,
               false,
               false,
               false,
               false,
               false,
               false,
               false
              ]
             },
             {
              "title": " The Average Runs Scored Aginst India"
             }
            ],
            "label": "India",
            "method": "update"
           },
           {
            "args": [
             {
              "visible": [
               false,
               false,
               false,
               false,
               false,
               false,
               false,
               true,
               false,
               false,
               false,
               false,
               false,
               false,
               false,
               false,
               false,
               false,
               false,
               false
              ]
             },
             {
              "title": " The Average Runs Scored Aginst West Indies"
             }
            ],
            "label": "West Indies",
            "method": "update"
           },
           {
            "args": [
             {
              "visible": [
               false,
               false,
               false,
               false,
               false,
               false,
               false,
               false,
               true,
               false,
               false,
               false,
               false,
               false,
               false,
               false,
               false,
               false,
               false,
               false
              ]
             },
             {
              "title": " The Average Runs Scored Aginst Canada"
             }
            ],
            "label": "Canada",
            "method": "update"
           },
           {
            "args": [
             {
              "visible": [
               false,
               false,
               false,
               false,
               false,
               false,
               false,
               false,
               false,
               true,
               false,
               false,
               false,
               false,
               false,
               false,
               false,
               false,
               false,
               false
              ]
             },
             {
              "title": " The Average Runs Scored Aginst East Africa"
             }
            ],
            "label": "East Africa",
            "method": "update"
           },
           {
            "args": [
             {
              "visible": [
               false,
               false,
               false,
               false,
               false,
               false,
               false,
               false,
               false,
               false,
               true,
               false,
               false,
               false,
               false,
               false,
               false,
               false,
               false,
               false
              ]
             },
             {
              "title": " The Average Runs Scored Aginst Australia"
             }
            ],
            "label": "Australia",
            "method": "update"
           },
           {
            "args": [
             {
              "visible": [
               false,
               false,
               false,
               false,
               false,
               false,
               false,
               false,
               false,
               false,
               false,
               true,
               false,
               false,
               false,
               false,
               false,
               false,
               false,
               false
              ]
             },
             {
              "title": " The Average Runs Scored Aginst Pakistan"
             }
            ],
            "label": "Pakistan",
            "method": "update"
           },
           {
            "args": [
             {
              "visible": [
               false,
               false,
               false,
               false,
               false,
               false,
               false,
               false,
               false,
               false,
               false,
               false,
               true,
               false,
               false,
               false,
               false,
               false,
               false,
               false
              ]
             },
             {
              "title": " The Average Runs Scored Aginst New Zealand"
             }
            ],
            "label": "New Zealand",
            "method": "update"
           },
           {
            "args": [
             {
              "visible": [
               false,
               false,
               false,
               false,
               false,
               false,
               false,
               false,
               false,
               false,
               false,
               false,
               false,
               true,
               false,
               false,
               false,
               false,
               false,
               false
              ]
             },
             {
              "title": " The Average Runs Scored Aginst Netherlands"
             }
            ],
            "label": "Netherlands",
            "method": "update"
           },
           {
            "args": [
             {
              "visible": [
               false,
               false,
               false,
               false,
               false,
               false,
               false,
               false,
               false,
               false,
               false,
               false,
               false,
               false,
               true,
               false,
               false,
               false,
               false,
               false
              ]
             },
             {
              "title": " The Average Runs Scored Aginst Ireland"
             }
            ],
            "label": "Ireland",
            "method": "update"
           },
           {
            "args": [
             {
              "visible": [
               false,
               false,
               false,
               false,
               false,
               false,
               false,
               false,
               false,
               false,
               false,
               false,
               false,
               false,
               false,
               true,
               false,
               false,
               false,
               false
              ]
             },
             {
              "title": " The Average Runs Scored Aginst Sri Lanka"
             }
            ],
            "label": "Sri Lanka",
            "method": "update"
           },
           {
            "args": [
             {
              "visible": [
               false,
               false,
               false,
               false,
               false,
               false,
               false,
               false,
               false,
               false,
               false,
               false,
               false,
               false,
               false,
               false,
               true,
               false,
               false,
               false
              ]
             },
             {
              "title": " The Average Runs Scored Aginst Zimbabwe"
             }
            ],
            "label": "Zimbabwe",
            "method": "update"
           },
           {
            "args": [
             {
              "visible": [
               false,
               false,
               false,
               false,
               false,
               false,
               false,
               false,
               false,
               false,
               false,
               false,
               false,
               false,
               false,
               false,
               false,
               true,
               false,
               false
              ]
             },
             {
              "title": " The Average Runs Scored Aginst U.A.E."
             }
            ],
            "label": "U.A.E.",
            "method": "update"
           },
           {
            "args": [
             {
              "visible": [
               false,
               false,
               false,
               false,
               false,
               false,
               false,
               false,
               false,
               false,
               false,
               false,
               false,
               false,
               false,
               false,
               false,
               false,
               true,
               false
              ]
             },
             {
              "title": " The Average Runs Scored Aginst England"
             }
            ],
            "label": "England",
            "method": "update"
           },
           {
            "args": [
             {
              "visible": [
               false,
               false,
               false,
               false,
               false,
               false,
               false,
               false,
               false,
               false,
               false,
               false,
               false,
               false,
               false,
               false,
               false,
               false,
               false,
               true
              ]
             },
             {
              "title": " The Average Runs Scored Aginst Afghanistan"
             }
            ],
            "label": "Afghanistan",
            "method": "update"
           }
          ],
          "direction": "down",
          "showactive": true,
          "x": 1,
          "xanchor": "right",
          "y": 1.2,
          "yanchor": "top"
         }
        ],
        "xaxis": {
         "autorange": true,
         "range": [
          -0.5,
          14.5
         ],
         "title": {
          "text": "Countries"
         },
         "type": "category"
        },
        "yaxis": {
         "autorange": true,
         "range": [
          0,
          266.8421052631579
         ],
         "title": {
          "text": "Average"
         },
         "type": "linear"
        }
       }
      },
      "image/png": "[encoded data removed]",
      "text/html": [
       "<div>                            <div id=\"0aa76233-ee56-46c8-be45-c4a5fd787afa\" class=\"plotly-graph-div\" style=\"height:525px; width:100%;\"></div>            <script type=\"text/javascript\">                require([\"plotly\"], function(Plotly) {                    window.PLOTLYENV=window.PLOTLYENV || {};                                    if (document.getElementById(\"0aa76233-ee56-46c8-be45-c4a5fd787afa\")) {                    Plotly.newPlot(                        \"0aa76233-ee56-46c8-be45-c4a5fd787afa\",                        [{\"customdata\":[\"Bangladesh\",\"Bangladesh\",\"Bangladesh\",\"Bangladesh\",\"Bangladesh\",\"Bangladesh\",\"Bangladesh\",\"Bangladesh\",\"Bangladesh\",\"Bangladesh\",\"Bangladesh\",\"Bangladesh\",\"Bangladesh\",\"Bangladesh\",\"Bangladesh\"],\"hovertemplate\":\"\\u003cb\\u003e%{customdata}\\u003c\\u002fb\\u003e gets %{y:.1f} average scores against %{x}\\u003cextra\\u003e\\u003c\\u002fextra\\u003e\",\"name\":\"Bangladesh\",\"visible\":true,\"x\":[\"NZ\",\"AUS\",\"PAK\",\"WI\",\"SCOT\",\"SL\",\"SA\",\"ENG\",\"IRE\",\"AFG\",\"IND\",\"CAN\",\"KEN\",\"BER\",\"NED\"],\"y\":[210.83333333333334,230.25,216.0,145.0,253.5,189.5,200.0,230.4,187.0,229.0,242.0,120.0,185.0,96.0,154.0],\"type\":\"bar\"},{\"customdata\":[\"Kenya\",\"Kenya\",\"Kenya\",\"Kenya\",\"Kenya\",\"Kenya\",\"Kenya\",\"Kenya\",\"Kenya\",\"Kenya\",\"Kenya\"],\"hovertemplate\":\"\\u003cb\\u003e%{customdata}\\u003c\\u002fb\\u003e gets %{y:.1f} average scores against %{x}\\u003cextra\\u003e\\u003c\\u002fextra\\u003e\",\"name\":\"Kenya\",\"visible\":false,\"x\":[\"ZIM\",\"WI\",\"IND\",\"SA\",\"ENG\",\"AUS\",\"SL\",\"BAN\",\"NZ\",\"CAN\",\"PAK\"],\"y\":[156.0,135.0,209.5,146.0,190.0,215.0,209.0,217.0,126.0,199.66666666666666,112.0],\"type\":\"bar\"},{\"customdata\":[\"Scotland\",\"Scotland\",\"Scotland\",\"Scotland\",\"Scotland\",\"Scotland\",\"Scotland\",\"Scotland\",\"Scotland\",\"Scotland\"],\"hovertemplate\":\"\\u003cb\\u003e%{customdata}\\u003c\\u002fb\\u003e gets %{y:.1f} average scores against %{x}\\u003cextra\\u003e\\u003c\\u002fextra\\u003e\",\"name\":\"Scotland\",\"visible\":false,\"x\":[\"NZ\",\"AUS\",\"WI\",\"SA\",\"NED\",\"BAN\",\"AFG\",\"PAK\",\"SL\",\"ENG\"],\"y\":[131.5,147.33333333333334,68.0,186.0,136.0,240.5,210.0,167.0,215.0,184.0],\"type\":\"bar\"},{\"customdata\":[\"Bermuda\",\"Bermuda\",\"Bermuda\"],\"hovertemplate\":\"\\u003cb\\u003e%{customdata}\\u003c\\u002fb\\u003e gets %{y:.1f} average scores against %{x}\\u003cextra\\u003e\\u003c\\u002fextra\\u003e\",\"name\":\"Bermuda\",\"visible\":false,\"x\":[\"BAN\",\"SL\",\"IND\"],\"y\":[94.0,78.0,156.0],\"type\":\"bar\"},{\"customdata\":[\"South Africa\",\"South Africa\",\"South Africa\",\"South Africa\",\"South Africa\",\"South Africa\",\"South Africa\",\"South Africa\",\"South Africa\",\"South Africa\",\"South Africa\",\"South Africa\",\"South Africa\",\"South Africa\",\"South Africa\",\"South Africa\"],\"hovertemplate\":\"\\u003cb\\u003e%{customdata}\\u003c\\u002fb\\u003e gets %{y:.1f} average scores against %{x}\\u003cextra\\u003e\\u003c\\u002fextra\\u003e\",\"name\":\"South Africa\",\"visible\":false,\"x\":[\"PAK\",\"WI\",\"ENG\",\"SL\",\"NZ\",\"UAE\",\"NED\",\"AUS\",\"CAN\",\"BAN\",\"IRE\",\"ZIM\",\"IND\",\"KEN\",\"SCOT\",\"AFG\"],\"y\":[234.5,284.5,231.375,226.875,245.0,331.0,318.4,235.22222222222223,254.0,253.6,282.6666666666667,229.33333333333334,203.66666666666666,147.5,188.0,208.33333333333334],\"type\":\"bar\"},{\"customdata\":[\"Namibia\",\"Namibia\",\"Namibia\",\"Namibia\",\"Namibia\",\"Namibia\"],\"hovertemplate\":\"\\u003cb\\u003e%{customdata}\\u003c\\u002fb\\u003e gets %{y:.1f} average scores against %{x}\\u003cextra\\u003e\\u003c\\u002fextra\\u003e\",\"name\":\"Namibia\",\"visible\":false,\"x\":[\"ENG\",\"PAK\",\"ZIM\",\"AUS\",\"NED\",\"IND\"],\"y\":[217.0,84.0,104.0,45.0,250.0,130.0],\"type\":\"bar\"},{\"customdata\":[\"India\",\"India\",\"India\",\"India\",\"India\",\"India\",\"India\",\"India\",\"India\",\"India\",\"India\",\"India\",\"India\",\"India\",\"India\",\"India\",\"India\"],\"hovertemplate\":\"\\u003cb\\u003e%{customdata}\\u003c\\u002fb\\u003e gets %{y:.1f} average scores against %{x}\\u003cextra\\u003e\\u003c\\u002fextra\\u003e\",\"name\":\"India\",\"visible\":false,\"x\":[\"NZ\",\"WI\",\"ZIM\",\"AUS\",\"PAK\",\"SA\",\"SL\",\"KEN\",\"ENG\",\"NED\",\"NAM\",\"BAN\",\"BER\",\"AFG\",\"EAf\",\"IRE\",\"UAE\"],\"y\":[238.5,211.7,221.66666666666666,235.0,261.75,265.3333333333333,259.0,257.0,236.9,268.3333333333333,311.0,287.6,413.0,248.5,123.0,235.0,104.0],\"type\":\"bar\"},{\"customdata\":[\"West Indies\",\"West Indies\",\"West Indies\",\"West Indies\",\"West Indies\",\"West Indies\",\"West Indies\",\"West Indies\",\"West Indies\",\"West Indies\",\"West Indies\",\"West Indies\",\"West Indies\",\"West Indies\",\"West Indies\",\"West Indies\"],\"hovertemplate\":\"\\u003cb\\u003e%{customdata}\\u003c\\u002fb\\u003e gets %{y:.1f} average scores against %{x}\\u003cextra\\u003e\\u003c\\u002fextra\\u003e\",\"name\":\"West Indies\",\"visible\":false,\"x\":[\"AUS\",\"PAK\",\"ENG\",\"NZ\",\"IND\",\"SL\",\"ZIM\",\"SA\",\"BAN\",\"KEN\",\"NED\",\"IRE\",\"AFG\",\"SCOT\",\"CAN\",\"UAE\"],\"y\":[220.9,228.23076923076923,236.85714285714286,210.7,189.8,239.71428571428572,220.0,223.33333333333334,207.4,169.5,330.0,256.3333333333333,311.0,70.0,206.0,176.0],\"type\":\"bar\"},{\"customdata\":[\"Canada\",\"Canada\",\"Canada\",\"Canada\",\"Canada\",\"Canada\",\"Canada\",\"Canada\",\"Canada\",\"Canada\"],\"hovertemplate\":\"\\u003cb\\u003e%{customdata}\\u003c\\u002fb\\u003e gets %{y:.1f} average scores against %{x}\\u003cextra\\u003e\\u003c\\u002fextra\\u003e\",\"name\":\"Canada\",\"visible\":false,\"x\":[\"ENG\",\"AUS\",\"PAK\",\"KEN\",\"NZ\",\"BAN\",\"WI\",\"SL\",\"SA\",\"ZIM\"],\"y\":[106.0,158.0,138.5,198.33333333333334,241.75,180.0,202.0,79.0,136.0,123.0],\"type\":\"bar\"},{\"customdata\":[\"East Africa\",\"East Africa\",\"East Africa\"],\"hovertemplate\":\"\\u003cb\\u003e%{customdata}\\u003c\\u002fb\\u003e gets %{y:.1f} average scores against %{x}\\u003cextra\\u003e\\u003c\\u002fextra\\u003e\",\"name\":\"East Africa\",\"visible\":false,\"x\":[\"IND\",\"ENG\",\"NZ\"],\"y\":[120.0,94.0,128.0],\"type\":\"bar\"},{\"customdata\":[\"Australia\",\"Australia\",\"Australia\",\"Australia\",\"Australia\",\"Australia\",\"Australia\",\"Australia\",\"Australia\",\"Australia\",\"Australia\",\"Australia\",\"Australia\",\"Australia\",\"Australia\",\"Australia\"],\"hovertemplate\":\"\\u003cb\\u003e%{customdata}\\u003c\\u002fb\\u003e gets %{y:.1f} average scores against %{x}\\u003cextra\\u003e\\u003c\\u002fextra\\u003e\",\"name\":\"Australia\",\"visible\":false,\"x\":[\"PAK\",\"SL\",\"WI\",\"ENG\",\"ZIM\",\"IND\",\"NZ\",\"SA\",\"KEN\",\"NED\",\"NAM\",\"SCOT\",\"AFG\",\"BAN\",\"CAN\",\"IRE\"],\"y\":[244.36363636363637,272.8,226.3,226.9,248.33333333333334,254.28571428571428,236.92307692307693,229.11111111111111,268.6666666666667,309.0,301.0,216.33333333333334,306.3333333333333,243.75,159.0,92.0],\"type\":\"bar\"},{\"customdata\":[\"Pakistan\",\"Pakistan\",\"Pakistan\",\"Pakistan\",\"Pakistan\",\"Pakistan\",\"Pakistan\",\"Pakistan\",\"Pakistan\",\"Pakistan\",\"Pakistan\",\"Pakistan\",\"Pakistan\",\"Pakistan\",\"Pakistan\",\"Pakistan\",\"Pakistan\"],\"hovertemplate\":\"\\u003cb\\u003e%{customdata}\\u003c\\u002fb\\u003e gets %{y:.1f} average scores against %{x}\\u003cextra\\u003e\\u003c\\u002fextra\\u003e\",\"name\":\"Pakistan\",\"visible\":false,\"x\":[\"SL\",\"WI\",\"AUS\",\"ENG\",\"NZ\",\"ZIM\",\"SA\",\"SCOT\",\"NAM\",\"IND\",\"NED\",\"IRE\",\"CAN\",\"KEN\",\"UAE\",\"BAN\",\"AFG\"],\"y\":[292.77777777777777,203.15384615384616,232.45454545454547,217.08333333333334,233.8181818181818,254.6,239.16666666666666,261.0,255.0,216.5,230.0,186.5,162.0,317.0,225.5,227.0,256.0],\"type\":\"bar\"},{\"customdata\":[\"New Zealand\",\"New Zealand\",\"New Zealand\",\"New Zealand\",\"New Zealand\",\"New Zealand\",\"New Zealand\",\"New Zealand\",\"New Zealand\",\"New Zealand\",\"New Zealand\",\"New Zealand\",\"New Zealand\",\"New Zealand\",\"New Zealand\",\"New Zealand\",\"New Zealand\"],\"hovertemplate\":\"\\u003cb\\u003e%{customdata}\\u003c\\u002fb\\u003e gets %{y:.1f} average scores against %{x}\\u003cextra\\u003e\\u003c\\u002fextra\\u003e\",\"name\":\"New Zealand\",\"visible\":false,\"x\":[\"WI\",\"EAf\",\"SL\",\"PAK\",\"IND\",\"ZIM\",\"AUS\",\"UAE\",\"NED\",\"SA\",\"ENG\",\"IRE\",\"CAN\",\"KEN\",\"AFG\",\"BAN\",\"SCOT\"],\"y\":[238.7,309.0,204.69230769230768,249.63636363636363,234.33333333333334,186.83333333333334,206.69230769230768,276.0,314.5,215.33333333333334,214.83333333333334,263.0,319.0,201.5,216.33333333333334,213.33333333333334,134.5],\"type\":\"bar\"},{\"customdata\":[\"Netherlands\",\"Netherlands\",\"Netherlands\",\"Netherlands\",\"Netherlands\",\"Netherlands\",\"Netherlands\",\"Netherlands\",\"Netherlands\",\"Netherlands\",\"Netherlands\",\"Netherlands\",\"Netherlands\",\"Netherlands\",\"Netherlands\"],\"hovertemplate\":\"\\u003cb\\u003e%{customdata}\\u003c\\u002fb\\u003e gets %{y:.1f} average scores against %{x}\\u003cextra\\u003e\\u003c\\u002fextra\\u003e\",\"name\":\"Netherlands\",\"visible\":false,\"x\":[\"PAK\",\"UAE\",\"NAM\",\"ENG\",\"IRE\",\"IND\",\"BAN\",\"SA\",\"AFG\",\"SL\",\"NZ\",\"AUS\",\"ZIM\",\"SCOT\",\"WI\"],\"y\":[168.66666666666666,216.0,314.0,210.75,306.0,191.66666666666666,194.5,159.4,179.0,262.0,205.5,113.66666666666667,202.0,140.0,115.0],\"type\":\"bar\"},{\"customdata\":[\"Ireland\",\"Ireland\",\"Ireland\",\"Ireland\",\"Ireland\",\"Ireland\",\"Ireland\",\"Ireland\",\"Ireland\",\"Ireland\",\"Ireland\",\"Ireland\"],\"hovertemplate\":\"\\u003cb\\u003e%{customdata}\\u003c\\u002fb\\u003e gets %{y:.1f} average scores against %{x}\\u003cextra\\u003e\\u003c\\u002fextra\\u003e\",\"name\":\"Ireland\",\"visible\":false,\"x\":[\"WI\",\"SL\",\"ZIM\",\"SA\",\"BAN\",\"AUS\",\"IND\",\"PAK\",\"NZ\",\"ENG\",\"NED\",\"UAE\"],\"y\":[240.33333333333334,77.0,276.0,167.66666666666666,210.5,91.0,233.0,185.0,134.0,273.5,307.0,279.0],\"type\":\"bar\"},{\"customdata\":[\"Sri Lanka\",\"Sri Lanka\",\"Sri Lanka\",\"Sri Lanka\",\"Sri Lanka\",\"Sri Lanka\",\"Sri Lanka\",\"Sri Lanka\",\"Sri Lanka\",\"Sri Lanka\",\"Sri Lanka\",\"Sri Lanka\",\"Sri Lanka\",\"Sri Lanka\",\"Sri Lanka\",\"Sri Lanka\"],\"hovertemplate\":\"\\u003cb\\u003e%{customdata}\\u003c\\u002fb\\u003e gets %{y:.1f} average scores against %{x}\\u003cextra\\u003e\\u003c\\u002fextra\\u003e\",\"name\":\"Sri Lanka\",\"visible\":false,\"x\":[\"WI\",\"IND\",\"NZ\",\"ENG\",\"PAK\",\"AUS\",\"KEN\",\"SA\",\"ZIM\",\"BAN\",\"BER\",\"CAN\",\"SCOT\",\"AFG\",\"IRE\",\"NED\"],\"y\":[216.0,214.77777777777777,215.30769230769232,219.42857142857142,227.33333333333334,226.5,244.0,207.0,264.6,263.75,321.0,184.5,363.0,226.0,81.0,263.0],\"type\":\"bar\"},{\"customdata\":[\"Zimbabwe\",\"Zimbabwe\",\"Zimbabwe\",\"Zimbabwe\",\"Zimbabwe\",\"Zimbabwe\",\"Zimbabwe\",\"Zimbabwe\",\"Zimbabwe\",\"Zimbabwe\",\"Zimbabwe\",\"Zimbabwe\",\"Zimbabwe\",\"Zimbabwe\"],\"hovertemplate\":\"\\u003cb\\u003e%{customdata}\\u003c\\u002fb\\u003e gets %{y:.1f} average scores against %{x}\\u003cextra\\u003e\\u003c\\u002fextra\\u003e\",\"name\":\"Zimbabwe\",\"visible\":false,\"x\":[\"AUS\",\"WI\",\"IND\",\"NZ\",\"ENG\",\"SA\",\"SL\",\"NAM\",\"KEN\",\"NED\",\"CAN\",\"PAK\",\"IRE\",\"UAE\"],\"y\":[197.88888888888889,195.71428571428572,193.11111111111111,193.33333333333334,150.5,224.33333333333334,221.4,340.0,188.4,301.0,298.0,157.8,273.5,286.0],\"type\":\"bar\"},{\"customdata\":[\"U.A.E.\",\"U.A.E.\",\"U.A.E.\",\"U.A.E.\",\"U.A.E.\",\"U.A.E.\",\"U.A.E.\",\"U.A.E.\",\"U.A.E.\"],\"hovertemplate\":\"\\u003cb\\u003e%{customdata}\\u003c\\u002fb\\u003e gets %{y:.1f} average scores against %{x}\\u003cextra\\u003e\\u003c\\u002fextra\\u003e\",\"name\":\"U.A.E.\",\"visible\":false,\"x\":[\"PAK\",\"ENG\",\"IRE\",\"WI\",\"IND\",\"ZIM\",\"SA\",\"NZ\",\"NED\"],\"y\":[159.5,136.0,278.0,175.0,102.0,285.0,173.5,167.0,220.0],\"type\":\"bar\"},{\"customdata\":[\"England\",\"England\",\"England\",\"England\",\"England\",\"England\",\"England\",\"England\",\"England\",\"England\",\"England\",\"England\",\"England\",\"England\",\"England\",\"England\",\"England\",\"England\"],\"hovertemplate\":\"\\u003cb\\u003e%{customdata}\\u003c\\u002fb\\u003e gets %{y:.1f} average scores against %{x}\\u003cextra\\u003e\\u003c\\u002fextra\\u003e\",\"name\":\"England\",\"visible\":false,\"x\":[\"AUS\",\"EAf\",\"NZ\",\"IND\",\"PAK\",\"SL\",\"WI\",\"SA\",\"NED\",\"NAM\",\"IRE\",\"CAN\",\"BAN\",\"SCOT\",\"AFG\",\"ZIM\",\"UAE\",\"KEN\"],\"y\":[205.4,290.0,239.33333333333334,243.2,234.66666666666666,241.85714285714286,232.28571428571428,192.375,264.5,272.0,296.5,123.66666666666667,276.4,303.0,237.66666666666666,146.5,140.0,191.0],\"type\":\"bar\"},{\"customdata\":[\"Afghanistan\",\"Afghanistan\",\"Afghanistan\",\"Afghanistan\",\"Afghanistan\",\"Afghanistan\",\"Afghanistan\",\"Afghanistan\",\"Afghanistan\",\"Afghanistan\",\"Afghanistan\"],\"hovertemplate\":\"\\u003cb\\u003e%{customdata}\\u003c\\u002fb\\u003e gets %{y:.1f} average scores against %{x}\\u003cextra\\u003e\\u003c\\u002fextra\\u003e\",\"name\":\"Afghanistan\",\"visible\":false,\"x\":[\"ENG\",\"SL\",\"NZ\",\"SA\",\"AUS\",\"PAK\",\"BAN\",\"IND\",\"SCOT\",\"WI\",\"NED\"],\"y\":[214.0,208.66666666666666,165.66666666666666,204.33333333333334,213.33333333333334,256.5,172.66666666666666,242.5,211.0,288.0,181.0],\"type\":\"bar\"}],                        {\"template\":{\"data\":{\"barpolar\":[{\"marker\":{\"line\":{\"color\":\"rgb(17,17,17)\",\"width\":0.5},\"pattern\":{\"fillmode\":\"overlay\",\"size\":10,\"solidity\":0.2}},\"type\":\"barpolar\"}],\"bar\":[{\"error_x\":{\"color\":\"#f2f5fa\"},\"error_y\":{\"color\":\"#f2f5fa\"},\"marker\":{\"line\":{\"color\":\"rgb(17,17,17)\",\"width\":0.5},\"pattern\":{\"fillmode\":\"overlay\",\"size\":10,\"solidity\":0.2}},\"type\":\"bar\"}],\"carpet\":[{\"aaxis\":{\"endlinecolor\":\"#A2B1C6\",\"gridcolor\":\"#506784\",\"linecolor\":\"#506784\",\"minorgridcolor\":\"#506784\",\"startlinecolor\":\"#A2B1C6\"},\"baxis\":{\"endlinecolor\":\"#A2B1C6\",\"gridcolor\":\"#506784\",\"linecolor\":\"#506784\",\"minorgridcolor\":\"#506784\",\"startlinecolor\":\"#A2B1C6\"},\"type\":\"carpet\"}],\"choropleth\":[{\"colorbar\":{\"outlinewidth\":0,\"ticks\":\"\"},\"type\":\"choropleth\"}],\"contourcarpet\":[{\"colorbar\":{\"outlinewidth\":0,\"ticks\":\"\"},\"type\":\"contourcarpet\"}],\"contour\":[{\"colorbar\":{\"outlinewidth\":0,\"ticks\":\"\"},\"colorscale\":[[0.0,\"#0d0887\"],[0.1111111111111111,\"#46039f\"],[0.2222222222222222,\"#7201a8\"],[0.3333333333333333,\"#9c179e\"],[0.4444444444444444,\"#bd3786\"],[0.5555555555555556,\"#d8576b\"],[0.6666666666666666,\"#ed7953\"],[0.7777777777777778,\"#fb9f3a\"],[0.8888888888888888,\"#fdca26\"],[1.0,\"#f0f921\"]],\"type\":\"contour\"}],\"heatmapgl\":[{\"colorbar\":{\"outlinewidth\":0,\"ticks\":\"\"},\"colorscale\":[[0.0,\"#0d0887\"],[0.1111111111111111,\"#46039f\"],[0.2222222222222222,\"#7201a8\"],[0.3333333333333333,\"#9c179e\"],[0.4444444444444444,\"#bd3786\"],[0.5555555555555556,\"#d8576b\"],[0.6666666666666666,\"#ed7953\"],[0.7777777777777778,\"#fb9f3a\"],[0.8888888888888888,\"#fdca26\"],[1.0,\"#f0f921\"]],\"type\":\"heatmapgl\"}],\"heatmap\":[{\"colorbar\":{\"outlinewidth\":0,\"ticks\":\"\"},\"colorscale\":[[0.0,\"#0d0887\"],[0.1111111111111111,\"#46039f\"],[0.2222222222222222,\"#7201a8\"],[0.3333333333333333,\"#9c179e\"],[0.4444444444444444,\"#bd3786\"],[0.5555555555555556,\"#d8576b\"],[0.6666666666666666,\"#ed7953\"],[0.7777777777777778,\"#fb9f3a\"],[0.8888888888888888,\"#fdca26\"],[1.0,\"#f0f921\"]],\"type\":\"heatmap\"}],\"histogram2dcontour\":[{\"colorbar\":{\"outlinewidth\":0,\"ticks\":\"\"},\"colorscale\":[[0.0,\"#0d0887\"],[0.1111111111111111,\"#46039f\"],[0.2222222222222222,\"#7201a8\"],[0.3333333333333333,\"#9c179e\"],[0.4444444444444444,\"#bd3786\"],[0.5555555555555556,\"#d8576b\"],[0.6666666666666666,\"#ed7953\"],[0.7777777777777778,\"#fb9f3a\"],[0.8888888888888888,\"#fdca26\"],[1.0,\"#f0f921\"]],\"type\":\"histogram2dcontour\"}],\"histogram2d\":[{\"colorbar\":{\"outlinewidth\":0,\"ticks\":\"\"},\"colorscale\":[[0.0,\"#0d0887\"],[0.1111111111111111,\"#46039f\"],[0.2222222222222222,\"#7201a8\"],[0.3333333333333333,\"#9c179e\"],[0.4444444444444444,\"#bd3786\"],[0.5555555555555556,\"#d8576b\"],[0.6666666666666666,\"#ed7953\"],[0.7777777777777778,\"#fb9f3a\"],[0.8888888888888888,\"#fdca26\"],[1.0,\"#f0f921\"]],\"type\":\"histogram2d\"}],\"histogram\":[{\"marker\":{\"pattern\":{\"fillmode\":\"overlay\",\"size\":10,\"solidity\":0.2}},\"type\":\"histogram\"}],\"mesh3d\":[{\"colorbar\":{\"outlinewidth\":0,\"ticks\":\"\"},\"type\":\"mesh3d\"}],\"parcoords\":[{\"line\":{\"colorbar\":{\"outlinewidth\":0,\"ticks\":\"\"}},\"type\":\"parcoords\"}],\"pie\":[{\"automargin\":true,\"type\":\"pie\"}],\"scatter3d\":[{\"line\":{\"colorbar\":{\"outlinewidth\":0,\"ticks\":\"\"}},\"marker\":{\"colorbar\":{\"outlinewidth\":0,\"ticks\":\"\"}},\"type\":\"scatter3d\"}],\"scattercarpet\":[{\"marker\":{\"colorbar\":{\"outlinewidth\":0,\"ticks\":\"\"}},\"type\":\"scattercarpet\"}],\"scattergeo\":[{\"marker\":{\"colorbar\":{\"outlinewidth\":0,\"ticks\":\"\"}},\"type\":\"scattergeo\"}],\"scattergl\":[{\"marker\":{\"line\":{\"color\":\"#283442\"}},\"type\":\"scattergl\"}],\"scattermapbox\":[{\"marker\":{\"colorbar\":{\"outlinewidth\":0,\"ticks\":\"\"}},\"type\":\"scattermapbox\"}],\"scatterpolargl\":[{\"marker\":{\"colorbar\":{\"outlinewidth\":0,\"ticks\":\"\"}},\"type\":\"scatterpolargl\"}],\"scatterpolar\":[{\"marker\":{\"colorbar\":{\"outlinewidth\":0,\"ticks\":\"\"}},\"type\":\"scatterpolar\"}],\"scatter\":[{\"marker\":{\"line\":{\"color\":\"#283442\"}},\"type\":\"scatter\"}],\"scatterternary\":[{\"marker\":{\"colorbar\":{\"outlinewidth\":0,\"ticks\":\"\"}},\"type\":\"scatterternary\"}],\"surface\":[{\"colorbar\":{\"outlinewidth\":0,\"ticks\":\"\"},\"colorscale\":[[0.0,\"#0d0887\"],[0.1111111111111111,\"#46039f\"],[0.2222222222222222,\"#7201a8\"],[0.3333333333333333,\"#9c179e\"],[0.4444444444444444,\"#bd3786\"],[0.5555555555555556,\"#d8576b\"],[0.6666666666666666,\"#ed7953\"],[0.7777777777777778,\"#fb9f3a\"],[0.8888888888888888,\"#fdca26\"],[1.0,\"#f0f921\"]],\"type\":\"surface\"}],\"table\":[{\"cells\":{\"fill\":{\"color\":\"#506784\"},\"line\":{\"color\":\"rgb(17,17,17)\"}},\"header\":{\"fill\":{\"color\":\"#2a3f5f\"},\"line\":{\"color\":\"rgb(17,17,17)\"}},\"type\":\"table\"}]},\"layout\":{\"annotationdefaults\":{\"arrowcolor\":\"#f2f5fa\",\"arrowhead\":0,\"arrowwidth\":1},\"autotypenumbers\":\"strict\",\"coloraxis\":{\"colorbar\":{\"outlinewidth\":0,\"ticks\":\"\"}},\"colorscale\":{\"diverging\":[[0,\"#8e0152\"],[0.1,\"#c51b7d\"],[0.2,\"#de77ae\"],[0.3,\"#f1b6da\"],[0.4,\"#fde0ef\"],[0.5,\"#f7f7f7\"],[0.6,\"#e6f5d0\"],[0.7,\"#b8e186\"],[0.8,\"#7fbc41\"],[0.9,\"#4d9221\"],[1,\"#276419\"]],\"sequential\":[[0.0,\"#0d0887\"],[0.1111111111111111,\"#46039f\"],[0.2222222222222222,\"#7201a8\"],[0.3333333333333333,\"#9c179e\"],[0.4444444444444444,\"#bd3786\"],[0.5555555555555556,\"#d8576b\"],[0.6666666666666666,\"#ed7953\"],[0.7777777777777778,\"#fb9f3a\"],[0.8888888888888888,\"#fdca26\"],[1.0,\"#f0f921\"]],\"sequentialminus\":[[0.0,\"#0d0887\"],[0.1111111111111111,\"#46039f\"],[0.2222222222222222,\"#7201a8\"],[0.3333333333333333,\"#9c179e\"],[0.4444444444444444,\"#bd3786\"],[0.5555555555555556,\"#d8576b\"],[0.6666666666666666,\"#ed7953\"],[0.7777777777777778,\"#fb9f3a\"],[0.8888888888888888,\"#fdca26\"],[1.0,\"#f0f921\"]]},\"colorway\":[\"#636efa\",\"#EF553B\",\"#00cc96\",\"#ab63fa\",\"#FFA15A\",\"#19d3f3\",\"#FF6692\",\"#B6E880\",\"#FF97FF\",\"#FECB52\"],\"font\":{\"color\":\"#f2f5fa\"},\"geo\":{\"bgcolor\":\"rgb(17,17,17)\",\"lakecolor\":\"rgb(17,17,17)\",\"landcolor\":\"rgb(17,17,17)\",\"showlakes\":true,\"showland\":true,\"subunitcolor\":\"#506784\"},\"hoverlabel\":{\"align\":\"left\"},\"hovermode\":\"closest\",\"mapbox\":{\"style\":\"dark\"},\"paper_bgcolor\":\"rgb(17,17,17)\",\"plot_bgcolor\":\"rgb(17,17,17)\",\"polar\":{\"angularaxis\":{\"gridcolor\":\"#506784\",\"linecolor\":\"#506784\",\"ticks\":\"\"},\"bgcolor\":\"rgb(17,17,17)\",\"radialaxis\":{\"gridcolor\":\"#506784\",\"linecolor\":\"#506784\",\"ticks\":\"\"}},\"scene\":{\"xaxis\":{\"backgroundcolor\":\"rgb(17,17,17)\",\"gridcolor\":\"#506784\",\"gridwidth\":2,\"linecolor\":\"#506784\",\"showbackground\":true,\"ticks\":\"\",\"zerolinecolor\":\"#C8D4E3\"},\"yaxis\":{\"backgroundcolor\":\"rgb(17,17,17)\",\"gridcolor\":\"#506784\",\"gridwidth\":2,\"linecolor\":\"#506784\",\"showbackground\":true,\"ticks\":\"\",\"zerolinecolor\":\"#C8D4E3\"},\"zaxis\":{\"backgroundcolor\":\"rgb(17,17,17)\",\"gridcolor\":\"#506784\",\"gridwidth\":2,\"linecolor\":\"#506784\",\"showbackground\":true,\"ticks\":\"\",\"zerolinecolor\":\"#C8D4E3\"}},\"shapedefaults\":{\"line\":{\"color\":\"#f2f5fa\"}},\"sliderdefaults\":{\"bgcolor\":\"#C8D4E3\",\"bordercolor\":\"rgb(17,17,17)\",\"borderwidth\":1,\"tickwidth\":0},\"ternary\":{\"aaxis\":{\"gridcolor\":\"#506784\",\"linecolor\":\"#506784\",\"ticks\":\"\"},\"baxis\":{\"gridcolor\":\"#506784\",\"linecolor\":\"#506784\",\"ticks\":\"\"},\"bgcolor\":\"rgb(17,17,17)\",\"caxis\":{\"gridcolor\":\"#506784\",\"linecolor\":\"#506784\",\"ticks\":\"\"}},\"title\":{\"x\":0.05},\"updatemenudefaults\":{\"bgcolor\":\"#506784\",\"borderwidth\":0},\"xaxis\":{\"automargin\":true,\"gridcolor\":\"#283442\",\"linecolor\":\"#506784\",\"ticks\":\"\",\"title\":{\"standoff\":15},\"zerolinecolor\":\"#283442\",\"zerolinewidth\":2},\"yaxis\":{\"automargin\":true,\"gridcolor\":\"#283442\",\"linecolor\":\"#506784\",\"ticks\":\"\",\"title\":{\"standoff\":15},\"zerolinecolor\":\"#283442\",\"zerolinewidth\":2}}},\"updatemenus\":[{\"active\":0,\"buttons\":[{\"args\":[{\"visible\":[true,false,false,false,false,false,false,false,false,false,false,false,false,false,false,false,false,false,false,false]},{\"title\":\" The Average Runs Scored Aginst Bangladesh\"}],\"label\":\"Bangladesh\",\"method\":\"update\"},{\"args\":[{\"visible\":[false,true,false,false,false,false,false,false,false,false,false,false,false,false,false,false,false,false,false,false]},{\"title\":\" The Average Runs Scored Aginst Kenya\"}],\"label\":\"Kenya\",\"method\":\"update\"},{\"args\":[{\"visible\":[false,false,true,false,false,false,false,false,false,false,false,false,false,false,false,false,false,false,false,false]},{\"title\":\" The Average Runs Scored Aginst Scotland\"}],\"label\":\"Scotland\",\"method\":\"update\"},{\"args\":[{\"visible\":[false,false,false,true,false,false,false,false,false,false,false,false,false,false,false,false,false,false,false,false]},{\"title\":\" The Average Runs Scored Aginst Bermuda\"}],\"label\":\"Bermuda\",\"method\":\"update\"},{\"args\":[{\"visible\":[false,false,false,false,true,false,false,false,false,false,false,false,false,false,false,false,false,false,false,false]},{\"title\":\" The Average Runs Scored Aginst South Africa\"}],\"label\":\"South Africa\",\"method\":\"update\"},{\"args\":[{\"visible\":[false,false,false,false,false,true,false,false,false,false,false,false,false,false,false,false,false,false,false,false]},{\"title\":\" The Average Runs Scored Aginst Namibia\"}],\"label\":\"Namibia\",\"method\":\"update\"},{\"args\":[{\"visible\":[false,false,false,false,false,false,true,false,false,false,false,false,false,false,false,false,false,false,false,false]},{\"title\":\" The Average Runs Scored Aginst India\"}],\"label\":\"India\",\"method\":\"update\"},{\"args\":[{\"visible\":[false,false,false,false,false,false,false,true,false,false,false,false,false,false,false,false,false,false,false,false]},{\"title\":\" The Average Runs Scored Aginst West Indies\"}],\"label\":\"West Indies\",\"method\":\"update\"},{\"args\":[{\"visible\":[false,false,false,false,false,false,false,false,true,false,false,false,false,false,false,false,false,false,false,false]},{\"title\":\" The Average Runs Scored Aginst Canada\"}],\"label\":\"Canada\",\"method\":\"update\"},{\"args\":[{\"visible\":[false,false,false,false,false,false,false,false,false,true,false,false,false,false,false,false,false,false,false,false]},{\"title\":\" The Average Runs Scored Aginst East Africa\"}],\"label\":\"East Africa\",\"method\":\"update\"},{\"args\":[{\"visible\":[false,false,false,false,false,false,false,false,false,false,true,false,false,false,false,false,false,false,false,false]},{\"title\":\" The Average Runs Scored Aginst Australia\"}],\"label\":\"Australia\",\"method\":\"update\"},{\"args\":[{\"visible\":[false,false,false,false,false,false,false,false,false,false,false,true,false,false,false,false,false,false,false,false]},{\"title\":\" The Average Runs Scored Aginst Pakistan\"}],\"label\":\"Pakistan\",\"method\":\"update\"},{\"args\":[{\"visible\":[false,false,false,false,false,false,false,false,false,false,false,false,true,false,false,false,false,false,false,false]},{\"title\":\" The Average Runs Scored Aginst New Zealand\"}],\"label\":\"New Zealand\",\"method\":\"update\"},{\"args\":[{\"visible\":[false,false,false,false,false,false,false,false,false,false,false,false,false,true,false,false,false,false,false,false]},{\"title\":\" The Average Runs Scored Aginst Netherlands\"}],\"label\":\"Netherlands\",\"method\":\"update\"},{\"args\":[{\"visible\":[false,false,false,false,false,false,false,false,false,false,false,false,false,false,true,false,false,false,false,false]},{\"title\":\" The Average Runs Scored Aginst Ireland\"}],\"label\":\"Ireland\",\"method\":\"update\"},{\"args\":[{\"visible\":[false,false,false,false,false,false,false,false,false,false,false,false,false,false,false,true,false,false,false,false]},{\"title\":\" The Average Runs Scored Aginst Sri Lanka\"}],\"label\":\"Sri Lanka\",\"method\":\"update\"},{\"args\":[{\"visible\":[false,false,false,false,false,false,false,false,false,false,false,false,false,false,false,false,true,false,false,false]},{\"title\":\" The Average Runs Scored Aginst Zimbabwe\"}],\"label\":\"Zimbabwe\",\"method\":\"update\"},{\"args\":[{\"visible\":[false,false,false,false,false,false,false,false,false,false,false,false,false,false,false,false,false,true,false,false]},{\"title\":\" The Average Runs Scored Aginst U.A.E.\"}],\"label\":\"U.A.E.\",\"method\":\"update\"},{\"args\":[{\"visible\":[false,false,false,false,false,false,false,false,false,false,false,false,false,false,false,false,false,false,true,false]},{\"title\":\" The Average Runs Scored Aginst England\"}],\"label\":\"England\",\"method\":\"update\"},{\"args\":[{\"visible\":[false,false,false,false,false,false,false,false,false,false,false,false,false,false,false,false,false,false,false,true]},{\"title\":\" The Average Runs Scored Aginst Afghanistan\"}],\"label\":\"Afghanistan\",\"method\":\"update\"}],\"direction\":\"down\",\"showactive\":true,\"x\":1,\"xanchor\":\"right\",\"y\":1.2,\"yanchor\":\"top\"}],\"title\":{\"text\":\"The Average Runs Scores \"},\"xaxis\":{\"title\":{\"text\":\"Countries\"}},\"yaxis\":{\"title\":{\"text\":\"Average\"}}},                        {\"responsive\": true}                    ).then(function(){\n",
       "                            \n",
       "var gd = document.getElementById('0aa76233-ee56-46c8-be45-c4a5fd787afa');\n",
       "var x = new MutationObserver(function (mutations, observer) {{\n",
       "        var display = window.getComputedStyle(gd).display;\n",
       "        if (!display || display === 'none') {{\n",
       "            console.log([gd, 'removed!']);\n",
       "            Plotly.purge(gd);\n",
       "            observer.disconnect();\n",
       "        }}\n",
       "}});\n",
       "\n",
       "// Listen for the removal of the full notebook cells\n",
       "var notebookContainer = gd.closest('#notebook-container');\n",
       "if (notebookContainer) {{\n",
       "    x.observe(notebookContainer, {childList: true});\n",
       "}}\n",
       "\n",
       "// Listen for the clearing of the current output cell\n",
       "var outputEl = gd.closest('.output');\n",
       "if (outputEl) {{\n",
       "    x.observe(outputEl, {childList: true});\n",
       "}}\n",
       "\n",
       "                        })                };                });            </script>        </div>"
      ]
     },
     "metadata": {},
     "output_type": "display_data"
    }
   ],
   "source": [
    "# Data\n",
    "# data = result_dict\n",
    "\n",
    "# Create traces for each dataset\n",
    "fig = go.Figure()\n",
    "\n",
    "for key, values in result_dict.items():\n",
    "    fig.add_trace(\n",
    "        go.Bar(\n",
    "            x=list(values.keys()),\n",
    "            y=list(values.values()),\n",
    "            name=key,\n",
    "            visible=False,  # Initially hide all traces\n",
    "            hovertemplate=(\n",
    "                \"<b>%{customdata}</b> gets %{y:.1f} average scores against %{x}<extra></extra>\"\n",
    "            ),  # Custom tooltip\n",
    "            customdata=[key] * len(values),  # Pass the team name to custom data\n",
    "        )\n",
    "    )\n",
    "\n",
    "# Make the first dataset visible by default\n",
    "fig.data[0].visible = True\n",
    "\n",
    "# Create dropdown menu\n",
    "buttons = []\n",
    "for i, key in enumerate(result_dict.keys()):\n",
    "    buttons.append(\n",
    "        dict(\n",
    "            label=key,\n",
    "            method=\"update\",\n",
    "            args=[{\"visible\": [j == i for j in range(len(result_dict))]},  # Toggle visibility\n",
    "                  {\"title\": f\" The Average Runs Scored Aginst {key}\"}] # Update the title\n",
    "        )\n",
    "    )\n",
    "\n",
    "# Add dropdown to layout\n",
    "fig.update_layout(\n",
    "    updatemenus=[\n",
    "        dict(\n",
    "            active=0,\n",
    "            buttons=buttons,\n",
    "            direction=\"down\",\n",
    "            showactive=True,\n",
    "            x=1,\n",
    "            xanchor=\"right\",\n",
    "            y=1.2,\n",
    "            yanchor=\"top\"\n",
    "        )\n",
    "    ],\n",
    "    title=\"The Average Runs Scores \",\n",
    "    xaxis_title=\"Countries\",\n",
    "    yaxis_title=\"Average\",\n",
    "    template=\"plotly_dark\"\n",
    ")\n",
    "\n",
    "# Show the figure\n",
    "fig.show()"
   ]
  },
  {
   "cell_type": "code",
   "execution_count": null,
   "id": "cc6e1638-46c7-4032-9899-d794cae1871c",
   "metadata": {},
   "outputs": [],
   "source": []
  }
 ],
 "metadata": {
  "kernelspec": {
   "display_name": "Python 3 (ipykernel)",
   "language": "python",
   "name": "python3"
  },
  "language_info": {
   "codemirror_mode": {
    "name": "ipython",
    "version": 3
   },
   "file_extension": ".py",
   "mimetype": "text/x-python",
   "name": "python",
   "nbconvert_exporter": "python",
   "pygments_lexer": "ipython3",
   "version": "3.12.7"
  }
 },
 "nbformat": 4,
 "nbformat_minor": 5
}
