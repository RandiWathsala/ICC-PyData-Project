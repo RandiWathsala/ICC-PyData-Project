{
 "cells": [
  {
   "cell_type": "code",
   "execution_count": 1,
   "id": "d36cf3c4",
   "metadata": {},
   "outputs": [
    {
     "name": "stdout",
     "output_type": "stream",
     "text": [
      "   Unnamed: 0.1  Unnamed: 0       date        venue match_category team_1  \\\n",
      "0             0          11        NaN   Nottingham   League-Match    PAK   \n",
      "1             1           5        NaN        Leeds   League-Match    EAf   \n",
      "2             2          12  6/18/1975        Leeds     Semi-Final    ENG   \n",
      "3             3           8  6/14/1975   Birmingham   League-Match    ENG   \n",
      "4             4          13        NaN     The Oval     Semi-Final     NZ   \n",
      "\n",
      "  team_2  team_1_runs  team_1_wickets  team_2_runs  team_2_wickets  \\\n",
      "0     SL        330.0             6.0        138.0             0.0   \n",
      "1    IND        120.0             0.0        123.0             0.0   \n",
      "2    AUS         93.0             0.0         94.0             6.0   \n",
      "3    EAf        290.0             5.0         94.0             0.0   \n",
      "4     WI        158.0             0.0        159.0             5.0   \n",
      "\n",
      "                                              result                 pom  \\\n",
      "0                           Pakistan won by 192 runs        Zaheer Abbas   \n",
      "1  India won by 10 wickets (with 181 balls remain...     Farokh Engineer   \n",
      "2  Australia won by 4 wickets (with 188 balls rem...        Gary Gilmour   \n",
      "3                            England won by 196 runs           John Snow   \n",
      "4  West Indies won by 5 wickets (with 119 balls r...  Alvin Kallicharran   \n",
      "\n",
      "  best_batters best_bowlers commentary_line  world_cup_year host_country  \n",
      "0          NaN          NaN             NaN            1975      England  \n",
      "1          NaN          NaN             NaN            1975      England  \n",
      "2          NaN          NaN             NaN            1975      England  \n",
      "3          NaN          NaN             NaN            1975      England  \n",
      "4          NaN          NaN             NaN            1975      England  \n"
     ]
    }
   ],
   "source": [
    "import pandas as pd\n",
    "import glob\n",
    "\n",
    "# Path to the folder containing the CSV files\n",
    "path_to_csv_files = \"C:/Users/chani/Downloads/CASE2/CASE2/WorldCup_Stats\"\n",
    "\n",
    "# List all CSV files in the directory\n",
    "csv_files = glob.glob(f\"{path_to_csv_files}/*.csv\")\n",
    "\n",
    "# Read and concatenate all CSV files into a single DataFrame\n",
    "crick_df = pd.concat([pd.read_csv(file) for file in csv_files], ignore_index=True)\n",
    "\n",
    "# Print the first few rows of the combined DataFrame\n",
    "print(crick_df.head())\n"
   ]
  },
  {
   "cell_type": "code",
   "execution_count": 2,
   "id": "2de1cc44",
   "metadata": {},
   "outputs": [
    {
     "name": "stdout",
     "output_type": "stream",
     "text": [
      "<class 'pandas.core.frame.DataFrame'>\n",
      "RangeIndex: 528 entries, 0 to 527\n",
      "Data columns (total 18 columns):\n",
      " #   Column           Non-Null Count  Dtype  \n",
      "---  ------           --------------  -----  \n",
      " 0   Unnamed: 0.1     528 non-null    int64  \n",
      " 1   Unnamed: 0       528 non-null    int64  \n",
      " 2   date             364 non-null    object \n",
      " 3   venue            528 non-null    object \n",
      " 4   match_category   528 non-null    object \n",
      " 5   team_1           528 non-null    object \n",
      " 6   team_2           528 non-null    object \n",
      " 7   team_1_runs      518 non-null    float64\n",
      " 8   team_1_wickets   518 non-null    float64\n",
      " 9   team_2_runs      513 non-null    float64\n",
      " 10  team_2_wickets   513 non-null    float64\n",
      " 11  result           528 non-null    object \n",
      " 12  pom              510 non-null    object \n",
      " 13  best_batters     250 non-null    object \n",
      " 14  best_bowlers     250 non-null    object \n",
      " 15  commentary_line  83 non-null     object \n",
      " 16  world_cup_year   528 non-null    int64  \n",
      " 17  host_country     528 non-null    object \n",
      "dtypes: float64(4), int64(3), object(11)\n",
      "memory usage: 74.4+ KB\n"
     ]
    }
   ],
   "source": [
    "crick_df.info()"
   ]
  },
  {
   "cell_type": "code",
   "execution_count": 3,
   "id": "f6ab5efc",
   "metadata": {},
   "outputs": [
    {
     "data": {
      "text/plain": [
       "Index(['Unnamed: 0.1', 'Unnamed: 0', 'date', 'venue', 'match_category',\n",
       "       'team_1', 'team_2', 'team_1_runs', 'team_1_wickets', 'team_2_runs',\n",
       "       'team_2_wickets', 'result', 'pom', 'best_batters', 'best_bowlers',\n",
       "       'commentary_line', 'world_cup_year', 'host_country'],\n",
       "      dtype='object')"
      ]
     },
     "execution_count": 3,
     "metadata": {},
     "output_type": "execute_result"
    }
   ],
   "source": [
    "crick_df.columns"
   ]
  },
  {
   "cell_type": "code",
   "execution_count": 4,
   "id": "c3bc2684",
   "metadata": {},
   "outputs": [
    {
     "name": "stdout",
     "output_type": "stream",
     "text": [
      "(528, 18)\n"
     ]
    }
   ],
   "source": [
    "print(crick_df.shape)"
   ]
  },
  {
   "cell_type": "code",
   "execution_count": 5,
   "id": "79bc74c9",
   "metadata": {},
   "outputs": [
    {
     "data": {
      "text/html": [
       "<div>\n",
       "<style scoped>\n",
       "    .dataframe tbody tr th:only-of-type {\n",
       "        vertical-align: middle;\n",
       "    }\n",
       "\n",
       "    .dataframe tbody tr th {\n",
       "        vertical-align: top;\n",
       "    }\n",
       "\n",
       "    .dataframe thead th {\n",
       "        text-align: right;\n",
       "    }\n",
       "</style>\n",
       "<table border=\"1\" class=\"dataframe\">\n",
       "  <thead>\n",
       "    <tr style=\"text-align: right;\">\n",
       "      <th></th>\n",
       "      <th>Unnamed: 0.1</th>\n",
       "      <th>Unnamed: 0</th>\n",
       "      <th>team_1_runs</th>\n",
       "      <th>team_1_wickets</th>\n",
       "      <th>team_2_runs</th>\n",
       "      <th>team_2_wickets</th>\n",
       "      <th>world_cup_year</th>\n",
       "    </tr>\n",
       "  </thead>\n",
       "  <tbody>\n",
       "    <tr>\n",
       "      <th>count</th>\n",
       "      <td>528.000000</td>\n",
       "      <td>528.000000</td>\n",
       "      <td>518.000000</td>\n",
       "      <td>518.000000</td>\n",
       "      <td>513.000000</td>\n",
       "      <td>513.000000</td>\n",
       "      <td>528.000000</td>\n",
       "    </tr>\n",
       "    <tr>\n",
       "      <th>mean</th>\n",
       "      <td>21.871212</td>\n",
       "      <td>21.034091</td>\n",
       "      <td>243.239382</td>\n",
       "      <td>4.590734</td>\n",
       "      <td>198.643275</td>\n",
       "      <td>2.777778</td>\n",
       "      <td>2003.373106</td>\n",
       "    </tr>\n",
       "    <tr>\n",
       "      <th>std</th>\n",
       "      <td>14.307231</td>\n",
       "      <td>13.915398</td>\n",
       "      <td>75.108565</td>\n",
       "      <td>3.465005</td>\n",
       "      <td>59.732864</td>\n",
       "      <td>3.044163</td>\n",
       "      <td>13.352007</td>\n",
       "    </tr>\n",
       "    <tr>\n",
       "      <th>min</th>\n",
       "      <td>0.000000</td>\n",
       "      <td>0.000000</td>\n",
       "      <td>1.000000</td>\n",
       "      <td>0.000000</td>\n",
       "      <td>24.000000</td>\n",
       "      <td>0.000000</td>\n",
       "      <td>1975.000000</td>\n",
       "    </tr>\n",
       "    <tr>\n",
       "      <th>25%</th>\n",
       "      <td>10.000000</td>\n",
       "      <td>9.000000</td>\n",
       "      <td>197.000000</td>\n",
       "      <td>0.000000</td>\n",
       "      <td>158.000000</td>\n",
       "      <td>0.000000</td>\n",
       "      <td>1992.000000</td>\n",
       "    </tr>\n",
       "    <tr>\n",
       "      <th>50%</th>\n",
       "      <td>20.000000</td>\n",
       "      <td>20.000000</td>\n",
       "      <td>244.000000</td>\n",
       "      <td>6.000000</td>\n",
       "      <td>204.000000</td>\n",
       "      <td>2.000000</td>\n",
       "      <td>2003.000000</td>\n",
       "    </tr>\n",
       "    <tr>\n",
       "      <th>75%</th>\n",
       "      <td>33.000000</td>\n",
       "      <td>32.000000</td>\n",
       "      <td>292.000000</td>\n",
       "      <td>8.000000</td>\n",
       "      <td>235.000000</td>\n",
       "      <td>5.000000</td>\n",
       "      <td>2015.000000</td>\n",
       "    </tr>\n",
       "    <tr>\n",
       "      <th>max</th>\n",
       "      <td>55.000000</td>\n",
       "      <td>53.000000</td>\n",
       "      <td>428.000000</td>\n",
       "      <td>9.000000</td>\n",
       "      <td>383.000000</td>\n",
       "      <td>9.000000</td>\n",
       "      <td>2023.000000</td>\n",
       "    </tr>\n",
       "  </tbody>\n",
       "</table>\n",
       "</div>"
      ],
      "text/plain": [
       "       Unnamed: 0.1  Unnamed: 0  team_1_runs  team_1_wickets  team_2_runs  \\\n",
       "count    528.000000  528.000000   518.000000      518.000000   513.000000   \n",
       "mean      21.871212   21.034091   243.239382        4.590734   198.643275   \n",
       "std       14.307231   13.915398    75.108565        3.465005    59.732864   \n",
       "min        0.000000    0.000000     1.000000        0.000000    24.000000   \n",
       "25%       10.000000    9.000000   197.000000        0.000000   158.000000   \n",
       "50%       20.000000   20.000000   244.000000        6.000000   204.000000   \n",
       "75%       33.000000   32.000000   292.000000        8.000000   235.000000   \n",
       "max       55.000000   53.000000   428.000000        9.000000   383.000000   \n",
       "\n",
       "       team_2_wickets  world_cup_year  \n",
       "count      513.000000      528.000000  \n",
       "mean         2.777778     2003.373106  \n",
       "std          3.044163       13.352007  \n",
       "min          0.000000     1975.000000  \n",
       "25%          0.000000     1992.000000  \n",
       "50%          2.000000     2003.000000  \n",
       "75%          5.000000     2015.000000  \n",
       "max          9.000000     2023.000000  "
      ]
     },
     "execution_count": 5,
     "metadata": {},
     "output_type": "execute_result"
    }
   ],
   "source": [
    "crick_df.describe()"
   ]
  },
  {
   "cell_type": "code",
   "execution_count": 6,
   "id": "85eb054b",
   "metadata": {},
   "outputs": [
    {
     "name": "stdout",
     "output_type": "stream",
     "text": [
      "DataFrame shape after removing duplicates: (528, 18)\n"
     ]
    }
   ],
   "source": [
    "# Remove duplicate rows from the DataFrame\n",
    "crick_df = crick_df.drop_duplicates()\n",
    "\n",
    "# Optional: Reset the index after removing duplicates\n",
    "crick_df.reset_index(drop=True, inplace=True)\n",
    "\n",
    "# Check the shape of the DataFrame after removing duplicates\n",
    "print(f\"DataFrame shape after removing duplicates: {crick_df.shape}\")"
   ]
  },
  {
   "cell_type": "code",
   "execution_count": 7,
   "id": "78a4237f",
   "metadata": {},
   "outputs": [
    {
     "name": "stdout",
     "output_type": "stream",
     "text": [
      "Unnamed: 0.1         0\n",
      "Unnamed: 0           0\n",
      "date               164\n",
      "venue                0\n",
      "match_category       0\n",
      "team_1               0\n",
      "team_2               0\n",
      "team_1_runs         10\n",
      "team_1_wickets      10\n",
      "team_2_runs         15\n",
      "team_2_wickets      15\n",
      "result               0\n",
      "pom                 18\n",
      "best_batters       278\n",
      "best_bowlers       278\n",
      "commentary_line    445\n",
      "world_cup_year       0\n",
      "host_country         0\n",
      "dtype: int64\n"
     ]
    }
   ],
   "source": [
    "print(crick_df.isnull().sum())"
   ]
  },
  {
   "cell_type": "code",
   "execution_count": null,
   "id": "36b8864a",
   "metadata": {},
   "outputs": [],
   "source": []
  }
 ],
 "metadata": {
  "kernelspec": {
   "display_name": "Python 3 (ipykernel)",
   "language": "python",
   "name": "python3"
  },
  "language_info": {
   "codemirror_mode": {
    "name": "ipython",
    "version": 3
   },
   "file_extension": ".py",
   "mimetype": "text/x-python",
   "name": "python",
   "nbconvert_exporter": "python",
   "pygments_lexer": "ipython3",
   "version": "3.11.5"
  }
 },
 "nbformat": 4,
 "nbformat_minor": 5
}
