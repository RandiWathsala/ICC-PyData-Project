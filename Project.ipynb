{
 "cells": [
  {
   "cell_type": "markdown",
   "id": "0560b800",
   "metadata": {},
   "source": [
    "Data Preprocessing"
   ]
  },
  {
   "cell_type": "code",
   "execution_count": null,
   "id": "9341985c",
   "metadata": {},
   "outputs": [],
   "source": [
    "!pip install seaborn"
   ]
  },
  {
   "cell_type": "code",
   "execution_count": null,
   "id": "8867aff1-5805-4268-b548-2fa76ada9b45",
   "metadata": {},
   "outputs": [],
   "source": [
    "!pip install dash"
   ]
  },
  {
   "cell_type": "code",
   "execution_count": null,
   "id": "537fab07-1c19-4909-99a6-1ed8d592aad9",
   "metadata": {},
   "outputs": [],
   "source": [
    "!pip install pandas networkx matplotlib ipywidgets\n"
   ]
  },
  {
   "cell_type": "code",
   "execution_count": null,
   "id": "d36cf3c4",
   "metadata": {},
   "outputs": [],
   "source": [
    "#Importing Packages\n",
    "import pandas as pd\n",
    "import glob\n",
    "import numpy as np\n",
    "import seaborn as sns\n",
    "import matplotlib.pyplot as plt\n",
    "import dash\n",
    "from dash import dcc, html\n",
    "from dash.dependencies import Input, Output\n",
    "import plotly.graph_objects as go\n",
    "import plotly.express as px\n",
    "import networkx as nx\n",
    "\n",
    "\n",
    "\n"
   ]
  },
  {
   "cell_type": "markdown",
   "id": "3e85ca3d",
   "metadata": {},
   "source": [
    "Uploading the Dataset"
   ]
  },
  {
   "cell_type": "code",
   "execution_count": null,
   "id": "28b1a5d8",
   "metadata": {},
   "outputs": [],
   "source": [
    "urls=['https://raw.githubusercontent.com/ashanjayamal/PyDataProject/refs/heads/main/1975_Match_Stats.csv',\n",
    "      'https://raw.githubusercontent.com/ashanjayamal/PyDataProject/refs/heads/main/1979_Match_Stats.csv',\n",
    "      'https://raw.githubusercontent.com/ashanjayamal/PyDataProject/refs/heads/main/1983_Match_Stats.csv',\n",
    "      'https://raw.githubusercontent.com/ashanjayamal/PyDataProject/refs/heads/main/1987_Match_Stats.csv',\n",
    "      'https://raw.githubusercontent.com/ashanjayamal/PyDataProject/refs/heads/main/1992_Match_Stats.csv',\n",
    "      'https://raw.githubusercontent.com/ashanjayamal/PyDataProject/refs/heads/main/1996_Match_Stats.csv',\n",
    "      'https://raw.githubusercontent.com/ashanjayamal/PyDataProject/refs/heads/main/1999_Match_Stats.csv',\n",
    "      'https://raw.githubusercontent.com/ashanjayamal/PyDataProject/refs/heads/main/2003_Match_Stats.csv',\n",
    "      'https://raw.githubusercontent.com/ashanjayamal/PyDataProject/refs/heads/main/2007_Match_Stats.csv',\n",
    "      'https://raw.githubusercontent.com/ashanjayamal/PyDataProject/refs/heads/main/2011_Match_Stats.csv',\n",
    "      'https://raw.githubusercontent.com/ashanjayamal/PyDataProject/refs/heads/main/2015_Match_Stats.csv',\n",
    "      'https://raw.githubusercontent.com/ashanjayamal/PyDataProject/refs/heads/main/2019_Match_Stats.csv',\n",
    "      'https://raw.githubusercontent.com/ashanjayamal/PyDataProject/refs/heads/main/2023_Match_Stats.csv'\n",
    "      ]\n",
    "#csv_files=[pd.read_csv(url) for url in urls]\n",
    "#csv_files\n",
    "crick_df = pd.concat([pd.read_csv(url) for url in urls], ignore_index=True)\n",
    "\n",
    "crick_df.head()"
   ]
  },
  {
   "cell_type": "markdown",
   "id": "4217ace5",
   "metadata": {},
   "source": [
    "Examining the DataFrame"
   ]
  },
  {
   "cell_type": "code",
   "execution_count": null,
   "id": "83e830fa",
   "metadata": {},
   "outputs": [],
   "source": [
    "crick_df.info()"
   ]
  },
  {
   "cell_type": "code",
   "execution_count": null,
   "id": "8b771bde",
   "metadata": {},
   "outputs": [],
   "source": [
    "crick_df.columns"
   ]
  },
  {
   "cell_type": "code",
   "execution_count": null,
   "id": "c2f31259",
   "metadata": {},
   "outputs": [],
   "source": [
    "print(crick_df.shape)"
   ]
  },
  {
   "cell_type": "code",
   "execution_count": null,
   "id": "3d19ccb7",
   "metadata": {},
   "outputs": [],
   "source": [
    "crick_df.describe()"
   ]
  },
  {
   "cell_type": "markdown",
   "id": "38e13947",
   "metadata": {},
   "source": [
    "Data Cleaning"
   ]
  },
  {
   "cell_type": "code",
   "execution_count": null,
   "id": "02bebab5",
   "metadata": {},
   "outputs": [],
   "source": [
    "\n",
    "# Removing duplicate rows from the DataFrame\n",
    "crick_df = crick_df.drop_duplicates()\n",
    "\n",
    "# Resetting the index after removing duplicates\n",
    "crick_df.reset_index(drop=True, inplace=True)\n",
    "\n",
    "# Checking the shape of the DataFrame after removing duplicates\n",
    "print(f\"DataFrame shape after removing duplicates: {crick_df.shape}\")"
   ]
  },
  {
   "cell_type": "markdown",
   "id": "72633946",
   "metadata": {},
   "source": [
    "Removing Unnecessary Columns\n",
    "\n",
    "Since the columns named 'Unnamed: 0.1','Unnamed: 0' don't have any specific meaning, we removed those columns.\n",
    "Since the columns named 'commentary_line','date' aren't relevent for the data analysis, we removed those columns."
   ]
  },
  {
   "cell_type": "code",
   "execution_count": null,
   "id": "c00207c5",
   "metadata": {},
   "outputs": [],
   "source": [
    "# Removing unnessary colummuns\n",
    "crick_df = crick_df.drop(columns=['date','Unnamed: 0.1','Unnamed: 0','commentary_line'])\n"
   ]
  },
  {
   "cell_type": "code",
   "execution_count": null,
   "id": "39f701e1",
   "metadata": {},
   "outputs": [],
   "source": [
    "# checking null values\n",
    "print(crick_df.isnull().sum())"
   ]
  },
  {
   "cell_type": "code",
   "execution_count": null,
   "id": "02849245",
   "metadata": {},
   "outputs": [],
   "source": [
    "print(crick_df.shape)"
   ]
  },
  {
   "cell_type": "markdown",
   "id": "da9097d4",
   "metadata": {},
   "source": [
    "Checking for outliers"
   ]
  },
  {
   "cell_type": "code",
   "execution_count": null,
   "id": "b1e65bb0",
   "metadata": {},
   "outputs": [],
   "source": [
    "\n",
    "\n",
    "# Identify numerical columns\n",
    "numerical_cols = ['team_1_runs', 'team_2_runs', 'team_1_wickets', 'team_2_wickets']\n",
    "\n",
    "# Plot boxplots to visualize potential outliers\n",
    "for col in numerical_cols:\n",
    "    plt.figure(figsize=(8,2))\n",
    "    sns.boxplot(x=crick_df[col])\n",
    "    plt.title(f\"Boxplot for {col}\")\n",
    "    plt.show()"
   ]
  },
  {
   "cell_type": "markdown",
   "id": "6f5761a3",
   "metadata": {},
   "source": [
    "Checking for the rows with extreme values\n",
    "\n",
    "Since the highest and lowest values of this dataset has a specific meaning according to the real scenario, we are going to check for extremely unrealistic values instead of following the normal ways like below.\n",
    "1. considering the IQR\n",
    "2. using the Boxplot"
   ]
  },
  {
   "cell_type": "code",
   "execution_count": null,
   "id": "6184afa3",
   "metadata": {},
   "outputs": [],
   "source": [
    "# Filter rows where team_1_runs > 400\n",
    "high_scoring_matches_1 = crick_df[crick_df['team_1_runs'] > 400]\n",
    "\n",
    "# Display the filtered rows\n",
    "print(high_scoring_matches_1)"
   ]
  },
  {
   "cell_type": "markdown",
   "id": "4da8c728",
   "metadata": {},
   "source": [
    "Since these values are not extreme according to the reality, we are not going to remove these."
   ]
  },
  {
   "cell_type": "code",
   "execution_count": null,
   "id": "2de1cc44",
   "metadata": {},
   "outputs": [],
   "source": [
    "crick_df.info()"
   ]
  },
  {
   "cell_type": "code",
   "execution_count": null,
   "id": "c9432b56",
   "metadata": {},
   "outputs": [],
   "source": [
    "# Filter rows where team_1_runs < 50\n",
    "low_scoring_matches_1 = crick_df[crick_df['team_1_runs'] < 50]\n",
    "\n",
    "# Display the filtered rows\n",
    "print(low_scoring_matches_1)"
   ]
  },
  {
   "cell_type": "code",
   "execution_count": null,
   "id": "07d8f1c2",
   "metadata": {},
   "outputs": [],
   "source": [
    "# Filter rows where team_2_runs > 400\n",
    "high_scoring_matches_2 = crick_df[crick_df['team_2_runs'] > 400]\n",
    "\n",
    "# Display the filtered rows\n",
    "print(high_scoring_matches_2)"
   ]
  },
  {
   "cell_type": "code",
   "execution_count": null,
   "id": "ba13df5b",
   "metadata": {},
   "outputs": [],
   "source": [
    "# Filter rows where team_2_runs < 50\n",
    "low_scoring_matches_2 = crick_df[crick_df['team_2_runs'] < 50]\n",
    "\n",
    "# Display the filtered rows\n",
    "print(low_scoring_matches_2)"
   ]
  },
  {
   "cell_type": "markdown",
   "id": "c8f5831f",
   "metadata": {},
   "source": [
    "Since these values are not extreme according to the reality, we are not going to remove these.\n",
    "\n",
    "Normally the minimum wicket count is 0 and the maximum wicket count is 10. Therefore we are going to check for extremes using these values.\n"
   ]
  },
  {
   "cell_type": "code",
   "execution_count": null,
   "id": "86451926",
   "metadata": {},
   "outputs": [],
   "source": [
    "# Filter rows where team_1_wickets > 10\n",
    "high_wicket_matches_1 = crick_df[crick_df['team_1_wickets'] > 10]\n",
    "\n",
    "# Display the filtered rows\n",
    "print(high_wicket_matches_1)"
   ]
  },
  {
   "cell_type": "code",
   "execution_count": null,
   "id": "a4ceeea2",
   "metadata": {},
   "outputs": [],
   "source": [
    "# Filter rows where team_1_wickets <1\n",
    "low_wicket_matches_1 = crick_df[crick_df['team_1_wickets'] < 1]\n",
    "\n",
    "# Display the filtered rows\n",
    "print(low_wicket_matches_1)"
   ]
  },
  {
   "cell_type": "code",
   "execution_count": null,
   "id": "a2a3fabb",
   "metadata": {},
   "outputs": [],
   "source": [
    "# Filter rows where team_2_wickets > 10\n",
    "high_wicket_matches_2 = crick_df[crick_df['team_2_wickets'] > 10]\n",
    "\n",
    "# Display the filtered rows\n",
    "print(high_wicket_matches_2)"
   ]
  },
  {
   "cell_type": "code",
   "execution_count": null,
   "id": "f4cadec6",
   "metadata": {},
   "outputs": [],
   "source": [
    "# Filter rows where team_2_wickets <1\n",
    "low_wicket_matches_2 = crick_df[crick_df['team_2_wickets'] < 1]\n",
    "# Display the filtered rows\n",
    "print(low_wicket_matches_2)"
   ]
  },
  {
   "cell_type": "markdown",
   "id": "3f9a22f9",
   "metadata": {},
   "source": [
    "There are no extreme values for the wicket counts."
   ]
  },
  {
   "cell_type": "markdown",
   "id": "8c541875",
   "metadata": {},
   "source": [
    "Missing Value Imputation"
   ]
  },
  {
   "cell_type": "code",
   "execution_count": null,
   "id": "603f92bb",
   "metadata": {},
   "outputs": [],
   "source": [
    "# checking null values\n",
    "print(crick_df.isnull().sum())"
   ]
  },
  {
   "cell_type": "markdown",
   "id": "eb6fac94",
   "metadata": {},
   "source": [
    "In the dataset, the most past year's data lacks entries for \"Player of the Match,\" \"Best Batter,\" and \"Best Bowler.\" Since these columns are important, we cannot remove the rows or drop the columns entirely. Therefore, we will replace the null values with the placeholder \"Not Mentioned.\""
   ]
  },
  {
   "cell_type": "code",
   "execution_count": null,
   "id": "fc7bb2e8",
   "metadata": {},
   "outputs": [],
   "source": [
    "# Columns to replace null values\n",
    "columns_to_replace = ['pom', 'best_batters', 'best_bowlers']\n",
    "\n",
    "# Replace null values with \"Not Mentioned\"\n",
    "crick_df[columns_to_replace] = crick_df[columns_to_replace].fillna(\"Not Mentioned\")\n",
    "\n",
    "# Verify the changes\n",
    "print(crick_df[columns_to_replace].head())"
   ]
  },
  {
   "cell_type": "markdown",
   "id": "6c0f1547",
   "metadata": {},
   "source": [
    "Removing records with null values"
   ]
  },
  {
   "cell_type": "code",
   "execution_count": null,
   "id": "451fd1e7",
   "metadata": {},
   "outputs": [],
   "source": [
    "# checking null values\n",
    "print(crick_df.isnull().sum())"
   ]
  },
  {
   "cell_type": "code",
   "execution_count": null,
   "id": "b9434a91",
   "metadata": {},
   "outputs": [],
   "source": [
    "# Remove rows with any null values\n",
    "crick_df = crick_df.dropna()\n",
    "\n",
    "# checking null values\n",
    "print(crick_df.isnull().sum())\n"
   ]
  },
  {
   "cell_type": "markdown",
   "id": "0e7fbf44-0a4e-4379-99e7-16c8c2640e14",
   "metadata": {},
   "source": [
    "Removing duplicates"
   ]
  },
  {
   "cell_type": "code",
   "execution_count": null,
   "id": "e1c67ce8-4013-4fc2-ac2c-13d89046c0ab",
   "metadata": {},
   "outputs": [],
   "source": [
    "print(crick_df.duplicated().sum())"
   ]
  },
  {
   "cell_type": "code",
   "execution_count": null,
   "id": "843fe95f-d9af-4fca-b19a-0974ee254849",
   "metadata": {},
   "outputs": [],
   "source": [
    "print(crick_df[crick_df.duplicated()])"
   ]
  },
  {
   "cell_type": "code",
   "execution_count": null,
   "id": "a252c0d2-2863-4d71-86be-a0fbe079522d",
   "metadata": {},
   "outputs": [],
   "source": [
    "crick_df = crick_df.drop_duplicates()"
   ]
  },
  {
   "cell_type": "markdown",
   "id": "9ff0de37",
   "metadata": {},
   "source": [
    "# Adding New Columns\n",
    "### Match Status"
   ]
  },
  {
   "cell_type": "code",
   "execution_count": null,
   "id": "e3437353",
   "metadata": {},
   "outputs": [],
   "source": [
    "# Define a function to check the status of a match\n",
    "def check_abandoned(row):\n",
    "    # List of column indices to check for null or empty values\n",
    "    columns_to_check = ['team_1_runs','team_1_wickets','team_2_runs','team_2_wickets']\n",
    "\n",
    "    # Check if any of the specified columns are null or empty\n",
    "    if any(pd.isnull(row[col]) or row[col] == '' for col in columns_to_check):\n",
    "        return 'abandoned'\n",
    "\n",
    "    # Check if the value in column 11 is 'No result'\n",
    "    if row['result'] == 'No result':\n",
    "        return 'abandoned'\n",
    "\n",
    "    # If none of the above conditions are met, return 'played'\n",
    "    return 'played'\n",
    "\n",
    "# Apply the function to each row of the DataFrame and create a new column 'match_status'\n",
    "crick_df['match_status'] = crick_df.apply(check_abandoned, axis=1)"
   ]
  },
  {
   "cell_type": "markdown",
   "id": "b7726937",
   "metadata": {},
   "source": [
    "### Winning Team\n",
    "\n",
    "1. A string column indicating the winning team of the match.\n",
    "2. If the match was abandoned, leave this column empty. Otherwise, derive the\n",
    "winning team from the result column."
   ]
  },
  {
   "cell_type": "code",
   "execution_count": null,
   "id": "a24bcfe5",
   "metadata": {},
   "outputs": [],
   "source": [
    "# Function to derive the winning team from the match result\n",
    "def get_winning_team(row):\n",
    "    if row['match_status'] == 'abandoned':\n",
    "        return ''\n",
    "    return row['result'].split(' won')[0]\n",
    "\n",
    "# Apply the function to each row of the DataFrame and create a new column 'winning_team'\n",
    "crick_df['winning_team'] = crick_df.apply(get_winning_team, axis=1)"
   ]
  },
  {
   "cell_type": "code",
   "execution_count": null,
   "id": "9bbf9638",
   "metadata": {},
   "outputs": [],
   "source": [
    "crick_df['winning_team'].unique()"
   ]
  },
  {
   "cell_type": "markdown",
   "id": "fcde0bcb",
   "metadata": {},
   "source": [
    "Now we have some unexpected values so we replace them with proper result."
   ]
  },
  {
   "cell_type": "code",
   "execution_count": null,
   "id": "aa575095",
   "metadata": {},
   "outputs": [],
   "source": [
    "crick_df['winning_team']=crick_df['winning_team'].str.replace('Winner QF4 (NZ v WI) v Winner QF1 (SA) - New Zealand',' New Zealand')\n",
    "crick_df['winning_team']=crick_df['winning_team'].str.replace('Match tied (England','England')\n",
    "crick_df['winning_team']=crick_df['winning_team'].str.replace('D2 v B2 - West Indies','West Indies')\n",
    "crick_df['winning_team']=crick_df['winning_team'].str.replace('P2 v P3 - Australia','Australia')\n",
    "crick_df['winning_team']=crick_df['winning_team'].str.replace('A1 v C1 - Australia','Australia')\n",
    "crick_df['winning_team']=crick_df['winning_team'].str.replace('P1 v P4 - India','India')"
   ]
  },
  {
   "cell_type": "code",
   "execution_count": null,
   "id": "07a6c8b6",
   "metadata": {},
   "outputs": [],
   "source": [
    "print(crick_df.columns)"
   ]
  },
  {
   "cell_type": "markdown",
   "id": "0593f94f",
   "metadata": {},
   "source": [
    "# Spliting Best bowler and best Batter columns"
   ]
  },
  {
   "cell_type": "code",
   "execution_count": null,
   "id": "ab69a64d",
   "metadata": {},
   "outputs": [],
   "source": [
    "# Remove specified symbols including inverted commas from the 'best_batters' and 'best_bowlwers' column\n",
    "crick_df['best_batters'] = crick_df['best_batters'].str.replace(r\"[\\[\\]']\", '', regex=True)\n",
    "crick_df['best_bowlers'] = crick_df['best_bowlers'].str.replace(r\"[\\[\\]']\", '', regex=True)\n",
    "\n",
    "# Battings\n",
    "\n",
    "# Split the 'best_batters' column into two new columns: 'best_batter_1_details' and 'best_batter_2_details'\n",
    "crick_df[['best_batter_1_details', 'best_batter_2_details']] = crick_df['best_batters'].str.split(',', expand=True)\n",
    "# Split the 'best_batter_1_details' column into two new columns: 'best_batter_1' and 'best_batter_1_runs'\n",
    "crick_df[['best_batter_1', 'best_batter_1_runs']] = crick_df['best_batter_1_details'].str.split(' - ', expand=True)\n",
    "# Split the 'best_batter_2_details' column into two new columns: 'best_batter_2' and 'best_batter_2_runs'\n",
    "crick_df[['best_batter_2', 'best_batter_2_runs']] = crick_df['best_batter_2_details'].str.split(' - ', expand=True)\n",
    "# Drop the now unnecessary 'best_batter_1_details' and 'best_batter_2_details' columns\n",
    "crick_df.drop(['best_batter_1_details', 'best_batter_2_details'], axis=1, inplace=True)\n",
    "\n",
    "\n",
    "\n",
    "# Bowling\n",
    "\n",
    "# Split the 'best_bowlers' column into two new columns: 'best_bowler_1_details' and 'best_bowler_2_details'\n",
    "crick_df[['best_bowler_1_details', 'best_bowler_2_details']] = crick_df['best_bowlers'].str.split(',', expand=True)\n",
    "# Split the 'best_bowler_1_details' column into two new columns: 'best_bowler_1' and 'best_bowler_1_runs'\n",
    "crick_df[['best_bowler_1', 'best_bowler_1_wic']] = crick_df['best_bowler_1_details'].str.split(' - ', expand=True)\n",
    "# Split the 'best_bowler_2_details' column into two new columns: 'best_bowler_2' and 'best_bowler_2_runs'\n",
    "crick_df[['best_bowler_2', 'best_bowler_2_wick']] = crick_df['best_bowler_2_details'].str.split(' - ', expand=True)\n",
    "# Drop the now unnecessary 'best_bowler_1_details' and 'best_bowler_2_details' columns\n",
    "crick_df.drop(['best_bowler_1_details', 'best_bowler_2_details'], axis=1, inplace=True)"
   ]
  },
  {
   "cell_type": "code",
   "execution_count": null,
   "id": "d90a6f13-be87-4f53-a388-4f4665737a30",
   "metadata": {},
   "outputs": [],
   "source": [
    "print(crick_df.columns)"
   ]
  },
  {
   "cell_type": "markdown",
   "id": "e449cb87-9ed1-4cb0-b5bb-06b4de6f961c",
   "metadata": {},
   "source": [
    "Data Preparation \n",
    "\n",
    "Renaming the country names"
   ]
  },
  {
   "cell_type": "code",
   "execution_count": null,
   "id": "3d559bf4-dd83-43c2-9930-97029285545a",
   "metadata": {},
   "outputs": [],
   "source": [
    "crick_df['team_1'].unique()"
   ]
  },
  {
   "cell_type": "code",
   "execution_count": null,
   "id": "9169b309-d42e-477a-bdf1-5142e4aacc82",
   "metadata": {},
   "outputs": [],
   "source": [
    "crick_df['team_1']=crick_df['team_1'].str.replace('Australia','AUS')\n",
    "crick_df['team_1']=crick_df['team_1'].str.replace('KENYA','KEN')"
   ]
  },
  {
   "cell_type": "code",
   "execution_count": null,
   "id": "aadf14ae-5e02-4c7f-8294-53321d87ec12",
   "metadata": {},
   "outputs": [],
   "source": [
    "crick_df['team_1'].unique()"
   ]
  },
  {
   "cell_type": "code",
   "execution_count": null,
   "id": "66287d85-1696-4f32-9c56-977956c1a473",
   "metadata": {},
   "outputs": [],
   "source": [
    "row_index = crick_df.index[crick_df['team_1'] == 'EAf'].tolist()\n",
    "print(row_index)"
   ]
  },
  {
   "cell_type": "code",
   "execution_count": null,
   "id": "21ede646-3608-4473-ad11-0b84e91b7167",
   "metadata": {},
   "outputs": [],
   "source": [
    "crick_df['team_2'].unique()"
   ]
  },
  {
   "cell_type": "code",
   "execution_count": null,
   "id": "649592e3-5d6f-49f7-8942-9a00dd4659c8",
   "metadata": {},
   "outputs": [],
   "source": [
    "crick_df['team_2']=crick_df['team_2'].str.replace('West Indies','WI')\n",
    "crick_df['team_2']=crick_df['team_2'].str.replace('KENYA','KEN')"
   ]
  },
  {
   "cell_type": "code",
   "execution_count": null,
   "id": "7c39928f-b80d-48fb-baa8-ab54687d2345",
   "metadata": {},
   "outputs": [],
   "source": [
    "crick_df['team_2'].unique()"
   ]
  },
  {
   "cell_type": "markdown",
   "id": "af8cfaa5-d9c5-4f3a-a121-66ba0312dc00",
   "metadata": {},
   "source": [
    "Making a list of years"
   ]
  },
  {
   "cell_type": "code",
   "execution_count": null,
   "id": "360194c3-eefe-40c3-8924-a9141c248103",
   "metadata": {},
   "outputs": [],
   "source": [
    "years = crick_df['world_cup_year'].unique()  # Get unique values from team_1\n",
    "\n",
    "# Now 'countries' contains the unique values from both columns without duplicates\n",
    "print(years)"
   ]
  },
  {
   "cell_type": "markdown",
   "id": "7e87cf68-8099-4e38-b5c5-f1b06c506db9",
   "metadata": {},
   "source": [
    "Making a list of countries"
   ]
  },
  {
   "cell_type": "code",
   "execution_count": null,
   "id": "37e21417-e582-4d42-a1ca-7ba0e5f7caba",
   "metadata": {},
   "outputs": [],
   "source": [
    "# Assuming you have the crick_df DataFrame with team_1 and team_2 columns\n",
    "team_1_unique = crick_df['team_1'].unique()  # Get unique values from team_1\n",
    "team_2_unique = crick_df['team_2'].unique()  # Get unique values from team_2\n",
    "\n",
    "# Merge the two lists and remove duplicates\n",
    "countries = list(set(team_1_unique) | set(team_2_unique))  # Union of both lists\n",
    "\n",
    "# Now 'countries' contains the unique values from both columns without duplicates\n",
    "print(countries)\n"
   ]
  },
  {
   "cell_type": "markdown",
   "id": "4554c84d-929b-48ce-9202-782160842c2a",
   "metadata": {},
   "source": [
    "Bar Chart 1\n",
    "\n",
    "Data preparation for the bar chart which shows the average runs scored by each country against other countries"
   ]
  },
  {
   "cell_type": "code",
   "execution_count": null,
   "id": "b60c553b-54f5-4f4e-b6fc-23f5df017e7b",
   "metadata": {},
   "outputs": [],
   "source": [
    "result_dict = {}\n",
    "for teams_y_country in countries:\n",
    "  index_list_1 = crick_df.loc[crick_df['team_1'] == teams_y_country].index.tolist()\n",
    "  index_list_2 = crick_df.loc[crick_df['team_2'] == teams_y_country].index.tolist()\n",
    "  # print(index_list_1)\n",
    "  # print(index_list_2)\n",
    "  team_x_Country = crick_df.loc[index_list_1, 'team_2'].tolist()+crick_df.loc[index_list_2, 'team_1'].tolist()\n",
    "  # print(team_x_Country)\n",
    "  team_x_runs = crick_df.loc[index_list_1, 'team_1_runs'].tolist()+crick_df.loc[index_list_2, 'team_2_runs'].tolist()\n",
    "  # print(team_x_runs)\n",
    "\n",
    "\n",
    "  # subjects =team_x_Country\n",
    "  # scores = team_x_runs\n",
    "\n",
    "  # Create a dictionary to store the count and sum of scores for each teams\n",
    "  subject_data = {}\n",
    "  for team, runs in zip(team_x_Country, team_x_runs):\n",
    "      # Initialize an empty dictionary for the country if it doesn't exist\n",
    "      subject_data.setdefault(team, {\"count\": 0, \"sum\": 0})\n",
    "\n",
    "      # Update the count and sum for the country\n",
    "      subject_data[team][\"count\"] += 1\n",
    "      subject_data[team][\"sum\"] += runs\n",
    "\n",
    "\n",
    "  # Calculate the mean for each country\n",
    "  country_means = {team_x_Country: data[\"sum\"] / data[\"count\"] for team_x_Country, data in subject_data.items()}\n",
    "  result_dict[teams_y_country]=country_means\n",
    "  # print(teams_y_country,country_means)\n",
    "\n",
    "Country_short_to_long = {\n",
    "    'KEN': 'Kenya',\n",
    "    'NED': 'Netherlands',\n",
    "    'CAN': 'Canada',\n",
    "    'IRE': 'Ireland',\n",
    "    'UAE': 'U.A.E.',\n",
    "    'SA': 'South Africa',\n",
    "    'AFG': 'Afghanistan',\n",
    "    'NAM': 'Namibia',\n",
    "    'NZ': 'New Zealand',\n",
    "    'EAf': 'East Africa',\n",
    "    'PAK': 'Pakistan',\n",
    "    'WI': 'West Indies',\n",
    "    'BER': 'Bermuda',\n",
    "    'SCOT': 'Scotland',\n",
    "    'ENG': 'England',\n",
    "    'AUS': 'Australia',\n",
    "    'SL': 'Sri Lanka',\n",
    "    'ZIM': 'Zimbabwe',\n",
    "    'IND': 'India',\n",
    "    'BAN': 'Bangladesh',\n",
    "    'Tied': 'Match tied'\n",
    "}\n",
    "\n",
    "# Renaming the first-level keys\n",
    "result_dict = {Country_short_to_long.get(k, k): v for k, v in result_dict.items()}\n",
    "\n",
    "\n",
    "# Display the bar chart result\n",
    "print(result_dict)"
   ]
  },
  {
   "cell_type": "code",
   "execution_count": null,
   "id": "c48f8645-0d42-4660-93a4-21df0e591a84",
   "metadata": {},
   "outputs": [],
   "source": [
    "# Data\n",
    "# data = result_dict\n",
    "\n",
    "# Create traces for each dataset\n",
    "fig = go.Figure()\n",
    "\n",
    "for key, values in result_dict.items():\n",
    "    fig.add_trace(\n",
    "        go.Bar(\n",
    "            x=list(values.keys()),\n",
    "            y=list(values.values()),\n",
    "            name=key,\n",
    "            visible=False,  # Initially hide all traces\n",
    "            hovertemplate=(\n",
    "                \"<b>%{customdata}</b> gets %{y:.1f} average scores against %{x}<extra></extra>\"\n",
    "            ),  # Custom tooltip\n",
    "            customdata=[key] * len(values),  # Pass the team name to custom data\n",
    "        )\n",
    "    )\n",
    "\n",
    "# Make the first dataset visible by default\n",
    "fig.data[0].visible = True\n",
    "\n",
    "# Create dropdown menu\n",
    "buttons = []\n",
    "for i, key in enumerate(result_dict.keys()):\n",
    "    buttons.append(\n",
    "        dict(\n",
    "            label=key,\n",
    "            method=\"update\",\n",
    "            args=[{\"visible\": [j == i for j in range(len(result_dict))]},  # Toggle visibility\n",
    "                  {\"title\": f\" The Average Runs Scored Aginst {key}\"}] # Update the title\n",
    "        )\n",
    "    )\n",
    "\n",
    "# Add dropdown to layout\n",
    "fig.update_layout(\n",
    "    updatemenus=[\n",
    "        dict(\n",
    "            active=0,\n",
    "            buttons=buttons,\n",
    "            direction=\"down\",\n",
    "            showactive=True,\n",
    "            x=1,\n",
    "            xanchor=\"right\",\n",
    "            y=1.2,\n",
    "            yanchor=\"top\"\n",
    "        )\n",
    "    ],\n",
    "    title=\"The Average Runs Scores \",\n",
    "    xaxis_title=\"Countries\",\n",
    "    yaxis_title=\"Average\",\n",
    "    template=\"plotly_dark\"\n",
    ")\n",
    "\n",
    "# Show the figure\n",
    "fig.show()"
   ]
  },
  {
   "cell_type": "markdown",
   "id": "3401acce-edf0-4237-9073-e567997c3e30",
   "metadata": {},
   "source": [
    "## Donut Chart 🍩"
   ]
  },
  {
   "cell_type": "code",
   "execution_count": null,
   "id": "2287f067-7905-4b21-a758-feb1ccde270e",
   "metadata": {},
   "outputs": [],
   "source": [
    "# Step -1 We have to convert all the countryies in to same format\n",
    "\n",
    "\n",
    "\n",
    "# Create a reverse mapping (long to short)\n",
    "long_to_short = {v: k for k, v in Country_short_to_long.items()}\n",
    "\n",
    "# Add a new column with short-form team names\n",
    "crick_df['winning_team_short'] = crick_df['winning_team'].map(long_to_short)\n",
    "\n",
    "\n",
    "\n",
    "# Function to determine the losing team\n",
    "def get_losing_team(row):\n",
    "    if row['winning_team'] == row['team_1']:\n",
    "        return row['team_2']\n",
    "    elif row['winning_team'] == row['team_2']:\n",
    "        return row['team_1']\n",
    "    else:\n",
    "        return row['team_1']\n",
    "\n",
    "\n",
    "\n",
    "# Add a new column 'losing_team'\n",
    "crick_df['losing_team_short'] = crick_df.apply(get_losing_team, axis=1)\n"
   ]
  },
  {
   "cell_type": "code",
   "execution_count": null,
   "id": "de166e34-7832-415c-a7f7-70fa7a3e9482",
   "metadata": {},
   "outputs": [],
   "source": [
    "# Initialize dictionaries for wins, losses, and ties\n",
    "wins = {}\n",
    "losses = {}\n",
    "ties = {}\n",
    "\n",
    "# Process each match\n",
    "for _, row in crick_df.iterrows():\n",
    "    team_1 = row[\"team_1\"]\n",
    "    team_2 = row[\"team_2\"]\n",
    "    winner = row[\"winning_team_short\"]\n",
    "\n",
    "    if winner == \"Tied\":\n",
    "        # Increment ties for both teams\n",
    "        ties[team_1] = ties.get(team_1, 0) + 1\n",
    "        ties[team_2] = ties.get(team_2, 0) + 1\n",
    "    else:\n",
    "        # Increment wins for the winning team\n",
    "        wins[winner] = wins.get(winner, 0) + 1\n",
    "        # Increment losses for the losing team\n",
    "        loser = team_2 if winner == team_1 else team_1\n",
    "        losses[loser] = losses.get(loser, 0) + 1\n",
    "\n",
    "# Combine results into a DataFrame\n",
    "all_teams = set(wins.keys()).union(losses.keys()).union(ties.keys())\n",
    "summary = pd.DataFrame({\n",
    "    \"Team\": list(all_teams),\n",
    "    \"Wins\": [wins.get(team, 0) for team in all_teams],\n",
    "    \"Losses\": [losses.get(team, 0) for team in all_teams],\n",
    "    \"Ties\": [ties.get(team, 0) for team in all_teams],\n",
    "})\n",
    "\n",
    "# Sort by team name\n",
    "data_donut = summary.sort_values(\"Team\").reset_index(drop=True)\n",
    "\n",
    "# Remove Na values\n",
    "data_donut = data_donut.dropna()\n",
    "\n",
    "# Map short names to full names\n",
    "data_donut['Team'] = data_donut['Team'].map(Country_short_to_long)\n",
    "\n",
    "# Display updated DataFrame\n",
    "print(data_donut)\n",
    "\n"
   ]
  },
  {
   "cell_type": "code",
   "execution_count": null,
   "id": "beac5db3-81ad-426b-9892-634b9bbda5f5",
   "metadata": {
    "scrolled": true
   },
   "outputs": [],
   "source": [
    "# Combine duplicate teams (if applicable)\n",
    "data_donut = data_donut.groupby(\"Team\", as_index=False).sum()\n",
    "\n",
    "# Create a figure\n",
    "fig = go.Figure()\n",
    "\n",
    "\n",
    "# Add a donut chart trace for each team\n",
    "for i, row in data_donut.iterrows():\n",
    "    fig.add_trace(\n",
    "        go.Pie(\n",
    "            labels=[\"Wins\", \"Losses\", \"Ties\"],\n",
    "            values=[row[\"Wins\"], row[\"Losses\"], row[\"Ties\"]],\n",
    "            name=row[\"Team\"],\n",
    "            hole=0.4,  # This converts the pie chart into a donut chart\n",
    "            visible=(i == 0),  # Only the first team is visible initially\n",
    "            hovertemplate=(\n",
    "                # \"Team: <b>\" + row[\"Team\"] + \"</b><br>\"  # Displays the team name\n",
    "                \"No of %{label}=\"  # Displays the category (e.g., Wins)\n",
    "                \"%{value}<br>\"  # Displays the value of the category\n",
    "                \"Percentage: %{percent}<extra></extra>\"  # Displays the percentage\n",
    "            ),\n",
    "        )\n",
    "    )\n",
    "\n",
    "# Create dropdown menu\n",
    "buttons = []\n",
    "for i, row in data_donut.iterrows():\n",
    "    visibility = [False] * len(data_donut)\n",
    "    visibility[i] = True\n",
    "    buttons.append(\n",
    "        dict(\n",
    "            label=row[\"Team\"] if row[\"Team\"] else \"Unnamed Team\",\n",
    "            method=\"update\",\n",
    "            args=[\n",
    "                {\"visible\": visibility},\n",
    "                {\"title\": f\"Performance of {row['Team']}\"},\n",
    "            ],\n",
    "        )\n",
    "    )\n",
    "\n",
    "# Update layout with dropdown\n",
    "fig.update_layout(\n",
    "    updatemenus=[\n",
    "        dict(\n",
    "            active=0,\n",
    "            buttons=buttons,\n",
    "            direction=\"down\",\n",
    "            showactive=True,\n",
    "            x=1,\n",
    "            xanchor=\"right\",\n",
    "            y=1.2,\n",
    "            yanchor=\"top\",\n",
    "        )\n",
    "    ],\n",
    "    title=\"Performance of Teams (Donut Chart)\",\n",
    "    template=\"plotly_dark\"\n",
    ")\n",
    "\n",
    "# Show the figure\n",
    "fig.show()"
   ]
  },
  {
   "cell_type": "markdown",
   "id": "43062632-50ae-49b9-af31-9bf8ae7d5cc7",
   "metadata": {},
   "source": [
    "Line graph representing yearly wins of each country"
   ]
  },
  {
   "cell_type": "code",
   "execution_count": null,
   "id": "28c6ad65-148f-419e-a336-08079ec8ee7b",
   "metadata": {},
   "outputs": [],
   "source": [
    "#LINE GRAPH\n",
    "\n",
    "import plotly.graph_objects as go\n",
    "\n",
    "# Initialize a dictionary to store the number of wins per country in each World Cup year\n",
    "country_wins_per_year = {}\n",
    "\n",
    "# Loop through all the matches to count wins per country in each World Cup year\n",
    "for _, match in crick_df.iterrows():\n",
    "    world_cup_year = match['world_cup_year']  # Get the World Cup year\n",
    "    winning_team = match['winning_team']  # Get the winning team\n",
    "\n",
    "    # Proceed only if both world cup year and winning team exist\n",
    "    if world_cup_year and winning_team and winning_team != \"Match tied\":\n",
    "        # Initialize the dictionary for the winning country if not already there\n",
    "        if winning_team not in country_wins_per_year:\n",
    "            country_wins_per_year[winning_team] = {}\n",
    "\n",
    "        # Increment the win count for the winning team in the World Cup year\n",
    "        if world_cup_year not in country_wins_per_year[winning_team]:\n",
    "            country_wins_per_year[winning_team][world_cup_year] = 0\n",
    "\n",
    "        country_wins_per_year[winning_team][world_cup_year] += 1\n",
    "\n",
    "# Create a Plotly figure\n",
    "fig = go.Figure()\n",
    "\n",
    "# Loop over the dictionary to add traces for each country\n",
    "for country, wins_in_years in country_wins_per_year.items():\n",
    "    # Get the list of World Cup years and the corresponding win counts for the country\n",
    "    years = sorted(wins_in_years.keys())  # Sort years in ascending order\n",
    "    win_counts = [wins_in_years[year] for year in years]\n",
    "\n",
    "    fig.add_trace(\n",
    "        go.Scatter(\n",
    "            x=years,  # World Cup years on the x-axis\n",
    "            y=win_counts,  # Number of wins on the y-axis\n",
    "            mode='lines+markers',  # Line chart with markers\n",
    "            name=country,  # Name of the country as the legend label\n",
    "            visible=False,  # Initially hide all traces\n",
    "            hovertemplate=\"<b>%{text}</b> won %{y} matches in %{x}<extra></extra>\",  # Corrected hovertemplate syntax\n",
    "            text=[country] * len(years)  # Repeated country name for text\n",
    "        )\n",
    "    )\n",
    "\n",
    "# Make the first dataset visible by default\n",
    "fig.data[0].visible = True\n",
    "\n",
    "# Create a dropdown menu to toggle between countries\n",
    "buttons = []\n",
    "for i, country in enumerate(country_wins_per_year.keys()):\n",
    "    button = dict(\n",
    "        label=country,\n",
    "        method=\"update\",\n",
    "        args=[  # Update visible traces and the title\n",
    "            {\"visible\": [j == i for j in range(len(fig.data))]},  # Toggle visibility\n",
    "            {\"title\": f\"Wins by {country} in World Cup Years\"}  # Update the title\n",
    "        ]\n",
    "    )\n",
    "    buttons.append(button)\n",
    "\n",
    "# Add dropdown to layout\n",
    "fig.update_layout(\n",
    "    updatemenus=[dict(\n",
    "        active=0,\n",
    "        buttons=buttons,\n",
    "        direction=\"down\",\n",
    "        showactive=True,\n",
    "        x=1,\n",
    "        xanchor=\"right\",\n",
    "        y=1.2,\n",
    "        yanchor=\"top\"\n",
    "    )],\n",
    "    title=\"Wins by Each Country in World Cup Years\",\n",
    "    xaxis_title=\"World Cup Years\",\n",
    "    yaxis_title=\"Number of Wins\",\n",
    "    template=\"plotly_dark\"\n",
    ")\n",
    "\n",
    "# Show the figure\n",
    "fig.show()"
   ]
  },
  {
   "cell_type": "markdown",
   "id": "9db63904-f853-4e6b-864e-b491b50ae44f",
   "metadata": {},
   "source": [
    "Tree Graph representing Semi-finalists, finalists and winner of each year"
   ]
  },
  {
   "cell_type": "code",
   "execution_count": 78,
   "id": "f1630d0b-2210-4c2e-ae8f-0d61dace794e",
   "metadata": {},
   "outputs": [
    {
     "name": "stdout",
     "output_type": "stream",
     "text": [
      "Available World Cup years: [1975 1979 1983 1987 1992 1996 1999 2003 2007 2011 2015 2019 2023]\n"
     ]
    },
    {
     "name": "stdin",
     "output_type": "stream",
     "text": [
      "Enter the World Cup year you want to visualize:  1996\n"
     ]
    },
    {
     "data": {
      "image/png": "[encoded data removed]",
      "text/plain": [
       "<Figure size 800x700 with 1 Axes>"
      ]
     },
     "metadata": {},
     "output_type": "display_data"
    }
   ],
   "source": [
    "\n",
    "\n",
    "\n",
    "from matplotlib.patches import FancyBboxPatch\n",
    "\n",
    "def create_cricket_tree_styled(data, world_cup_year):\n",
    "    \"\"\"\n",
    "    Creates a styled hierarchical tree for the cricket world cup with three levels,\n",
    "    using circular (rounded) edges for the rectangles and rotated 270 degrees (left-to-right flow).\n",
    "    \"\"\"\n",
    "    # Filter data for the selected world cup year\n",
    "    filtered_data = data[data['world_cup_year'] == world_cup_year]\n",
    "\n",
    "    # Create a directed graph for the tree structure\n",
    "    G = nx.DiGraph()\n",
    "\n",
    "    # Add semi-final matches (team nodes and winners)\n",
    "    semi_finals = filtered_data[filtered_data['match_category'] == 'Semi-Final']\n",
    "    semi_winner_nodes = []\n",
    "    team_positions = []  # To store positions of the first-level nodes\n",
    "\n",
    "    for i, row in semi_finals.iterrows():\n",
    "        team1_node = f\"Semi-{i}-Team1-{row['team_1']}\"\n",
    "        team2_node = f\"Semi-{i}-Team2-{row['team_2']}\"\n",
    "        winner_node = f\"Semi-{i}-Winner-{row['winning_team']}\"\n",
    "\n",
    "        # Add nodes for teams and winner with updated labels\n",
    "        G.add_node(team1_node, label=f\"Semi-Finalist: {row['team_1']}\")\n",
    "        G.add_node(team2_node, label=f\"Semi-Finalist: {row['team_2']}\")\n",
    "        G.add_node(winner_node, label=f\"Finalist: {row['winning_team']}\")\n",
    "\n",
    "        # Store positions for first-level nodes\n",
    "        team_positions.append((team1_node, team2_node))\n",
    "\n",
    "        # Add edges from teams to the winner\n",
    "        G.add_edge(team1_node, winner_node)\n",
    "        G.add_edge(team2_node, winner_node)\n",
    "\n",
    "        semi_winner_nodes.append(winner_node)\n",
    "\n",
    "    # Add final winner node\n",
    "    final_match = filtered_data[filtered_data['match_category'] == 'Final']\n",
    "    if not final_match.empty:\n",
    "        final_row = final_match.iloc[0]\n",
    "        final_winner_node = f\"Final-Winner-{final_row['winning_team']}\"\n",
    "\n",
    "        # Add node for the final winner\n",
    "        G.add_node(final_winner_node, label=f\"The Champions: {final_row['winning_team']}\")\n",
    "\n",
    "        # Add edges from semi-final winners to the final winner\n",
    "        G.add_edge(semi_winner_nodes[0], final_winner_node)\n",
    "        G.add_edge(semi_winner_nodes[1], final_winner_node)\n",
    "\n",
    "    # Custom positions for the nodes\n",
    "    pos = {}\n",
    "    x_offset = 1.0  # Vertical spacing\n",
    "    y_offset = 1.0  # Horizontal spacing\n",
    "    y = 0.0\n",
    "\n",
    "    # First level (Teams in semi-finals)\n",
    "    for i, (team1, team2) in enumerate(team_positions):\n",
    "        pos[team1] = (0, y)\n",
    "        pos[team2] = (0, y - y_offset)\n",
    "        y -= 2 * y_offset\n",
    "\n",
    "    # Second level (Winners of semi-finals)\n",
    "    for i, winner in enumerate(semi_winner_nodes):\n",
    "        team1, team2 = team_positions[i]\n",
    "        _, y1 = pos[team1]\n",
    "        _, y2 = pos[team2]\n",
    "        pos[winner] = (x_offset, (y1 + y2) / 2)\n",
    "\n",
    "    # Third level (Final winner)\n",
    "    if not final_match.empty:\n",
    "        final_y = (pos[semi_winner_nodes[0]][1] + pos[semi_winner_nodes[1]][1]) / 2\n",
    "        pos[final_winner_node] = (2 * x_offset, final_y)\n",
    "\n",
    "    # Rotate positions: Swap x and y, and reverse the y-axis\n",
    "    rotated_pos = {node: (y, -x) for node, (x, y) in pos.items()}\n",
    "\n",
    "    # Draw the graph with custom styling\n",
    "    plt.figure(figsize=(14, 10))\n",
    "    ax = plt.gca()\n",
    "    ax.set_facecolor(\"#001f3f\")  # Dark blue background\n",
    "    plt.title(\"Road to the ICC Men's World Cup Finals\", fontsize=40, color=\"white\", pad=20)\n",
    "\n",
    "    # Draw edges (rectangular L-shape)\n",
    "    for edge in G.edges():\n",
    "        start, end = edge\n",
    "        x1, y1 = rotated_pos[start]\n",
    "        x2, y2 = rotated_pos[end]\n",
    "        ax.plot([x1, x1, x2], [y1, y2, y2], color=\"black\", linewidth=2, zorder=1)  # L-shaped edge\n",
    "\n",
    "    # Draw nodes as rounded rectangles with colorful styling\n",
    "    labels = nx.get_node_attributes(G, 'label')\n",
    "    for node, (x, y) in rotated_pos.items():\n",
    "        width, height = 0.6, 0.1  # Rectangle dimensions\n",
    "        color = \"#FFDC00\" if \"Final-Winner\" in node else \"#01FF70\"  # Yellow for final winner, green for others\n",
    "        rounded_rect = FancyBboxPatch((x - width / 2, y - height / 2), width, height, boxstyle=\"round,pad=0.05\", color=color, ec=\"white\", zorder=2)\n",
    "        ax.add_patch(rounded_rect)\n",
    "\n",
    "    #     # Draw nodes as rounded rectangles with colorful styling\n",
    "    # labels = nx.get_node_attributes(G, 'label')\n",
    "    # for node, (x, y) in rotated_pos.items():\n",
    "    #     width, height = 0.6, 0.1  # Rectangle dimensions\n",
    "    #     color = \"#FFDC00\" if \"Final-Winner\" in node else \"#01FF70\"  # Yellow for final winner, green for others\n",
    "    #     rounded_rect = FancyBboxPatch((x - width / 2, y - height / 2), width, height, boxstyle=\"round,pad=0.05\", color=color, ec=\"white\", zorder=2)\n",
    "    #     ax.add_patch(rounded_rect)\n",
    "    #     ax.text(x, y, labels[node], horizontalalignment=\"center\", verticalalignment=\"center\",\n",
    "    #             fontsize=12, color=\"black\", zorder=3)\n",
    "\n",
    "        # Split label into role and team\n",
    "        label = labels[node]\n",
    "        role, team = label.split(\": \")\n",
    "\n",
    "        # Draw two lines for text, with larger font for country name\n",
    "        ax.text(x, y + 0.03, role, horizontalalignment=\"center\", verticalalignment=\"center\", fontsize=10, color=\"black\", zorder=3)\n",
    "        ax.text(x, y - 0.03, team, horizontalalignment=\"center\", verticalalignment=\"center\", fontsize=14, color=\"black\", zorder=3)\n",
    "\n",
    "\n",
    "    plt.title(f\"Road to {world_cup_year} ICC Men's World Cup Finals\")\n",
    "\n",
    "    # Remove axes\n",
    "    plt.axis(\"off\")\n",
    "    plt.show()\n",
    "\n",
    " # Draw the graph\n",
    "    # pos = nx.multipartite_layout(G, subset_key=\"subset\")\n",
    "    # labels = nx.get_node_attributes(G, 'label')\n",
    "    # plt.figure(figsize=(8, 7))\n",
    "    # plt.title(f\"Road to {world_cup_year} ICC Men's World Cup Finals\")\n",
    "    # nx.draw(G, pos, with_labels=True, labels=labels, node_size=5000, node_color=\"lightgreen\", font_size=12)\n",
    "\n",
    "    # plt.show()\n",
    "\n",
    "# Load the dataset\n",
    "cricket_data = pd.read_csv('cleaned_crick_data.csv')\n",
    "\n",
    "# Get unique World Cup years\n",
    "unique_years = cricket_data['world_cup_year'].unique()\n",
    "unique_years.sort()\n",
    "\n",
    "# Print available years and ask user for input\n",
    "print(\"Available World Cup years:\", unique_years)\n",
    "selected_year = int(input(\"Enter the World Cup year you want to visualize: \"))\n",
    "\n",
    "# Generate the tree diagram for the selected year\n",
    "if selected_year in unique_years:\n",
    "    create_cricket_tree_styled(cricket_data, selected_year)\n",
    "else:\n",
    "    print(f\"Invalid year selected. Please choose from: {unique_years}\")\n"
   ]
  },
  {
   "cell_type": "markdown",
   "id": "2ade9aa6-8d16-4fea-91c9-6e14b9cd4ae9",
   "metadata": {},
   "source": [
    "Bar Chart represnting wins of a country in each host country"
   ]
  },
  {
   "cell_type": "code",
   "execution_count": 85,
   "id": "f95261ed-3621-4f9b-b1ce-4b7872ce6cbb",
   "metadata": {},
   "outputs": [
    {
     "name": "stdout",
     "output_type": "stream",
     "text": [
      "{'Pakistan': {'England': 17, 'Pakistan': 9, 'Australia': 6, 'New Zealand': 4, 'South Africa': 2, 'West Indies': 1, 'Bangladesh': 1, 'Sri Lanka': 5, 'India': 4}, 'India': {'England': 18, 'India': 25, 'Australia': 6, 'New Zealand': 3, 'South Africa': 9, 'West Indies': 1, 'Bangladesh': 1}, 'Australia': {'England': 20, 'Pakistan': 1, 'India': 24, 'Australia': 11, 'South Africa': 11, 'West Indies': 11}, 'England': {'England': 23, 'India': 9, 'Pakistan': 4, 'Australia': 6, 'New Zealand': 2, 'South Africa': 3, 'West Indies': 5}, 'West Indies': {'England': 20, 'Pakistan': 3, 'India': 5, 'New Zealand': 4, 'Australia': 3, 'South Africa': 3, 'West Indies': 4, 'Bangladesh': 1}, 'New Zealand': {'England': 17, 'India': 12, 'New Zealand': 14, 'Pakistan': 1, 'South Africa': 5, 'West Indies': 7, 'Bangladesh': 1, 'Sri Lanka': 1}, 'Sri Lanka': {'England': 7, 'New Zealand': 4, 'Pakistan': 2, 'India': 6, 'Sri Lanka': 6, 'South Africa': 5, 'West Indies': 8, 'Australia': 2}, 'Zimbabwe': {'England': 4, 'New Zealand': 2, 'India': 3, 'South Africa': 2}, 'South Africa': {'Australia': 7, 'New Zealand': 3, 'Pakistan': 5, 'England': 9, 'South Africa': 3, 'West Indies': 6, 'India': 11, 'Bangladesh': 1}, 'Kenya': {'India': 1, 'South Africa': 4, 'West Indies': 1}, 'U.A.E.': {'Pakistan': 1}, 'Bangladesh': {'England': 5, 'West Indies': 3, 'Bangladesh': 3, 'Australia': 2, 'New Zealand': 1, 'India': 2}, 'Match tied (D/L method)': {'South Africa': 1}, 'Netherlands': {'South Africa': 1, 'West Indies': 1, 'India': 2}, 'Canada': {'South Africa': 1, 'India': 1}, 'Ireland': {'West Indies': 2, 'India': 2, 'Australia': 2, 'New Zealand': 1}, ' New Zealand': {'New Zealand': 1}, 'Afghanistan': {'New Zealand': 1, 'India': 4}}\n"
     ]
    }
   ],
   "source": [
    "# Initialize a dictionary to store the number of wins per team in each host country\n",
    "country_wins_in_host_dict = {}\n",
    "\n",
    "# Loop through all the matches\n",
    "for _, match in crick_df.iterrows():\n",
    "    host_country = match['host_country']  # Get the host country of the match\n",
    "    winning_team = match['winning_team']  # Get the winning team\n",
    "\n",
    "    # Proceed only if both host country and winning team exist and winning_team is not \"Match tied\"\n",
    "    if host_country and winning_team and winning_team != \"Match tied\":\n",
    "        # Initialize the dictionary for the country if not already there\n",
    "        if winning_team not in country_wins_in_host_dict:\n",
    "            country_wins_in_host_dict[winning_team] = {}\n",
    "\n",
    "        # Increment the win count for the winning team in the host country\n",
    "        if host_country not in country_wins_in_host_dict[winning_team]:\n",
    "            country_wins_in_host_dict[winning_team][host_country] = 0\n",
    "\n",
    "        country_wins_in_host_dict[winning_team][host_country] += 1\n",
    "\n",
    "# Now `country_wins_in_host_dict` contains the number of wins per team in each host country, excluding \"Match tied\"\n",
    "print(country_wins_in_host_dict)"
   ]
  },
  {
   "cell_type": "code",
   "execution_count": 137,
   "id": "99462bf5-185e-4e7a-a27c-2a6eaef78104",
   "metadata": {},
   "outputs": [
    {
     "data": {
      "application/vnd.plotly.v1+json": {
       "config": {
        "plotlyServerURL": "https://plot.ly"
       },
       "data": [
        {
         "hovertemplate": "<b>%{x}</b> : %{y} wins<extra></extra>",
         "name": "Pakistan wins across host countries",
         "type": "bar",
         "visible": true,
         "x": [
          "England",
          "Pakistan",
          "Australia",
          "New Zealand",
          "South Africa",
          "West Indies",
          "Bangladesh",
          "Sri Lanka",
          "India"
         ],
         "y": [
          17,
          9,
          6,
          4,
          2,
          1,
          1,
          5,
          4
         ]
        },
        {
         "hovertemplate": "<b>%{x}</b> : %{y} wins<extra></extra>",
         "name": "India wins across host countries",
         "type": "bar",
         "visible": false,
         "x": [
          "England",
          "India",
          "Australia",
          "New Zealand",
          "South Africa",
          "West Indies",
          "Bangladesh"
         ],
         "y": [
          18,
          25,
          6,
          3,
          9,
          1,
          1
         ]
        },
        {
         "hovertemplate": "<b>%{x}</b> : %{y} wins<extra></extra>",
         "name": "Australia wins across host countries",
         "type": "bar",
         "visible": false,
         "x": [
          "England",
          "Pakistan",
          "India",
          "Australia",
          "South Africa",
          "West Indies"
         ],
         "y": [
          20,
          1,
          24,
          11,
          11,
          11
         ]
        },
        {
         "hovertemplate": "<b>%{x}</b> : %{y} wins<extra></extra>",
         "name": "England wins across host countries",
         "type": "bar",
         "visible": false,
         "x": [
          "England",
          "India",
          "Pakistan",
          "Australia",
          "New Zealand",
          "South Africa",
          "West Indies"
         ],
         "y": [
          23,
          9,
          4,
          6,
          2,
          3,
          5
         ]
        },
        {
         "hovertemplate": "<b>%{x}</b> : %{y} wins<extra></extra>",
         "name": "West Indies wins across host countries",
         "type": "bar",
         "visible": false,
         "x": [
          "England",
          "Pakistan",
          "India",
          "New Zealand",
          "Australia",
          "South Africa",
          "West Indies",
          "Bangladesh"
         ],
         "y": [
          20,
          3,
          5,
          4,
          3,
          3,
          4,
          1
         ]
        },
        {
         "hovertemplate": "<b>%{x}</b> : %{y} wins<extra></extra>",
         "name": "New Zealand wins across host countries",
         "type": "bar",
         "visible": false,
         "x": [
          "England",
          "India",
          "New Zealand",
          "Pakistan",
          "South Africa",
          "West Indies",
          "Bangladesh",
          "Sri Lanka"
         ],
         "y": [
          17,
          12,
          14,
          1,
          5,
          7,
          1,
          1
         ]
        },
        {
         "hovertemplate": "<b>%{x}</b> : %{y} wins<extra></extra>",
         "name": "Sri Lanka wins across host countries",
         "type": "bar",
         "visible": false,
         "x": [
          "England",
          "New Zealand",
          "Pakistan",
          "India",
          "Sri Lanka",
          "South Africa",
          "West Indies",
          "Australia"
         ],
         "y": [
          7,
          4,
          2,
          6,
          6,
          5,
          8,
          2
         ]
        },
        {
         "hovertemplate": "<b>%{x}</b> : %{y} wins<extra></extra>",
         "name": "Zimbabwe wins across host countries",
         "type": "bar",
         "visible": false,
         "x": [
          "England",
          "New Zealand",
          "India",
          "South Africa"
         ],
         "y": [
          4,
          2,
          3,
          2
         ]
        },
        {
         "hovertemplate": "<b>%{x}</b> : %{y} wins<extra></extra>",
         "name": "South Africa wins across host countries",
         "type": "bar",
         "visible": false,
         "x": [
          "Australia",
          "New Zealand",
          "Pakistan",
          "England",
          "South Africa",
          "West Indies",
          "India",
          "Bangladesh"
         ],
         "y": [
          7,
          3,
          5,
          9,
          3,
          6,
          11,
          1
         ]
        },
        {
         "hovertemplate": "<b>%{x}</b> : %{y} wins<extra></extra>",
         "name": "Kenya wins across host countries",
         "type": "bar",
         "visible": false,
         "x": [
          "India",
          "South Africa",
          "West Indies"
         ],
         "y": [
          1,
          4,
          1
         ]
        },
        {
         "hovertemplate": "<b>%{x}</b> : %{y} wins<extra></extra>",
         "name": "U.A.E. wins across host countries",
         "type": "bar",
         "visible": false,
         "x": [
          "Pakistan"
         ],
         "y": [
          1
         ]
        },
        {
         "hovertemplate": "<b>%{x}</b> : %{y} wins<extra></extra>",
         "name": "Bangladesh wins across host countries",
         "type": "bar",
         "visible": false,
         "x": [
          "England",
          "West Indies",
          "Bangladesh",
          "Australia",
          "New Zealand",
          "India"
         ],
         "y": [
          5,
          3,
          3,
          2,
          1,
          2
         ]
        },
        {
         "hovertemplate": "<b>%{x}</b> : %{y} wins<extra></extra>",
         "name": "Match tied (D/L method) wins across host countries",
         "type": "bar",
         "visible": false,
         "x": [
          "South Africa"
         ],
         "y": [
          1
         ]
        },
        {
         "hovertemplate": "<b>%{x}</b> : %{y} wins<extra></extra>",
         "name": "Netherlands wins across host countries",
         "type": "bar",
         "visible": false,
         "x": [
          "South Africa",
          "West Indies",
          "India"
         ],
         "y": [
          1,
          1,
          2
         ]
        },
        {
         "hovertemplate": "<b>%{x}</b> : %{y} wins<extra></extra>",
         "name": "Canada wins across host countries",
         "type": "bar",
         "visible": false,
         "x": [
          "South Africa",
          "India"
         ],
         "y": [
          1,
          1
         ]
        },
        {
         "hovertemplate": "<b>%{x}</b> : %{y} wins<extra></extra>",
         "name": "Ireland wins across host countries",
         "type": "bar",
         "visible": false,
         "x": [
          "West Indies",
          "India",
          "Australia",
          "New Zealand"
         ],
         "y": [
          2,
          2,
          2,
          1
         ]
        },
        {
         "hovertemplate": "<b>%{x}</b> : %{y} wins<extra></extra>",
         "name": " New Zealand wins across host countries",
         "type": "bar",
         "visible": false,
         "x": [
          "New Zealand"
         ],
         "y": [
          1
         ]
        },
        {
         "hovertemplate": "<b>%{x}</b> : %{y} wins<extra></extra>",
         "name": "Afghanistan wins across host countries",
         "type": "bar",
         "visible": false,
         "x": [
          "New Zealand",
          "India"
         ],
         "y": [
          1,
          4
         ]
        }
       ],
       "layout": {
        "autosize": true,
        "template": {
         "data": {
          "bar": [
           {
            "error_x": {
             "color": "#f2f5fa"
            },
            "error_y": {
             "color": "#f2f5fa"
            },
            "marker": {
             "line": {
              "color": "rgb(17,17,17)",
              "width": 0.5
             },
             "pattern": {
              "fillmode": "overlay",
              "size": 10,
              "solidity": 0.2
             }
            },
            "type": "bar"
           }
          ],
          "barpolar": [
           {
            "marker": {
             "line": {
              "color": "rgb(17,17,17)",
              "width": 0.5
             },
             "pattern": {
              "fillmode": "overlay",
              "size": 10,
              "solidity": 0.2
             }
            },
            "type": "barpolar"
           }
          ],
          "carpet": [
           {
            "aaxis": {
             "endlinecolor": "#A2B1C6",
             "gridcolor": "#506784",
             "linecolor": "#506784",
             "minorgridcolor": "#506784",
             "startlinecolor": "#A2B1C6"
            },
            "baxis": {
             "endlinecolor": "#A2B1C6",
             "gridcolor": "#506784",
             "linecolor": "#506784",
             "minorgridcolor": "#506784",
             "startlinecolor": "#A2B1C6"
            },
            "type": "carpet"
           }
          ],
          "choropleth": [
           {
            "colorbar": {
             "outlinewidth": 0,
             "ticks": ""
            },
            "type": "choropleth"
           }
          ],
          "contour": [
           {
            "colorbar": {
             "outlinewidth": 0,
             "ticks": ""
            },
            "colorscale": [
             [
              0,
              "#0d0887"
             ],
             [
              0.1111111111111111,
              "#46039f"
             ],
             [
              0.2222222222222222,
              "#7201a8"
             ],
             [
              0.3333333333333333,
              "#9c179e"
             ],
             [
              0.4444444444444444,
              "#bd3786"
             ],
             [
              0.5555555555555556,
              "#d8576b"
             ],
             [
              0.6666666666666666,
              "#ed7953"
             ],
             [
              0.7777777777777778,
              "#fb9f3a"
             ],
             [
              0.8888888888888888,
              "#fdca26"
             ],
             [
              1,
              "#f0f921"
             ]
            ],
            "type": "contour"
           }
          ],
          "contourcarpet": [
           {
            "colorbar": {
             "outlinewidth": 0,
             "ticks": ""
            },
            "type": "contourcarpet"
           }
          ],
          "heatmap": [
           {
            "colorbar": {
             "outlinewidth": 0,
             "ticks": ""
            },
            "colorscale": [
             [
              0,
              "#0d0887"
             ],
             [
              0.1111111111111111,
              "#46039f"
             ],
             [
              0.2222222222222222,
              "#7201a8"
             ],
             [
              0.3333333333333333,
              "#9c179e"
             ],
             [
              0.4444444444444444,
              "#bd3786"
             ],
             [
              0.5555555555555556,
              "#d8576b"
             ],
             [
              0.6666666666666666,
              "#ed7953"
             ],
             [
              0.7777777777777778,
              "#fb9f3a"
             ],
             [
              0.8888888888888888,
              "#fdca26"
             ],
             [
              1,
              "#f0f921"
             ]
            ],
            "type": "heatmap"
           }
          ],
          "heatmapgl": [
           {
            "colorbar": {
             "outlinewidth": 0,
             "ticks": ""
            },
            "colorscale": [
             [
              0,
              "#0d0887"
             ],
             [
              0.1111111111111111,
              "#46039f"
             ],
             [
              0.2222222222222222,
              "#7201a8"
             ],
             [
              0.3333333333333333,
              "#9c179e"
             ],
             [
              0.4444444444444444,
              "#bd3786"
             ],
             [
              0.5555555555555556,
              "#d8576b"
             ],
             [
              0.6666666666666666,
              "#ed7953"
             ],
             [
              0.7777777777777778,
              "#fb9f3a"
             ],
             [
              0.8888888888888888,
              "#fdca26"
             ],
             [
              1,
              "#f0f921"
             ]
            ],
            "type": "heatmapgl"
           }
          ],
          "histogram": [
           {
            "marker": {
             "pattern": {
              "fillmode": "overlay",
              "size": 10,
              "solidity": 0.2
             }
            },
            "type": "histogram"
           }
          ],
          "histogram2d": [
           {
            "colorbar": {
             "outlinewidth": 0,
             "ticks": ""
            },
            "colorscale": [
             [
              0,
              "#0d0887"
             ],
             [
              0.1111111111111111,
              "#46039f"
             ],
             [
              0.2222222222222222,
              "#7201a8"
             ],
             [
              0.3333333333333333,
              "#9c179e"
             ],
             [
              0.4444444444444444,
              "#bd3786"
             ],
             [
              0.5555555555555556,
              "#d8576b"
             ],
             [
              0.6666666666666666,
              "#ed7953"
             ],
             [
              0.7777777777777778,
              "#fb9f3a"
             ],
             [
              0.8888888888888888,
              "#fdca26"
             ],
             [
              1,
              "#f0f921"
             ]
            ],
            "type": "histogram2d"
           }
          ],
          "histogram2dcontour": [
           {
            "colorbar": {
             "outlinewidth": 0,
             "ticks": ""
            },
            "colorscale": [
             [
              0,
              "#0d0887"
             ],
             [
              0.1111111111111111,
              "#46039f"
             ],
             [
              0.2222222222222222,
              "#7201a8"
             ],
             [
              0.3333333333333333,
              "#9c179e"
             ],
             [
              0.4444444444444444,
              "#bd3786"
             ],
             [
              0.5555555555555556,
              "#d8576b"
             ],
             [
              0.6666666666666666,
              "#ed7953"
             ],
             [
              0.7777777777777778,
              "#fb9f3a"
             ],
             [
              0.8888888888888888,
              "#fdca26"
             ],
             [
              1,
              "#f0f921"
             ]
            ],
            "type": "histogram2dcontour"
           }
          ],
          "mesh3d": [
           {
            "colorbar": {
             "outlinewidth": 0,
             "ticks": ""
            },
            "type": "mesh3d"
           }
          ],
          "parcoords": [
           {
            "line": {
             "colorbar": {
              "outlinewidth": 0,
              "ticks": ""
             }
            },
            "type": "parcoords"
           }
          ],
          "pie": [
           {
            "automargin": true,
            "type": "pie"
           }
          ],
          "scatter": [
           {
            "marker": {
             "line": {
              "color": "#283442"
             }
            },
            "type": "scatter"
           }
          ],
          "scatter3d": [
           {
            "line": {
             "colorbar": {
              "outlinewidth": 0,
              "ticks": ""
             }
            },
            "marker": {
             "colorbar": {
              "outlinewidth": 0,
              "ticks": ""
             }
            },
            "type": "scatter3d"
           }
          ],
          "scattercarpet": [
           {
            "marker": {
             "colorbar": {
              "outlinewidth": 0,
              "ticks": ""
             }
            },
            "type": "scattercarpet"
           }
          ],
          "scattergeo": [
           {
            "marker": {
             "colorbar": {
              "outlinewidth": 0,
              "ticks": ""
             }
            },
            "type": "scattergeo"
           }
          ],
          "scattergl": [
           {
            "marker": {
             "line": {
              "color": "#283442"
             }
            },
            "type": "scattergl"
           }
          ],
          "scattermapbox": [
           {
            "marker": {
             "colorbar": {
              "outlinewidth": 0,
              "ticks": ""
             }
            },
            "type": "scattermapbox"
           }
          ],
          "scatterpolar": [
           {
            "marker": {
             "colorbar": {
              "outlinewidth": 0,
              "ticks": ""
             }
            },
            "type": "scatterpolar"
           }
          ],
          "scatterpolargl": [
           {
            "marker": {
             "colorbar": {
              "outlinewidth": 0,
              "ticks": ""
             }
            },
            "type": "scatterpolargl"
           }
          ],
          "scatterternary": [
           {
            "marker": {
             "colorbar": {
              "outlinewidth": 0,
              "ticks": ""
             }
            },
            "type": "scatterternary"
           }
          ],
          "surface": [
           {
            "colorbar": {
             "outlinewidth": 0,
             "ticks": ""
            },
            "colorscale": [
             [
              0,
              "#0d0887"
             ],
             [
              0.1111111111111111,
              "#46039f"
             ],
             [
              0.2222222222222222,
              "#7201a8"
             ],
             [
              0.3333333333333333,
              "#9c179e"
             ],
             [
              0.4444444444444444,
              "#bd3786"
             ],
             [
              0.5555555555555556,
              "#d8576b"
             ],
             [
              0.6666666666666666,
              "#ed7953"
             ],
             [
              0.7777777777777778,
              "#fb9f3a"
             ],
             [
              0.8888888888888888,
              "#fdca26"
             ],
             [
              1,
              "#f0f921"
             ]
            ],
            "type": "surface"
           }
          ],
          "table": [
           {
            "cells": {
             "fill": {
              "color": "#506784"
             },
             "line": {
              "color": "rgb(17,17,17)"
             }
            },
            "header": {
             "fill": {
              "color": "#2a3f5f"
             },
             "line": {
              "color": "rgb(17,17,17)"
             }
            },
            "type": "table"
           }
          ]
         },
         "layout": {
          "annotationdefaults": {
           "arrowcolor": "#f2f5fa",
           "arrowhead": 0,
           "arrowwidth": 1
          },
          "autotypenumbers": "strict",
          "coloraxis": {
           "colorbar": {
            "outlinewidth": 0,
            "ticks": ""
           }
          },
          "colorscale": {
           "diverging": [
            [
             0,
             "#8e0152"
            ],
            [
             0.1,
             "#c51b7d"
            ],
            [
             0.2,
             "#de77ae"
            ],
            [
             0.3,
             "#f1b6da"
            ],
            [
             0.4,
             "#fde0ef"
            ],
            [
             0.5,
             "#f7f7f7"
            ],
            [
             0.6,
             "#e6f5d0"
            ],
            [
             0.7,
             "#b8e186"
            ],
            [
             0.8,
             "#7fbc41"
            ],
            [
             0.9,
             "#4d9221"
            ],
            [
             1,
             "#276419"
            ]
           ],
           "sequential": [
            [
             0,
             "#0d0887"
            ],
            [
             0.1111111111111111,
             "#46039f"
            ],
            [
             0.2222222222222222,
             "#7201a8"
            ],
            [
             0.3333333333333333,
             "#9c179e"
            ],
            [
             0.4444444444444444,
             "#bd3786"
            ],
            [
             0.5555555555555556,
             "#d8576b"
            ],
            [
             0.6666666666666666,
             "#ed7953"
            ],
            [
             0.7777777777777778,
             "#fb9f3a"
            ],
            [
             0.8888888888888888,
             "#fdca26"
            ],
            [
             1,
             "#f0f921"
            ]
           ],
           "sequentialminus": [
            [
             0,
             "#0d0887"
            ],
            [
             0.1111111111111111,
             "#46039f"
            ],
            [
             0.2222222222222222,
             "#7201a8"
            ],
            [
             0.3333333333333333,
             "#9c179e"
            ],
            [
             0.4444444444444444,
             "#bd3786"
            ],
            [
             0.5555555555555556,
             "#d8576b"
            ],
            [
             0.6666666666666666,
             "#ed7953"
            ],
            [
             0.7777777777777778,
             "#fb9f3a"
            ],
            [
             0.8888888888888888,
             "#fdca26"
            ],
            [
             1,
             "#f0f921"
            ]
           ]
          },
          "colorway": [
           "#636efa",
           "#EF553B",
           "#00cc96",
           "#ab63fa",
           "#FFA15A",
           "#19d3f3",
           "#FF6692",
           "#B6E880",
           "#FF97FF",
           "#FECB52"
          ],
          "font": {
           "color": "#f2f5fa"
          },
          "geo": {
           "bgcolor": "rgb(17,17,17)",
           "lakecolor": "rgb(17,17,17)",
           "landcolor": "rgb(17,17,17)",
           "showlakes": true,
           "showland": true,
           "subunitcolor": "#506784"
          },
          "hoverlabel": {
           "align": "left"
          },
          "hovermode": "closest",
          "mapbox": {
           "style": "dark"
          },
          "paper_bgcolor": "rgb(17,17,17)",
          "plot_bgcolor": "rgb(17,17,17)",
          "polar": {
           "angularaxis": {
            "gridcolor": "#506784",
            "linecolor": "#506784",
            "ticks": ""
           },
           "bgcolor": "rgb(17,17,17)",
           "radialaxis": {
            "gridcolor": "#506784",
            "linecolor": "#506784",
            "ticks": ""
           }
          },
          "scene": {
           "xaxis": {
            "backgroundcolor": "rgb(17,17,17)",
            "gridcolor": "#506784",
            "gridwidth": 2,
            "linecolor": "#506784",
            "showbackground": true,
            "ticks": "",
            "zerolinecolor": "#C8D4E3"
           },
           "yaxis": {
            "backgroundcolor": "rgb(17,17,17)",
            "gridcolor": "#506784",
            "gridwidth": 2,
            "linecolor": "#506784",
            "showbackground": true,
            "ticks": "",
            "zerolinecolor": "#C8D4E3"
           },
           "zaxis": {
            "backgroundcolor": "rgb(17,17,17)",
            "gridcolor": "#506784",
            "gridwidth": 2,
            "linecolor": "#506784",
            "showbackground": true,
            "ticks": "",
            "zerolinecolor": "#C8D4E3"
           }
          },
          "shapedefaults": {
           "line": {
            "color": "#f2f5fa"
           }
          },
          "sliderdefaults": {
           "bgcolor": "#C8D4E3",
           "bordercolor": "rgb(17,17,17)",
           "borderwidth": 1,
           "tickwidth": 0
          },
          "ternary": {
           "aaxis": {
            "gridcolor": "#506784",
            "linecolor": "#506784",
            "ticks": ""
           },
           "baxis": {
            "gridcolor": "#506784",
            "linecolor": "#506784",
            "ticks": ""
           },
           "bgcolor": "rgb(17,17,17)",
           "caxis": {
            "gridcolor": "#506784",
            "linecolor": "#506784",
            "ticks": ""
           }
          },
          "title": {
           "x": 0.05
          },
          "updatemenudefaults": {
           "bgcolor": "#506784",
           "borderwidth": 0
          },
          "xaxis": {
           "automargin": true,
           "gridcolor": "#283442",
           "linecolor": "#506784",
           "ticks": "",
           "title": {
            "standoff": 15
           },
           "zerolinecolor": "#283442",
           "zerolinewidth": 2
          },
          "yaxis": {
           "automargin": true,
           "gridcolor": "#283442",
           "linecolor": "#506784",
           "ticks": "",
           "title": {
            "standoff": 15
           },
           "zerolinecolor": "#283442",
           "zerolinewidth": 2
          }
         }
        },
        "title": {
         "text": "Wins by Country Across Different Host Countries"
        },
        "updatemenus": [
         {
          "active": 0,
          "buttons": [
           {
            "args": [
             {
              "visible": [
               true,
               false,
               false,
               false,
               false,
               false,
               false,
               false,
               false,
               false,
               false,
               false,
               false,
               false,
               false,
               false,
               false,
               false
              ]
             },
             {
              "title": "Wins by Pakistan in Different Host Countries"
             }
            ],
            "label": "Pakistan",
            "method": "update"
           },
           {
            "args": [
             {
              "visible": [
               false,
               true,
               false,
               false,
               false,
               false,
               false,
               false,
               false,
               false,
               false,
               false,
               false,
               false,
               false,
               false,
               false,
               false
              ]
             },
             {
              "title": "Wins by India in Different Host Countries"
             }
            ],
            "label": "India",
            "method": "update"
           },
           {
            "args": [
             {
              "visible": [
               false,
               false,
               true,
               false,
               false,
               false,
               false,
               false,
               false,
               false,
               false,
               false,
               false,
               false,
               false,
               false,
               false,
               false
              ]
             },
             {
              "title": "Wins by Australia in Different Host Countries"
             }
            ],
            "label": "Australia",
            "method": "update"
           },
           {
            "args": [
             {
              "visible": [
               false,
               false,
               false,
               true,
               false,
               false,
               false,
               false,
               false,
               false,
               false,
               false,
               false,
               false,
               false,
               false,
               false,
               false
              ]
             },
             {
              "title": "Wins by England in Different Host Countries"
             }
            ],
            "label": "England",
            "method": "update"
           },
           {
            "args": [
             {
              "visible": [
               false,
               false,
               false,
               false,
               true,
               false,
               false,
               false,
               false,
               false,
               false,
               false,
               false,
               false,
               false,
               false,
               false,
               false
              ]
             },
             {
              "title": "Wins by West Indies in Different Host Countries"
             }
            ],
            "label": "West Indies",
            "method": "update"
           },
           {
            "args": [
             {
              "visible": [
               false,
               false,
               false,
               false,
               false,
               true,
               false,
               false,
               false,
               false,
               false,
               false,
               false,
               false,
               false,
               false,
               false,
               false
              ]
             },
             {
              "title": "Wins by New Zealand in Different Host Countries"
             }
            ],
            "label": "New Zealand",
            "method": "update"
           },
           {
            "args": [
             {
              "visible": [
               false,
               false,
               false,
               false,
               false,
               false,
               true,
               false,
               false,
               false,
               false,
               false,
               false,
               false,
               false,
               false,
               false,
               false
              ]
             },
             {
              "title": "Wins by Sri Lanka in Different Host Countries"
             }
            ],
            "label": "Sri Lanka",
            "method": "update"
           },
           {
            "args": [
             {
              "visible": [
               false,
               false,
               false,
               false,
               false,
               false,
               false,
               true,
               false,
               false,
               false,
               false,
               false,
               false,
               false,
               false,
               false,
               false
              ]
             },
             {
              "title": "Wins by Zimbabwe in Different Host Countries"
             }
            ],
            "label": "Zimbabwe",
            "method": "update"
           },
           {
            "args": [
             {
              "visible": [
               false,
               false,
               false,
               false,
               false,
               false,
               false,
               false,
               true,
               false,
               false,
               false,
               false,
               false,
               false,
               false,
               false,
               false
              ]
             },
             {
              "title": "Wins by South Africa in Different Host Countries"
             }
            ],
            "label": "South Africa",
            "method": "update"
           },
           {
            "args": [
             {
              "visible": [
               false,
               false,
               false,
               false,
               false,
               false,
               false,
               false,
               false,
               true,
               false,
               false,
               false,
               false,
               false,
               false,
               false,
               false
              ]
             },
             {
              "title": "Wins by Kenya in Different Host Countries"
             }
            ],
            "label": "Kenya",
            "method": "update"
           },
           {
            "args": [
             {
              "visible": [
               false,
               false,
               false,
               false,
               false,
               false,
               false,
               false,
               false,
               false,
               true,
               false,
               false,
               false,
               false,
               false,
               false,
               false
              ]
             },
             {
              "title": "Wins by U.A.E. in Different Host Countries"
             }
            ],
            "label": "U.A.E.",
            "method": "update"
           },
           {
            "args": [
             {
              "visible": [
               false,
               false,
               false,
               false,
               false,
               false,
               false,
               false,
               false,
               false,
               false,
               true,
               false,
               false,
               false,
               false,
               false,
               false
              ]
             },
             {
              "title": "Wins by Bangladesh in Different Host Countries"
             }
            ],
            "label": "Bangladesh",
            "method": "update"
           },
           {
            "args": [
             {
              "visible": [
               false,
               false,
               false,
               false,
               false,
               false,
               false,
               false,
               false,
               false,
               false,
               false,
               true,
               false,
               false,
               false,
               false,
               false
              ]
             },
             {
              "title": "Wins by Match tied (D/L method) in Different Host Countries"
             }
            ],
            "label": "Match tied (D/L method)",
            "method": "update"
           },
           {
            "args": [
             {
              "visible": [
               false,
               false,
               false,
               false,
               false,
               false,
               false,
               false,
               false,
               false,
               false,
               false,
               false,
               true,
               false,
               false,
               false,
               false
              ]
             },
             {
              "title": "Wins by Netherlands in Different Host Countries"
             }
            ],
            "label": "Netherlands",
            "method": "update"
           },
           {
            "args": [
             {
              "visible": [
               false,
               false,
               false,
               false,
               false,
               false,
               false,
               false,
               false,
               false,
               false,
               false,
               false,
               false,
               true,
               false,
               false,
               false
              ]
             },
             {
              "title": "Wins by Canada in Different Host Countries"
             }
            ],
            "label": "Canada",
            "method": "update"
           },
           {
            "args": [
             {
              "visible": [
               false,
               false,
               false,
               false,
               false,
               false,
               false,
               false,
               false,
               false,
               false,
               false,
               false,
               false,
               false,
               true,
               false,
               false
              ]
             },
             {
              "title": "Wins by Ireland in Different Host Countries"
             }
            ],
            "label": "Ireland",
            "method": "update"
           },
           {
            "args": [
             {
              "visible": [
               false,
               false,
               false,
               false,
               false,
               false,
               false,
               false,
               false,
               false,
               false,
               false,
               false,
               false,
               false,
               false,
               true,
               false
              ]
             },
             {
              "title": "Wins by  New Zealand in Different Host Countries"
             }
            ],
            "label": " New Zealand",
            "method": "update"
           },
           {
            "args": [
             {
              "visible": [
               false,
               false,
               false,
               false,
               false,
               false,
               false,
               false,
               false,
               false,
               false,
               false,
               false,
               false,
               false,
               false,
               false,
               true
              ]
             },
             {
              "title": "Wins by Afghanistan in Different Host Countries"
             }
            ],
            "label": "Afghanistan",
            "method": "update"
           }
          ],
          "direction": "down",
          "showactive": true,
          "x": 1,
          "xanchor": "right",
          "y": 1.2,
          "yanchor": "top"
         }
        ],
        "xaxis": {
         "autorange": true,
         "range": [
          -0.5,
          8.5
         ],
         "title": {
          "text": "Host Countries"
         },
         "type": "category"
        },
        "yaxis": {
         "autorange": true,
         "range": [
          0,
          17.894736842105264
         ],
         "title": {
          "text": "Number of Wins"
         },
         "type": "linear"
        }
       }
      },
      "image/png": "[encoded data removed]",
      "text/html": [
       "<div>                            <div id=\"e38f7c06-57a4-40cf-b031-426dfe9c600c\" class=\"plotly-graph-div\" style=\"height:525px; width:100%;\"></div>            <script type=\"text/javascript\">                require([\"plotly\"], function(Plotly) {                    window.PLOTLYENV=window.PLOTLYENV || {};                                    if (document.getElementById(\"e38f7c06-57a4-40cf-b031-426dfe9c600c\")) {                    Plotly.newPlot(                        \"e38f7c06-57a4-40cf-b031-426dfe9c600c\",                        [{\"hovertemplate\":\"\\u003cb\\u003e%{x}\\u003c\\u002fb\\u003e : %{y} wins\\u003cextra\\u003e\\u003c\\u002fextra\\u003e\",\"name\":\"Pakistan wins across host countries\",\"visible\":true,\"x\":[\"England\",\"Pakistan\",\"Australia\",\"New Zealand\",\"South Africa\",\"West Indies\",\"Bangladesh\",\"Sri Lanka\",\"India\"],\"y\":[17,9,6,4,2,1,1,5,4],\"type\":\"bar\"},{\"hovertemplate\":\"\\u003cb\\u003e%{x}\\u003c\\u002fb\\u003e : %{y} wins\\u003cextra\\u003e\\u003c\\u002fextra\\u003e\",\"name\":\"India wins across host countries\",\"visible\":false,\"x\":[\"England\",\"India\",\"Australia\",\"New Zealand\",\"South Africa\",\"West Indies\",\"Bangladesh\"],\"y\":[18,25,6,3,9,1,1],\"type\":\"bar\"},{\"hovertemplate\":\"\\u003cb\\u003e%{x}\\u003c\\u002fb\\u003e : %{y} wins\\u003cextra\\u003e\\u003c\\u002fextra\\u003e\",\"name\":\"Australia wins across host countries\",\"visible\":false,\"x\":[\"England\",\"Pakistan\",\"India\",\"Australia\",\"South Africa\",\"West Indies\"],\"y\":[20,1,24,11,11,11],\"type\":\"bar\"},{\"hovertemplate\":\"\\u003cb\\u003e%{x}\\u003c\\u002fb\\u003e : %{y} wins\\u003cextra\\u003e\\u003c\\u002fextra\\u003e\",\"name\":\"England wins across host countries\",\"visible\":false,\"x\":[\"England\",\"India\",\"Pakistan\",\"Australia\",\"New Zealand\",\"South Africa\",\"West Indies\"],\"y\":[23,9,4,6,2,3,5],\"type\":\"bar\"},{\"hovertemplate\":\"\\u003cb\\u003e%{x}\\u003c\\u002fb\\u003e : %{y} wins\\u003cextra\\u003e\\u003c\\u002fextra\\u003e\",\"name\":\"West Indies wins across host countries\",\"visible\":false,\"x\":[\"England\",\"Pakistan\",\"India\",\"New Zealand\",\"Australia\",\"South Africa\",\"West Indies\",\"Bangladesh\"],\"y\":[20,3,5,4,3,3,4,1],\"type\":\"bar\"},{\"hovertemplate\":\"\\u003cb\\u003e%{x}\\u003c\\u002fb\\u003e : %{y} wins\\u003cextra\\u003e\\u003c\\u002fextra\\u003e\",\"name\":\"New Zealand wins across host countries\",\"visible\":false,\"x\":[\"England\",\"India\",\"New Zealand\",\"Pakistan\",\"South Africa\",\"West Indies\",\"Bangladesh\",\"Sri Lanka\"],\"y\":[17,12,14,1,5,7,1,1],\"type\":\"bar\"},{\"hovertemplate\":\"\\u003cb\\u003e%{x}\\u003c\\u002fb\\u003e : %{y} wins\\u003cextra\\u003e\\u003c\\u002fextra\\u003e\",\"name\":\"Sri Lanka wins across host countries\",\"visible\":false,\"x\":[\"England\",\"New Zealand\",\"Pakistan\",\"India\",\"Sri Lanka\",\"South Africa\",\"West Indies\",\"Australia\"],\"y\":[7,4,2,6,6,5,8,2],\"type\":\"bar\"},{\"hovertemplate\":\"\\u003cb\\u003e%{x}\\u003c\\u002fb\\u003e : %{y} wins\\u003cextra\\u003e\\u003c\\u002fextra\\u003e\",\"name\":\"Zimbabwe wins across host countries\",\"visible\":false,\"x\":[\"England\",\"New Zealand\",\"India\",\"South Africa\"],\"y\":[4,2,3,2],\"type\":\"bar\"},{\"hovertemplate\":\"\\u003cb\\u003e%{x}\\u003c\\u002fb\\u003e : %{y} wins\\u003cextra\\u003e\\u003c\\u002fextra\\u003e\",\"name\":\"South Africa wins across host countries\",\"visible\":false,\"x\":[\"Australia\",\"New Zealand\",\"Pakistan\",\"England\",\"South Africa\",\"West Indies\",\"India\",\"Bangladesh\"],\"y\":[7,3,5,9,3,6,11,1],\"type\":\"bar\"},{\"hovertemplate\":\"\\u003cb\\u003e%{x}\\u003c\\u002fb\\u003e : %{y} wins\\u003cextra\\u003e\\u003c\\u002fextra\\u003e\",\"name\":\"Kenya wins across host countries\",\"visible\":false,\"x\":[\"India\",\"South Africa\",\"West Indies\"],\"y\":[1,4,1],\"type\":\"bar\"},{\"hovertemplate\":\"\\u003cb\\u003e%{x}\\u003c\\u002fb\\u003e : %{y} wins\\u003cextra\\u003e\\u003c\\u002fextra\\u003e\",\"name\":\"U.A.E. wins across host countries\",\"visible\":false,\"x\":[\"Pakistan\"],\"y\":[1],\"type\":\"bar\"},{\"hovertemplate\":\"\\u003cb\\u003e%{x}\\u003c\\u002fb\\u003e : %{y} wins\\u003cextra\\u003e\\u003c\\u002fextra\\u003e\",\"name\":\"Bangladesh wins across host countries\",\"visible\":false,\"x\":[\"England\",\"West Indies\",\"Bangladesh\",\"Australia\",\"New Zealand\",\"India\"],\"y\":[5,3,3,2,1,2],\"type\":\"bar\"},{\"hovertemplate\":\"\\u003cb\\u003e%{x}\\u003c\\u002fb\\u003e : %{y} wins\\u003cextra\\u003e\\u003c\\u002fextra\\u003e\",\"name\":\"Match tied (D\\u002fL method) wins across host countries\",\"visible\":false,\"x\":[\"South Africa\"],\"y\":[1],\"type\":\"bar\"},{\"hovertemplate\":\"\\u003cb\\u003e%{x}\\u003c\\u002fb\\u003e : %{y} wins\\u003cextra\\u003e\\u003c\\u002fextra\\u003e\",\"name\":\"Netherlands wins across host countries\",\"visible\":false,\"x\":[\"South Africa\",\"West Indies\",\"India\"],\"y\":[1,1,2],\"type\":\"bar\"},{\"hovertemplate\":\"\\u003cb\\u003e%{x}\\u003c\\u002fb\\u003e : %{y} wins\\u003cextra\\u003e\\u003c\\u002fextra\\u003e\",\"name\":\"Canada wins across host countries\",\"visible\":false,\"x\":[\"South Africa\",\"India\"],\"y\":[1,1],\"type\":\"bar\"},{\"hovertemplate\":\"\\u003cb\\u003e%{x}\\u003c\\u002fb\\u003e : %{y} wins\\u003cextra\\u003e\\u003c\\u002fextra\\u003e\",\"name\":\"Ireland wins across host countries\",\"visible\":false,\"x\":[\"West Indies\",\"India\",\"Australia\",\"New Zealand\"],\"y\":[2,2,2,1],\"type\":\"bar\"},{\"hovertemplate\":\"\\u003cb\\u003e%{x}\\u003c\\u002fb\\u003e : %{y} wins\\u003cextra\\u003e\\u003c\\u002fextra\\u003e\",\"name\":\" New Zealand wins across host countries\",\"visible\":false,\"x\":[\"New Zealand\"],\"y\":[1],\"type\":\"bar\"},{\"hovertemplate\":\"\\u003cb\\u003e%{x}\\u003c\\u002fb\\u003e : %{y} wins\\u003cextra\\u003e\\u003c\\u002fextra\\u003e\",\"name\":\"Afghanistan wins across host countries\",\"visible\":false,\"x\":[\"New Zealand\",\"India\"],\"y\":[1,4],\"type\":\"bar\"}],                        {\"template\":{\"data\":{\"barpolar\":[{\"marker\":{\"line\":{\"color\":\"rgb(17,17,17)\",\"width\":0.5},\"pattern\":{\"fillmode\":\"overlay\",\"size\":10,\"solidity\":0.2}},\"type\":\"barpolar\"}],\"bar\":[{\"error_x\":{\"color\":\"#f2f5fa\"},\"error_y\":{\"color\":\"#f2f5fa\"},\"marker\":{\"line\":{\"color\":\"rgb(17,17,17)\",\"width\":0.5},\"pattern\":{\"fillmode\":\"overlay\",\"size\":10,\"solidity\":0.2}},\"type\":\"bar\"}],\"carpet\":[{\"aaxis\":{\"endlinecolor\":\"#A2B1C6\",\"gridcolor\":\"#506784\",\"linecolor\":\"#506784\",\"minorgridcolor\":\"#506784\",\"startlinecolor\":\"#A2B1C6\"},\"baxis\":{\"endlinecolor\":\"#A2B1C6\",\"gridcolor\":\"#506784\",\"linecolor\":\"#506784\",\"minorgridcolor\":\"#506784\",\"startlinecolor\":\"#A2B1C6\"},\"type\":\"carpet\"}],\"choropleth\":[{\"colorbar\":{\"outlinewidth\":0,\"ticks\":\"\"},\"type\":\"choropleth\"}],\"contourcarpet\":[{\"colorbar\":{\"outlinewidth\":0,\"ticks\":\"\"},\"type\":\"contourcarpet\"}],\"contour\":[{\"colorbar\":{\"outlinewidth\":0,\"ticks\":\"\"},\"colorscale\":[[0.0,\"#0d0887\"],[0.1111111111111111,\"#46039f\"],[0.2222222222222222,\"#7201a8\"],[0.3333333333333333,\"#9c179e\"],[0.4444444444444444,\"#bd3786\"],[0.5555555555555556,\"#d8576b\"],[0.6666666666666666,\"#ed7953\"],[0.7777777777777778,\"#fb9f3a\"],[0.8888888888888888,\"#fdca26\"],[1.0,\"#f0f921\"]],\"type\":\"contour\"}],\"heatmapgl\":[{\"colorbar\":{\"outlinewidth\":0,\"ticks\":\"\"},\"colorscale\":[[0.0,\"#0d0887\"],[0.1111111111111111,\"#46039f\"],[0.2222222222222222,\"#7201a8\"],[0.3333333333333333,\"#9c179e\"],[0.4444444444444444,\"#bd3786\"],[0.5555555555555556,\"#d8576b\"],[0.6666666666666666,\"#ed7953\"],[0.7777777777777778,\"#fb9f3a\"],[0.8888888888888888,\"#fdca26\"],[1.0,\"#f0f921\"]],\"type\":\"heatmapgl\"}],\"heatmap\":[{\"colorbar\":{\"outlinewidth\":0,\"ticks\":\"\"},\"colorscale\":[[0.0,\"#0d0887\"],[0.1111111111111111,\"#46039f\"],[0.2222222222222222,\"#7201a8\"],[0.3333333333333333,\"#9c179e\"],[0.4444444444444444,\"#bd3786\"],[0.5555555555555556,\"#d8576b\"],[0.6666666666666666,\"#ed7953\"],[0.7777777777777778,\"#fb9f3a\"],[0.8888888888888888,\"#fdca26\"],[1.0,\"#f0f921\"]],\"type\":\"heatmap\"}],\"histogram2dcontour\":[{\"colorbar\":{\"outlinewidth\":0,\"ticks\":\"\"},\"colorscale\":[[0.0,\"#0d0887\"],[0.1111111111111111,\"#46039f\"],[0.2222222222222222,\"#7201a8\"],[0.3333333333333333,\"#9c179e\"],[0.4444444444444444,\"#bd3786\"],[0.5555555555555556,\"#d8576b\"],[0.6666666666666666,\"#ed7953\"],[0.7777777777777778,\"#fb9f3a\"],[0.8888888888888888,\"#fdca26\"],[1.0,\"#f0f921\"]],\"type\":\"histogram2dcontour\"}],\"histogram2d\":[{\"colorbar\":{\"outlinewidth\":0,\"ticks\":\"\"},\"colorscale\":[[0.0,\"#0d0887\"],[0.1111111111111111,\"#46039f\"],[0.2222222222222222,\"#7201a8\"],[0.3333333333333333,\"#9c179e\"],[0.4444444444444444,\"#bd3786\"],[0.5555555555555556,\"#d8576b\"],[0.6666666666666666,\"#ed7953\"],[0.7777777777777778,\"#fb9f3a\"],[0.8888888888888888,\"#fdca26\"],[1.0,\"#f0f921\"]],\"type\":\"histogram2d\"}],\"histogram\":[{\"marker\":{\"pattern\":{\"fillmode\":\"overlay\",\"size\":10,\"solidity\":0.2}},\"type\":\"histogram\"}],\"mesh3d\":[{\"colorbar\":{\"outlinewidth\":0,\"ticks\":\"\"},\"type\":\"mesh3d\"}],\"parcoords\":[{\"line\":{\"colorbar\":{\"outlinewidth\":0,\"ticks\":\"\"}},\"type\":\"parcoords\"}],\"pie\":[{\"automargin\":true,\"type\":\"pie\"}],\"scatter3d\":[{\"line\":{\"colorbar\":{\"outlinewidth\":0,\"ticks\":\"\"}},\"marker\":{\"colorbar\":{\"outlinewidth\":0,\"ticks\":\"\"}},\"type\":\"scatter3d\"}],\"scattercarpet\":[{\"marker\":{\"colorbar\":{\"outlinewidth\":0,\"ticks\":\"\"}},\"type\":\"scattercarpet\"}],\"scattergeo\":[{\"marker\":{\"colorbar\":{\"outlinewidth\":0,\"ticks\":\"\"}},\"type\":\"scattergeo\"}],\"scattergl\":[{\"marker\":{\"line\":{\"color\":\"#283442\"}},\"type\":\"scattergl\"}],\"scattermapbox\":[{\"marker\":{\"colorbar\":{\"outlinewidth\":0,\"ticks\":\"\"}},\"type\":\"scattermapbox\"}],\"scatterpolargl\":[{\"marker\":{\"colorbar\":{\"outlinewidth\":0,\"ticks\":\"\"}},\"type\":\"scatterpolargl\"}],\"scatterpolar\":[{\"marker\":{\"colorbar\":{\"outlinewidth\":0,\"ticks\":\"\"}},\"type\":\"scatterpolar\"}],\"scatter\":[{\"marker\":{\"line\":{\"color\":\"#283442\"}},\"type\":\"scatter\"}],\"scatterternary\":[{\"marker\":{\"colorbar\":{\"outlinewidth\":0,\"ticks\":\"\"}},\"type\":\"scatterternary\"}],\"surface\":[{\"colorbar\":{\"outlinewidth\":0,\"ticks\":\"\"},\"colorscale\":[[0.0,\"#0d0887\"],[0.1111111111111111,\"#46039f\"],[0.2222222222222222,\"#7201a8\"],[0.3333333333333333,\"#9c179e\"],[0.4444444444444444,\"#bd3786\"],[0.5555555555555556,\"#d8576b\"],[0.6666666666666666,\"#ed7953\"],[0.7777777777777778,\"#fb9f3a\"],[0.8888888888888888,\"#fdca26\"],[1.0,\"#f0f921\"]],\"type\":\"surface\"}],\"table\":[{\"cells\":{\"fill\":{\"color\":\"#506784\"},\"line\":{\"color\":\"rgb(17,17,17)\"}},\"header\":{\"fill\":{\"color\":\"#2a3f5f\"},\"line\":{\"color\":\"rgb(17,17,17)\"}},\"type\":\"table\"}]},\"layout\":{\"annotationdefaults\":{\"arrowcolor\":\"#f2f5fa\",\"arrowhead\":0,\"arrowwidth\":1},\"autotypenumbers\":\"strict\",\"coloraxis\":{\"colorbar\":{\"outlinewidth\":0,\"ticks\":\"\"}},\"colorscale\":{\"diverging\":[[0,\"#8e0152\"],[0.1,\"#c51b7d\"],[0.2,\"#de77ae\"],[0.3,\"#f1b6da\"],[0.4,\"#fde0ef\"],[0.5,\"#f7f7f7\"],[0.6,\"#e6f5d0\"],[0.7,\"#b8e186\"],[0.8,\"#7fbc41\"],[0.9,\"#4d9221\"],[1,\"#276419\"]],\"sequential\":[[0.0,\"#0d0887\"],[0.1111111111111111,\"#46039f\"],[0.2222222222222222,\"#7201a8\"],[0.3333333333333333,\"#9c179e\"],[0.4444444444444444,\"#bd3786\"],[0.5555555555555556,\"#d8576b\"],[0.6666666666666666,\"#ed7953\"],[0.7777777777777778,\"#fb9f3a\"],[0.8888888888888888,\"#fdca26\"],[1.0,\"#f0f921\"]],\"sequentialminus\":[[0.0,\"#0d0887\"],[0.1111111111111111,\"#46039f\"],[0.2222222222222222,\"#7201a8\"],[0.3333333333333333,\"#9c179e\"],[0.4444444444444444,\"#bd3786\"],[0.5555555555555556,\"#d8576b\"],[0.6666666666666666,\"#ed7953\"],[0.7777777777777778,\"#fb9f3a\"],[0.8888888888888888,\"#fdca26\"],[1.0,\"#f0f921\"]]},\"colorway\":[\"#636efa\",\"#EF553B\",\"#00cc96\",\"#ab63fa\",\"#FFA15A\",\"#19d3f3\",\"#FF6692\",\"#B6E880\",\"#FF97FF\",\"#FECB52\"],\"font\":{\"color\":\"#f2f5fa\"},\"geo\":{\"bgcolor\":\"rgb(17,17,17)\",\"lakecolor\":\"rgb(17,17,17)\",\"landcolor\":\"rgb(17,17,17)\",\"showlakes\":true,\"showland\":true,\"subunitcolor\":\"#506784\"},\"hoverlabel\":{\"align\":\"left\"},\"hovermode\":\"closest\",\"mapbox\":{\"style\":\"dark\"},\"paper_bgcolor\":\"rgb(17,17,17)\",\"plot_bgcolor\":\"rgb(17,17,17)\",\"polar\":{\"angularaxis\":{\"gridcolor\":\"#506784\",\"linecolor\":\"#506784\",\"ticks\":\"\"},\"bgcolor\":\"rgb(17,17,17)\",\"radialaxis\":{\"gridcolor\":\"#506784\",\"linecolor\":\"#506784\",\"ticks\":\"\"}},\"scene\":{\"xaxis\":{\"backgroundcolor\":\"rgb(17,17,17)\",\"gridcolor\":\"#506784\",\"gridwidth\":2,\"linecolor\":\"#506784\",\"showbackground\":true,\"ticks\":\"\",\"zerolinecolor\":\"#C8D4E3\"},\"yaxis\":{\"backgroundcolor\":\"rgb(17,17,17)\",\"gridcolor\":\"#506784\",\"gridwidth\":2,\"linecolor\":\"#506784\",\"showbackground\":true,\"ticks\":\"\",\"zerolinecolor\":\"#C8D4E3\"},\"zaxis\":{\"backgroundcolor\":\"rgb(17,17,17)\",\"gridcolor\":\"#506784\",\"gridwidth\":2,\"linecolor\":\"#506784\",\"showbackground\":true,\"ticks\":\"\",\"zerolinecolor\":\"#C8D4E3\"}},\"shapedefaults\":{\"line\":{\"color\":\"#f2f5fa\"}},\"sliderdefaults\":{\"bgcolor\":\"#C8D4E3\",\"bordercolor\":\"rgb(17,17,17)\",\"borderwidth\":1,\"tickwidth\":0},\"ternary\":{\"aaxis\":{\"gridcolor\":\"#506784\",\"linecolor\":\"#506784\",\"ticks\":\"\"},\"baxis\":{\"gridcolor\":\"#506784\",\"linecolor\":\"#506784\",\"ticks\":\"\"},\"bgcolor\":\"rgb(17,17,17)\",\"caxis\":{\"gridcolor\":\"#506784\",\"linecolor\":\"#506784\",\"ticks\":\"\"}},\"title\":{\"x\":0.05},\"updatemenudefaults\":{\"bgcolor\":\"#506784\",\"borderwidth\":0},\"xaxis\":{\"automargin\":true,\"gridcolor\":\"#283442\",\"linecolor\":\"#506784\",\"ticks\":\"\",\"title\":{\"standoff\":15},\"zerolinecolor\":\"#283442\",\"zerolinewidth\":2},\"yaxis\":{\"automargin\":true,\"gridcolor\":\"#283442\",\"linecolor\":\"#506784\",\"ticks\":\"\",\"title\":{\"standoff\":15},\"zerolinecolor\":\"#283442\",\"zerolinewidth\":2}}},\"updatemenus\":[{\"active\":0,\"buttons\":[{\"args\":[{\"visible\":[true,false,false,false,false,false,false,false,false,false,false,false,false,false,false,false,false,false]},{\"title\":\"Wins by Pakistan in Different Host Countries\"}],\"label\":\"Pakistan\",\"method\":\"update\"},{\"args\":[{\"visible\":[false,true,false,false,false,false,false,false,false,false,false,false,false,false,false,false,false,false]},{\"title\":\"Wins by India in Different Host Countries\"}],\"label\":\"India\",\"method\":\"update\"},{\"args\":[{\"visible\":[false,false,true,false,false,false,false,false,false,false,false,false,false,false,false,false,false,false]},{\"title\":\"Wins by Australia in Different Host Countries\"}],\"label\":\"Australia\",\"method\":\"update\"},{\"args\":[{\"visible\":[false,false,false,true,false,false,false,false,false,false,false,false,false,false,false,false,false,false]},{\"title\":\"Wins by England in Different Host Countries\"}],\"label\":\"England\",\"method\":\"update\"},{\"args\":[{\"visible\":[false,false,false,false,true,false,false,false,false,false,false,false,false,false,false,false,false,false]},{\"title\":\"Wins by West Indies in Different Host Countries\"}],\"label\":\"West Indies\",\"method\":\"update\"},{\"args\":[{\"visible\":[false,false,false,false,false,true,false,false,false,false,false,false,false,false,false,false,false,false]},{\"title\":\"Wins by New Zealand in Different Host Countries\"}],\"label\":\"New Zealand\",\"method\":\"update\"},{\"args\":[{\"visible\":[false,false,false,false,false,false,true,false,false,false,false,false,false,false,false,false,false,false]},{\"title\":\"Wins by Sri Lanka in Different Host Countries\"}],\"label\":\"Sri Lanka\",\"method\":\"update\"},{\"args\":[{\"visible\":[false,false,false,false,false,false,false,true,false,false,false,false,false,false,false,false,false,false]},{\"title\":\"Wins by Zimbabwe in Different Host Countries\"}],\"label\":\"Zimbabwe\",\"method\":\"update\"},{\"args\":[{\"visible\":[false,false,false,false,false,false,false,false,true,false,false,false,false,false,false,false,false,false]},{\"title\":\"Wins by South Africa in Different Host Countries\"}],\"label\":\"South Africa\",\"method\":\"update\"},{\"args\":[{\"visible\":[false,false,false,false,false,false,false,false,false,true,false,false,false,false,false,false,false,false]},{\"title\":\"Wins by Kenya in Different Host Countries\"}],\"label\":\"Kenya\",\"method\":\"update\"},{\"args\":[{\"visible\":[false,false,false,false,false,false,false,false,false,false,true,false,false,false,false,false,false,false]},{\"title\":\"Wins by U.A.E. in Different Host Countries\"}],\"label\":\"U.A.E.\",\"method\":\"update\"},{\"args\":[{\"visible\":[false,false,false,false,false,false,false,false,false,false,false,true,false,false,false,false,false,false]},{\"title\":\"Wins by Bangladesh in Different Host Countries\"}],\"label\":\"Bangladesh\",\"method\":\"update\"},{\"args\":[{\"visible\":[false,false,false,false,false,false,false,false,false,false,false,false,true,false,false,false,false,false]},{\"title\":\"Wins by Match tied (D\\u002fL method) in Different Host Countries\"}],\"label\":\"Match tied (D\\u002fL method)\",\"method\":\"update\"},{\"args\":[{\"visible\":[false,false,false,false,false,false,false,false,false,false,false,false,false,true,false,false,false,false]},{\"title\":\"Wins by Netherlands in Different Host Countries\"}],\"label\":\"Netherlands\",\"method\":\"update\"},{\"args\":[{\"visible\":[false,false,false,false,false,false,false,false,false,false,false,false,false,false,true,false,false,false]},{\"title\":\"Wins by Canada in Different Host Countries\"}],\"label\":\"Canada\",\"method\":\"update\"},{\"args\":[{\"visible\":[false,false,false,false,false,false,false,false,false,false,false,false,false,false,false,true,false,false]},{\"title\":\"Wins by Ireland in Different Host Countries\"}],\"label\":\"Ireland\",\"method\":\"update\"},{\"args\":[{\"visible\":[false,false,false,false,false,false,false,false,false,false,false,false,false,false,false,false,true,false]},{\"title\":\"Wins by  New Zealand in Different Host Countries\"}],\"label\":\" New Zealand\",\"method\":\"update\"},{\"args\":[{\"visible\":[false,false,false,false,false,false,false,false,false,false,false,false,false,false,false,false,false,true]},{\"title\":\"Wins by Afghanistan in Different Host Countries\"}],\"label\":\"Afghanistan\",\"method\":\"update\"}],\"direction\":\"down\",\"showactive\":true,\"x\":1,\"xanchor\":\"right\",\"y\":1.2,\"yanchor\":\"top\"}],\"title\":{\"text\":\"Wins by Country Across Different Host Countries\"},\"xaxis\":{\"title\":{\"text\":\"Host Countries\"}},\"yaxis\":{\"title\":{\"text\":\"Number of Wins\"}}},                        {\"responsive\": true}                    ).then(function(){\n",
       "                            \n",
       "var gd = document.getElementById('e38f7c06-57a4-40cf-b031-426dfe9c600c');\n",
       "var x = new MutationObserver(function (mutations, observer) {{\n",
       "        var display = window.getComputedStyle(gd).display;\n",
       "        if (!display || display === 'none') {{\n",
       "            console.log([gd, 'removed!']);\n",
       "            Plotly.purge(gd);\n",
       "            observer.disconnect();\n",
       "        }}\n",
       "}});\n",
       "\n",
       "// Listen for the removal of the full notebook cells\n",
       "var notebookContainer = gd.closest('#notebook-container');\n",
       "if (notebookContainer) {{\n",
       "    x.observe(notebookContainer, {childList: true});\n",
       "}}\n",
       "\n",
       "// Listen for the clearing of the current output cell\n",
       "var outputEl = gd.closest('.output');\n",
       "if (outputEl) {{\n",
       "    x.observe(outputEl, {childList: true});\n",
       "}}\n",
       "\n",
       "                        })                };                });            </script>        </div>"
      ]
     },
     "metadata": {},
     "output_type": "display_data"
    }
   ],
   "source": [
    "# Assuming `country_wins_in_host_dict` stores the wins for each country in each host country\n",
    "# Format: {country: {host_country: win_count, ...}, ...}\n",
    "\n",
    "# Create a figure\n",
    "fig = go.Figure()\n",
    "\n",
    "# Loop over the countries and add traces showing how that country wins in different host countries\n",
    "for country, host_countries in country_wins_in_host_dict.items():\n",
    "    # Extract the host countries and win counts\n",
    "    host_country_names = list(host_countries.keys())\n",
    "    win_counts = list(host_countries.values())\n",
    "\n",
    "    # Add a bar trace for the selected country and its wins across host countries\n",
    "    fig.add_trace(\n",
    "        go.Bar(\n",
    "            x=host_country_names,  # Host countries on the x-axis\n",
    "            y=win_counts,  # Wins on the y-axis\n",
    "            name=f\"{country} wins across host countries\",  # Legend label\n",
    "            visible=False,  # Initially hide all traces\n",
    "            hovertemplate=\"<b>%{x}</b> : %{y} wins<extra></extra>\",  # Corrected custom tooltip\n",
    "        )\n",
    "    )\n",
    "\n",
    "# Make the first dataset visible by default (for the first country in the dict)\n",
    "fig.data[0].visible = True\n",
    "\n",
    "# Create dropdown menu buttons for each country\n",
    "buttons = []\n",
    "for i, (country, host_countries) in enumerate(country_wins_in_host_dict.items()):\n",
    "    button = dict(\n",
    "        label=country,\n",
    "        method=\"update\",\n",
    "        args=[\n",
    "            {\"visible\": [j == i for j in range(len(fig.data))]},  # Toggle visibility for the selected country\n",
    "            {\"title\": f\"Wins by {country} in Different Host Countries\"}  # Update the chart title\n",
    "        ]\n",
    "    )\n",
    "    buttons.append(button)\n",
    "\n",
    "# Add dropdown to layout\n",
    "fig.update_layout(\n",
    "    updatemenus=[dict(\n",
    "        active=0,\n",
    "        buttons=buttons,\n",
    "        direction=\"down\",\n",
    "        showactive=True,\n",
    "        x=1,\n",
    "        xanchor=\"right\",\n",
    "        y=1.2,\n",
    "        yanchor=\"top\"\n",
    "    )],\n",
    "    title=\"Wins by Country Across Different Host Countries\",\n",
    "    xaxis_title=\"Host Countries\",\n",
    "    yaxis_title=\"Number of Wins\",\n",
    "    template=\"plotly_dark\"\n",
    ")\n",
    "\n",
    "# Show the figure\n",
    "fig.show()\n"
   ]
  },
  {
   "cell_type": "markdown",
   "id": "e50919ff-ce6d-4e83-a828-934532df18f2",
   "metadata": {},
   "source": [
    "Pie Chart representing the distribution of ICC World Cup Final Match victories of winning Countries"
   ]
  },
  {
   "cell_type": "code",
   "execution_count": null,
   "id": "a4cb490a-1363-43ef-8fe1-a2b3fded4c7c",
   "metadata": {},
   "outputs": [],
   "source": [
    "\n",
    "\n",
    "# Load the dataset\n",
    "file_path = 'cleaned_crick_data.csv'  # Replace with your dataset path\n",
    "data = pd.read_csv(file_path)\n",
    "\n",
    "# Filter data for final matches only\n",
    "# Assuming the column `match_category` identifies match types, and 'Final' is used for finals\n",
    "finals_data = data[data['match_category'] == 'Final']\n",
    "\n",
    "# Count the number of wins for each team\n",
    "finals_wins = finals_data['winning_team'].value_counts()\n",
    "\n",
    "# Plot the pie chart\n",
    "plt.figure(figsize=(8, 8))\n",
    "plt.pie(finals_wins, labels=finals_wins.index, autopct='%1.1f%%', startangle=140, colors=plt.cm.tab20.colors)\n",
    "plt.title('ICC World Cup Final Match Wins (1975-2023)')\n",
    "plt.show()\n"
   ]
  },
  {
   "cell_type": "markdown",
   "id": "3a717652-9bd8-47b6-bbe1-b8f8cee0d862",
   "metadata": {},
   "source": []
  }
 ],
 "metadata": {
  "kernelspec": {
   "display_name": "Python 3 (ipykernel)",
   "language": "python",
   "name": "python3"
  },
  "language_info": {
   "codemirror_mode": {
    "name": "ipython",
    "version": 3
   },
   "file_extension": ".py",
   "mimetype": "text/x-python",
   "name": "python",
   "nbconvert_exporter": "python",
   "pygments_lexer": "ipython3",
   "version": "3.10.6"
  }
 },
 "nbformat": 4,
 "nbformat_minor": 5
}
