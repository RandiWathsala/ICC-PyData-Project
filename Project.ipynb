{
 "cells": [
  {
   "cell_type": "markdown",
   "id": "0560b800",
   "metadata": {},
   "source": [
    "Data Preprocessing"
   ]
  },
  {
   "cell_type": "code",
   "execution_count": 30,
   "id": "9341985c",
   "metadata": {},
   "outputs": [
    {
     "name": "stdout",
     "output_type": "stream",
     "text": [
      "Requirement already satisfied: seaborn in c:\\users\\user\\appdata\\local\\programs\\python\\python312\\lib\\site-packages (0.13.2)"
     ]
    },
    {
     "name": "stderr",
     "output_type": "stream",
     "text": [
      "\n",
      "[notice] A new release of pip is available: 24.2 -> 24.3.1\n",
      "[notice] To update, run: python.exe -m pip install --upgrade pip\n"
     ]
    },
    {
     "name": "stdout",
     "output_type": "stream",
     "text": [
      "\n",
      "Requirement already satisfied: numpy!=1.24.0,>=1.20 in c:\\users\\user\\appdata\\local\\programs\\python\\python312\\lib\\site-packages (from seaborn) (2.1.3)\n",
      "Requirement already satisfied: pandas>=1.2 in c:\\users\\user\\appdata\\local\\programs\\python\\python312\\lib\\site-packages (from seaborn) (2.2.3)\n",
      "Requirement already satisfied: matplotlib!=3.6.1,>=3.4 in c:\\users\\user\\appdata\\local\\programs\\python\\python312\\lib\\site-packages (from seaborn) (3.9.2)\n",
      "Requirement already satisfied: contourpy>=1.0.1 in c:\\users\\user\\appdata\\local\\programs\\python\\python312\\lib\\site-packages (from matplotlib!=3.6.1,>=3.4->seaborn) (1.3.1)\n",
      "Requirement already satisfied: cycler>=0.10 in c:\\users\\user\\appdata\\local\\programs\\python\\python312\\lib\\site-packages (from matplotlib!=3.6.1,>=3.4->seaborn) (0.12.1)\n",
      "Requirement already satisfied: fonttools>=4.22.0 in c:\\users\\user\\appdata\\local\\programs\\python\\python312\\lib\\site-packages (from matplotlib!=3.6.1,>=3.4->seaborn) (4.55.0)\n",
      "Requirement already satisfied: kiwisolver>=1.3.1 in c:\\users\\user\\appdata\\local\\programs\\python\\python312\\lib\\site-packages (from matplotlib!=3.6.1,>=3.4->seaborn) (1.4.7)\n",
      "Requirement already satisfied: packaging>=20.0 in c:\\users\\user\\appdata\\local\\programs\\python\\python312\\lib\\site-packages (from matplotlib!=3.6.1,>=3.4->seaborn) (24.2)\n",
      "Requirement already satisfied: pillow>=8 in c:\\users\\user\\appdata\\local\\programs\\python\\python312\\lib\\site-packages (from matplotlib!=3.6.1,>=3.4->seaborn) (11.0.0)\n",
      "Requirement already satisfied: pyparsing>=2.3.1 in c:\\users\\user\\appdata\\local\\programs\\python\\python312\\lib\\site-packages (from matplotlib!=3.6.1,>=3.4->seaborn) (3.2.0)\n",
      "Requirement already satisfied: python-dateutil>=2.7 in c:\\users\\user\\appdata\\local\\programs\\python\\python312\\lib\\site-packages (from matplotlib!=3.6.1,>=3.4->seaborn) (2.9.0.post0)\n",
      "Requirement already satisfied: pytz>=2020.1 in c:\\users\\user\\appdata\\local\\programs\\python\\python312\\lib\\site-packages (from pandas>=1.2->seaborn) (2024.2)\n",
      "Requirement already satisfied: tzdata>=2022.7 in c:\\users\\user\\appdata\\local\\programs\\python\\python312\\lib\\site-packages (from pandas>=1.2->seaborn) (2024.2)\n",
      "Requirement already satisfied: six>=1.5 in c:\\users\\user\\appdata\\local\\programs\\python\\python312\\lib\\site-packages (from python-dateutil>=2.7->matplotlib!=3.6.1,>=3.4->seaborn) (1.16.0)\n"
     ]
    }
   ],
   "source": [
    "!pip install seaborn"
   ]
  },
  {
   "cell_type": "code",
   "execution_count": 31,
   "id": "d36cf3c4",
   "metadata": {},
   "outputs": [],
   "source": [
    "#Importing Packages\n",
    "import pandas as pd\n",
    "import glob\n",
    "import numpy as np\n",
    "import seaborn as sns\n",
    "import matplotlib.pyplot as plt\n",
    "\n",
    "\n",
    "\n"
   ]
  },
  {
   "cell_type": "markdown",
   "id": "3e85ca3d",
   "metadata": {},
   "source": [
    "Uploading the Dataset"
   ]
  },
  {
   "cell_type": "code",
   "execution_count": 32,
   "id": "28b1a5d8",
   "metadata": {},
   "outputs": [
    {
     "data": {
      "text/html": [
       "<div>\n",
       "<style scoped>\n",
       "    .dataframe tbody tr th:only-of-type {\n",
       "        vertical-align: middle;\n",
       "    }\n",
       "\n",
       "    .dataframe tbody tr th {\n",
       "        vertical-align: top;\n",
       "    }\n",
       "\n",
       "    .dataframe thead th {\n",
       "        text-align: right;\n",
       "    }\n",
       "</style>\n",
       "<table border=\"1\" class=\"dataframe\">\n",
       "  <thead>\n",
       "    <tr style=\"text-align: right;\">\n",
       "      <th></th>\n",
       "      <th>Unnamed: 0.1</th>\n",
       "      <th>Unnamed: 0</th>\n",
       "      <th>date</th>\n",
       "      <th>venue</th>\n",
       "      <th>match_category</th>\n",
       "      <th>team_1</th>\n",
       "      <th>team_2</th>\n",
       "      <th>team_1_runs</th>\n",
       "      <th>team_1_wickets</th>\n",
       "      <th>team_2_runs</th>\n",
       "      <th>team_2_wickets</th>\n",
       "      <th>result</th>\n",
       "      <th>pom</th>\n",
       "      <th>best_batters</th>\n",
       "      <th>best_bowlers</th>\n",
       "      <th>commentary_line</th>\n",
       "      <th>world_cup_year</th>\n",
       "      <th>host_country</th>\n",
       "    </tr>\n",
       "  </thead>\n",
       "  <tbody>\n",
       "    <tr>\n",
       "      <th>0</th>\n",
       "      <td>0</td>\n",
       "      <td>11</td>\n",
       "      <td>NaN</td>\n",
       "      <td>Nottingham</td>\n",
       "      <td>League-Match</td>\n",
       "      <td>PAK</td>\n",
       "      <td>SL</td>\n",
       "      <td>330.0</td>\n",
       "      <td>6.0</td>\n",
       "      <td>138.0</td>\n",
       "      <td>0.0</td>\n",
       "      <td>Pakistan won by 192 runs</td>\n",
       "      <td>Zaheer Abbas</td>\n",
       "      <td>NaN</td>\n",
       "      <td>NaN</td>\n",
       "      <td>NaN</td>\n",
       "      <td>1975</td>\n",
       "      <td>England</td>\n",
       "    </tr>\n",
       "    <tr>\n",
       "      <th>1</th>\n",
       "      <td>1</td>\n",
       "      <td>5</td>\n",
       "      <td>NaN</td>\n",
       "      <td>Leeds</td>\n",
       "      <td>League-Match</td>\n",
       "      <td>EAf</td>\n",
       "      <td>IND</td>\n",
       "      <td>120.0</td>\n",
       "      <td>0.0</td>\n",
       "      <td>123.0</td>\n",
       "      <td>0.0</td>\n",
       "      <td>India won by 10 wickets (with 181 balls remain...</td>\n",
       "      <td>Farokh Engineer</td>\n",
       "      <td>NaN</td>\n",
       "      <td>NaN</td>\n",
       "      <td>NaN</td>\n",
       "      <td>1975</td>\n",
       "      <td>England</td>\n",
       "    </tr>\n",
       "    <tr>\n",
       "      <th>2</th>\n",
       "      <td>2</td>\n",
       "      <td>12</td>\n",
       "      <td>1975-06-18</td>\n",
       "      <td>Leeds</td>\n",
       "      <td>Semi-Final</td>\n",
       "      <td>ENG</td>\n",
       "      <td>AUS</td>\n",
       "      <td>93.0</td>\n",
       "      <td>0.0</td>\n",
       "      <td>94.0</td>\n",
       "      <td>6.0</td>\n",
       "      <td>Australia won by 4 wickets (with 188 balls rem...</td>\n",
       "      <td>Gary Gilmour</td>\n",
       "      <td>NaN</td>\n",
       "      <td>NaN</td>\n",
       "      <td>NaN</td>\n",
       "      <td>1975</td>\n",
       "      <td>England</td>\n",
       "    </tr>\n",
       "    <tr>\n",
       "      <th>3</th>\n",
       "      <td>3</td>\n",
       "      <td>8</td>\n",
       "      <td>1975-06-14</td>\n",
       "      <td>Birmingham</td>\n",
       "      <td>League-Match</td>\n",
       "      <td>ENG</td>\n",
       "      <td>EAf</td>\n",
       "      <td>290.0</td>\n",
       "      <td>5.0</td>\n",
       "      <td>94.0</td>\n",
       "      <td>0.0</td>\n",
       "      <td>England won by 196 runs</td>\n",
       "      <td>John Snow</td>\n",
       "      <td>NaN</td>\n",
       "      <td>NaN</td>\n",
       "      <td>NaN</td>\n",
       "      <td>1975</td>\n",
       "      <td>England</td>\n",
       "    </tr>\n",
       "    <tr>\n",
       "      <th>4</th>\n",
       "      <td>4</td>\n",
       "      <td>13</td>\n",
       "      <td>NaN</td>\n",
       "      <td>The Oval</td>\n",
       "      <td>Semi-Final</td>\n",
       "      <td>NZ</td>\n",
       "      <td>WI</td>\n",
       "      <td>158.0</td>\n",
       "      <td>0.0</td>\n",
       "      <td>159.0</td>\n",
       "      <td>5.0</td>\n",
       "      <td>West Indies won by 5 wickets (with 119 balls r...</td>\n",
       "      <td>Alvin Kallicharran</td>\n",
       "      <td>NaN</td>\n",
       "      <td>NaN</td>\n",
       "      <td>NaN</td>\n",
       "      <td>1975</td>\n",
       "      <td>England</td>\n",
       "    </tr>\n",
       "  </tbody>\n",
       "</table>\n",
       "</div>"
      ],
      "text/plain": [
       "   Unnamed: 0.1  Unnamed: 0        date        venue match_category team_1  \\\n",
       "0             0          11         NaN   Nottingham   League-Match    PAK   \n",
       "1             1           5         NaN        Leeds   League-Match    EAf   \n",
       "2             2          12  1975-06-18        Leeds     Semi-Final    ENG   \n",
       "3             3           8  1975-06-14   Birmingham   League-Match    ENG   \n",
       "4             4          13         NaN     The Oval     Semi-Final     NZ   \n",
       "\n",
       "  team_2  team_1_runs  team_1_wickets  team_2_runs  team_2_wickets  \\\n",
       "0     SL        330.0             6.0        138.0             0.0   \n",
       "1    IND        120.0             0.0        123.0             0.0   \n",
       "2    AUS         93.0             0.0         94.0             6.0   \n",
       "3    EAf        290.0             5.0         94.0             0.0   \n",
       "4     WI        158.0             0.0        159.0             5.0   \n",
       "\n",
       "                                              result                 pom  \\\n",
       "0                           Pakistan won by 192 runs        Zaheer Abbas   \n",
       "1  India won by 10 wickets (with 181 balls remain...     Farokh Engineer   \n",
       "2  Australia won by 4 wickets (with 188 balls rem...        Gary Gilmour   \n",
       "3                            England won by 196 runs           John Snow   \n",
       "4  West Indies won by 5 wickets (with 119 balls r...  Alvin Kallicharran   \n",
       "\n",
       "  best_batters best_bowlers commentary_line  world_cup_year host_country  \n",
       "0          NaN          NaN             NaN            1975      England  \n",
       "1          NaN          NaN             NaN            1975      England  \n",
       "2          NaN          NaN             NaN            1975      England  \n",
       "3          NaN          NaN             NaN            1975      England  \n",
       "4          NaN          NaN             NaN            1975      England  "
      ]
     },
     "execution_count": 32,
     "metadata": {},
     "output_type": "execute_result"
    }
   ],
   "source": [
    "urls=['https://raw.githubusercontent.com/ashanjayamal/PyDataProject/refs/heads/main/1975_Match_Stats.csv',\n",
    "      'https://raw.githubusercontent.com/ashanjayamal/PyDataProject/refs/heads/main/1979_Match_Stats.csv',\n",
    "      'https://raw.githubusercontent.com/ashanjayamal/PyDataProject/refs/heads/main/1983_Match_Stats.csv',\n",
    "      'https://raw.githubusercontent.com/ashanjayamal/PyDataProject/refs/heads/main/1987_Match_Stats.csv',\n",
    "      'https://raw.githubusercontent.com/ashanjayamal/PyDataProject/refs/heads/main/1992_Match_Stats.csv',\n",
    "      'https://raw.githubusercontent.com/ashanjayamal/PyDataProject/refs/heads/main/1996_Match_Stats.csv',\n",
    "      'https://raw.githubusercontent.com/ashanjayamal/PyDataProject/refs/heads/main/1999_Match_Stats.csv',\n",
    "      'https://raw.githubusercontent.com/ashanjayamal/PyDataProject/refs/heads/main/2003_Match_Stats.csv',\n",
    "      'https://raw.githubusercontent.com/ashanjayamal/PyDataProject/refs/heads/main/2007_Match_Stats.csv',\n",
    "      'https://raw.githubusercontent.com/ashanjayamal/PyDataProject/refs/heads/main/2011_Match_Stats.csv',\n",
    "      'https://raw.githubusercontent.com/ashanjayamal/PyDataProject/refs/heads/main/2015_Match_Stats.csv',\n",
    "      'https://raw.githubusercontent.com/ashanjayamal/PyDataProject/refs/heads/main/2019_Match_Stats.csv',\n",
    "      'https://raw.githubusercontent.com/ashanjayamal/PyDataProject/refs/heads/main/2023_Match_Stats.csv'\n",
    "      ]\n",
    "#csv_files=[pd.read_csv(url) for url in urls]\n",
    "#csv_files\n",
    "crick_df = pd.concat([pd.read_csv(url) for url in urls], ignore_index=True)\n",
    "\n",
    "crick_df.head()"
   ]
  },
  {
   "cell_type": "markdown",
   "id": "4217ace5",
   "metadata": {},
   "source": [
    "Examining the DataFrame"
   ]
  },
  {
   "cell_type": "code",
   "execution_count": 33,
   "id": "83e830fa",
   "metadata": {},
   "outputs": [
    {
     "name": "stdout",
     "output_type": "stream",
     "text": [
      "<class 'pandas.core.frame.DataFrame'>\n",
      "RangeIndex: 528 entries, 0 to 527\n",
      "Data columns (total 18 columns):\n",
      " #   Column           Non-Null Count  Dtype  \n",
      "---  ------           --------------  -----  \n",
      " 0   Unnamed: 0.1     528 non-null    int64  \n",
      " 1   Unnamed: 0       528 non-null    int64  \n",
      " 2   date             364 non-null    object \n",
      " 3   venue            528 non-null    object \n",
      " 4   match_category   528 non-null    object \n",
      " 5   team_1           528 non-null    object \n",
      " 6   team_2           528 non-null    object \n",
      " 7   team_1_runs      518 non-null    float64\n",
      " 8   team_1_wickets   518 non-null    float64\n",
      " 9   team_2_runs      513 non-null    float64\n",
      " 10  team_2_wickets   513 non-null    float64\n",
      " 11  result           528 non-null    object \n",
      " 12  pom              510 non-null    object \n",
      " 13  best_batters     250 non-null    object \n",
      " 14  best_bowlers     250 non-null    object \n",
      " 15  commentary_line  83 non-null     object \n",
      " 16  world_cup_year   528 non-null    int64  \n",
      " 17  host_country     528 non-null    object \n",
      "dtypes: float64(4), int64(3), object(11)\n",
      "memory usage: 74.4+ KB\n"
     ]
    }
   ],
   "source": [
    "crick_df.info()"
   ]
  },
  {
   "cell_type": "code",
   "execution_count": 34,
   "id": "8b771bde",
   "metadata": {},
   "outputs": [
    {
     "data": {
      "text/plain": [
       "Index(['Unnamed: 0.1', 'Unnamed: 0', 'date', 'venue', 'match_category',\n",
       "       'team_1', 'team_2', 'team_1_runs', 'team_1_wickets', 'team_2_runs',\n",
       "       'team_2_wickets', 'result', 'pom', 'best_batters', 'best_bowlers',\n",
       "       'commentary_line', 'world_cup_year', 'host_country'],\n",
       "      dtype='object')"
      ]
     },
     "execution_count": 34,
     "metadata": {},
     "output_type": "execute_result"
    }
   ],
   "source": [
    "crick_df.columns"
   ]
  },
  {
   "cell_type": "code",
   "execution_count": 35,
   "id": "c2f31259",
   "metadata": {},
   "outputs": [
    {
     "name": "stdout",
     "output_type": "stream",
     "text": [
      "(528, 18)\n"
     ]
    }
   ],
   "source": [
    "print(crick_df.shape)"
   ]
  },
  {
   "cell_type": "code",
   "execution_count": 36,
   "id": "3d19ccb7",
   "metadata": {},
   "outputs": [
    {
     "data": {
      "text/html": [
       "<div>\n",
       "<style scoped>\n",
       "    .dataframe tbody tr th:only-of-type {\n",
       "        vertical-align: middle;\n",
       "    }\n",
       "\n",
       "    .dataframe tbody tr th {\n",
       "        vertical-align: top;\n",
       "    }\n",
       "\n",
       "    .dataframe thead th {\n",
       "        text-align: right;\n",
       "    }\n",
       "</style>\n",
       "<table border=\"1\" class=\"dataframe\">\n",
       "  <thead>\n",
       "    <tr style=\"text-align: right;\">\n",
       "      <th></th>\n",
       "      <th>Unnamed: 0.1</th>\n",
       "      <th>Unnamed: 0</th>\n",
       "      <th>team_1_runs</th>\n",
       "      <th>team_1_wickets</th>\n",
       "      <th>team_2_runs</th>\n",
       "      <th>team_2_wickets</th>\n",
       "      <th>world_cup_year</th>\n",
       "    </tr>\n",
       "  </thead>\n",
       "  <tbody>\n",
       "    <tr>\n",
       "      <th>count</th>\n",
       "      <td>528.000000</td>\n",
       "      <td>528.000000</td>\n",
       "      <td>518.000000</td>\n",
       "      <td>518.000000</td>\n",
       "      <td>513.000000</td>\n",
       "      <td>513.000000</td>\n",
       "      <td>528.000000</td>\n",
       "    </tr>\n",
       "    <tr>\n",
       "      <th>mean</th>\n",
       "      <td>21.871212</td>\n",
       "      <td>21.034091</td>\n",
       "      <td>243.239382</td>\n",
       "      <td>4.590734</td>\n",
       "      <td>198.643275</td>\n",
       "      <td>2.777778</td>\n",
       "      <td>2003.373106</td>\n",
       "    </tr>\n",
       "    <tr>\n",
       "      <th>std</th>\n",
       "      <td>14.307231</td>\n",
       "      <td>13.915398</td>\n",
       "      <td>75.108565</td>\n",
       "      <td>3.465005</td>\n",
       "      <td>59.732864</td>\n",
       "      <td>3.044163</td>\n",
       "      <td>13.352007</td>\n",
       "    </tr>\n",
       "    <tr>\n",
       "      <th>min</th>\n",
       "      <td>0.000000</td>\n",
       "      <td>0.000000</td>\n",
       "      <td>1.000000</td>\n",
       "      <td>0.000000</td>\n",
       "      <td>24.000000</td>\n",
       "      <td>0.000000</td>\n",
       "      <td>1975.000000</td>\n",
       "    </tr>\n",
       "    <tr>\n",
       "      <th>25%</th>\n",
       "      <td>10.000000</td>\n",
       "      <td>9.000000</td>\n",
       "      <td>197.000000</td>\n",
       "      <td>0.000000</td>\n",
       "      <td>158.000000</td>\n",
       "      <td>0.000000</td>\n",
       "      <td>1992.000000</td>\n",
       "    </tr>\n",
       "    <tr>\n",
       "      <th>50%</th>\n",
       "      <td>20.000000</td>\n",
       "      <td>20.000000</td>\n",
       "      <td>244.000000</td>\n",
       "      <td>6.000000</td>\n",
       "      <td>204.000000</td>\n",
       "      <td>2.000000</td>\n",
       "      <td>2003.000000</td>\n",
       "    </tr>\n",
       "    <tr>\n",
       "      <th>75%</th>\n",
       "      <td>33.000000</td>\n",
       "      <td>32.000000</td>\n",
       "      <td>292.000000</td>\n",
       "      <td>8.000000</td>\n",
       "      <td>235.000000</td>\n",
       "      <td>5.000000</td>\n",
       "      <td>2015.000000</td>\n",
       "    </tr>\n",
       "    <tr>\n",
       "      <th>max</th>\n",
       "      <td>55.000000</td>\n",
       "      <td>53.000000</td>\n",
       "      <td>428.000000</td>\n",
       "      <td>9.000000</td>\n",
       "      <td>383.000000</td>\n",
       "      <td>9.000000</td>\n",
       "      <td>2023.000000</td>\n",
       "    </tr>\n",
       "  </tbody>\n",
       "</table>\n",
       "</div>"
      ],
      "text/plain": [
       "       Unnamed: 0.1  Unnamed: 0  team_1_runs  team_1_wickets  team_2_runs  \\\n",
       "count    528.000000  528.000000   518.000000      518.000000   513.000000   \n",
       "mean      21.871212   21.034091   243.239382        4.590734   198.643275   \n",
       "std       14.307231   13.915398    75.108565        3.465005    59.732864   \n",
       "min        0.000000    0.000000     1.000000        0.000000    24.000000   \n",
       "25%       10.000000    9.000000   197.000000        0.000000   158.000000   \n",
       "50%       20.000000   20.000000   244.000000        6.000000   204.000000   \n",
       "75%       33.000000   32.000000   292.000000        8.000000   235.000000   \n",
       "max       55.000000   53.000000   428.000000        9.000000   383.000000   \n",
       "\n",
       "       team_2_wickets  world_cup_year  \n",
       "count      513.000000      528.000000  \n",
       "mean         2.777778     2003.373106  \n",
       "std          3.044163       13.352007  \n",
       "min          0.000000     1975.000000  \n",
       "25%          0.000000     1992.000000  \n",
       "50%          2.000000     2003.000000  \n",
       "75%          5.000000     2015.000000  \n",
       "max          9.000000     2023.000000  "
      ]
     },
     "execution_count": 36,
     "metadata": {},
     "output_type": "execute_result"
    }
   ],
   "source": [
    "crick_df.describe()"
   ]
  },
  {
   "cell_type": "markdown",
   "id": "38e13947",
   "metadata": {},
   "source": [
    "Data Cleaning"
   ]
  },
  {
   "cell_type": "code",
   "execution_count": 37,
   "id": "02bebab5",
   "metadata": {},
   "outputs": [
    {
     "name": "stdout",
     "output_type": "stream",
     "text": [
      "DataFrame shape after removing duplicates: (528, 18)\n"
     ]
    }
   ],
   "source": [
    "\n",
    "# Removing duplicate rows from the DataFrame\n",
    "crick_df = crick_df.drop_duplicates()\n",
    "\n",
    "# Resetting the index after removing duplicates\n",
    "crick_df.reset_index(drop=True, inplace=True)\n",
    "\n",
    "# Checking the shape of the DataFrame after removing duplicates\n",
    "print(f\"DataFrame shape after removing duplicates: {crick_df.shape}\")"
   ]
  },
  {
   "cell_type": "markdown",
   "id": "72633946",
   "metadata": {},
   "source": [
    "Removing Unnecessary Columns\n",
    "\n",
    "Since the columns named 'Unnamed: 0.1','Unnamed: 0' don't have any specific meaning, we removed those columns.\n",
    "Since the columns named 'commentary_line','date' aren't relevent for the data analysis, we removed those columns."
   ]
  },
  {
   "cell_type": "code",
   "execution_count": 38,
   "id": "c00207c5",
   "metadata": {},
   "outputs": [],
   "source": [
    "# Removing unnessary colummuns\n",
    "crick_df = crick_df.drop(columns=['date','Unnamed: 0.1','Unnamed: 0','commentary_line'])\n"
   ]
  },
  {
   "cell_type": "code",
   "execution_count": 39,
   "id": "39f701e1",
   "metadata": {},
   "outputs": [
    {
     "name": "stdout",
     "output_type": "stream",
     "text": [
      "venue               0\n",
      "match_category      0\n",
      "team_1              0\n",
      "team_2              0\n",
      "team_1_runs        10\n",
      "team_1_wickets     10\n",
      "team_2_runs        15\n",
      "team_2_wickets     15\n",
      "result              0\n",
      "pom                18\n",
      "best_batters      278\n",
      "best_bowlers      278\n",
      "world_cup_year      0\n",
      "host_country        0\n",
      "dtype: int64\n"
     ]
    }
   ],
   "source": [
    "# checking null values\n",
    "print(crick_df.isnull().sum())"
   ]
  },
  {
   "cell_type": "code",
   "execution_count": 40,
   "id": "02849245",
   "metadata": {},
   "outputs": [
    {
     "name": "stdout",
     "output_type": "stream",
     "text": [
      "(528, 14)\n"
     ]
    }
   ],
   "source": [
    "print(crick_df.shape)"
   ]
  },
  {
   "cell_type": "markdown",
   "id": "da9097d4",
   "metadata": {},
   "source": [
    "Checking for outliers"
   ]
  },
  {
   "cell_type": "code",
   "execution_count": 41,
   "id": "b1e65bb0",
   "metadata": {},
   "outputs": [
    {
     "data": {
      "image/png": "[encoded data removed]",
      "text/plain": [
       "<Figure size 800x200 with 1 Axes>"
      ]
     },
     "metadata": {},
     "output_type": "display_data"
    },
    {
     "data": {
      "image/png": "[encoded data removed]",
      "text/plain": [
       "<Figure size 800x200 with 1 Axes>"
      ]
     },
     "metadata": {},
     "output_type": "display_data"
    },
    {
     "data": {
      "image/png": "[encoded data removed]",
      "text/plain": [
       "<Figure size 800x200 with 1 Axes>"
      ]
     },
     "metadata": {},
     "output_type": "display_data"
    },
    {
     "data": {
      "image/png": "[encoded data removed]",
      "text/plain": [
       "<Figure size 800x200 with 1 Axes>"
      ]
     },
     "metadata": {},
     "output_type": "display_data"
    }
   ],
   "source": [
    "\n",
    "\n",
    "# Identify numerical columns\n",
    "numerical_cols = ['team_1_runs', 'team_2_runs', 'team_1_wickets', 'team_2_wickets']\n",
    "\n",
    "# Plot boxplots to visualize potential outliers\n",
    "for col in numerical_cols:\n",
    "    plt.figure(figsize=(8,2))\n",
    "    sns.boxplot(x=crick_df[col])\n",
    "    plt.title(f\"Boxplot for {col}\")\n",
    "    plt.show()"
   ]
  },
  {
   "cell_type": "markdown",
   "id": "6f5761a3",
   "metadata": {},
   "source": [
    "Checking for the rows with extreme values\n",
    "\n",
    "Since the highest and lowest values of this dataset has a specific meaning according to the real scenario, we are going to check for extremely unrealistic values instead of following the normal ways like below.\n",
    "1. considering the IQR\n",
    "2. using the Boxplot"
   ]
  },
  {
   "cell_type": "code",
   "execution_count": 42,
   "id": "6184afa3",
   "metadata": {},
   "outputs": [
    {
     "name": "stdout",
     "output_type": "stream",
     "text": [
      "              venue match_category team_1 team_2  team_1_runs  team_1_wickets  \\\n",
      "323   Port of Spain   League-Match    IND    BER        413.0             5.0   \n",
      "387           Perth   League-Match    AUS    AFG        417.0             6.0   \n",
      "406          Sydney   League-Match     SA     WI        408.0             5.0   \n",
      "414        Canberra   League-Match     SA    IRE        411.0             4.0   \n",
      "479       Bengaluru   League-Match     NZ    PAK        401.0             6.0   \n",
      "507           Delhi   League-Match     SA     SL        428.0             5.0   \n",
      "526       Bengaluru   League-Match    IND    NED        410.0             4.0   \n",
      "\n",
      "     team_2_runs  team_2_wickets                                result  \\\n",
      "323        156.0             0.0                 India won by 257 runs   \n",
      "387        142.0             0.0             Australia won by 275 runs   \n",
      "406        151.0             0.0          South Africa won by 257 runs   \n",
      "414        210.0             0.0          South Africa won by 201 runs   \n",
      "479        200.0             1.0  Pakistan won by 21 runs (DLS method)   \n",
      "507        326.0             0.0          South Africa won by 102 runs   \n",
      "526        250.0             0.0                 India won by 160 runs   \n",
      "\n",
      "                 pom                                       best_batters  \\\n",
      "323  Virender Sehwag  ['V Sehwag - 114 runs ', 'SC Ganguly - 89 runs ']   \n",
      "387     David Warner  ['DA Warner - 178 runs ', 'SPD Smith - 95 runs ']   \n",
      "406   AB de Villiers  ['AB de Villiers - 162 runs ', 'HM Amla - 65 r...   \n",
      "414      Hashim Amla  ['HM Amla - 159 runs ', 'F du Plessis - 109 ru...   \n",
      "479     Fakhar Zaman  ['Fakhar Zaman - 126 runs ', 'R Ravindra - 108...   \n",
      "507    Aiden Markram  ['HE van der Dussen - 108 runs ', 'AK Markram ...   \n",
      "526     Shreyas Iyer    ['SS Iyer - 128 runs ', 'KL Rahul - 102 runs ']   \n",
      "\n",
      "                                 best_bowlers  world_cup_year host_country  \n",
      "323        ['AB Agarkar - 3', 'A Kumble - 3']            2007  West Indies  \n",
      "387        ['MG Johnson - 4', 'MA Starc - 2']            2015    Australia  \n",
      "406       ['Imran Tahir - 5', 'M Morkel - 2']            2015    Australia  \n",
      "414         ['KJ Abbott - 4', 'M Morkel - 3']            2015    Australia  \n",
      "479  ['Mohammad Wasim - 3', 'TG Southee - 1']            2023        India  \n",
      "507       ['G Coetzee - 3', 'KA Maharaj - 2']            2023        India  \n",
      "526    ['JJ Bumrah - 2', 'Kuldeep Yadav - 2']            2023        India  \n"
     ]
    }
   ],
   "source": [
    "# Filter rows where team_1_runs > 400\n",
    "high_scoring_matches_1 = crick_df[crick_df['team_1_runs'] > 400]\n",
    "\n",
    "# Display the filtered rows\n",
    "print(high_scoring_matches_1)"
   ]
  },
  {
   "cell_type": "markdown",
   "id": "4da8c728",
   "metadata": {},
   "source": [
    "Since these values are not extreme according to the reality, we are not going to remove these."
   ]
  },
  {
   "cell_type": "code",
   "execution_count": 43,
   "id": "2de1cc44",
   "metadata": {},
   "outputs": [
    {
     "name": "stdout",
     "output_type": "stream",
     "text": [
      "<class 'pandas.core.frame.DataFrame'>\n",
      "RangeIndex: 528 entries, 0 to 527\n",
      "Data columns (total 14 columns):\n",
      " #   Column          Non-Null Count  Dtype  \n",
      "---  ------          --------------  -----  \n",
      " 0   venue           528 non-null    object \n",
      " 1   match_category  528 non-null    object \n",
      " 2   team_1          528 non-null    object \n",
      " 3   team_2          528 non-null    object \n",
      " 4   team_1_runs     518 non-null    float64\n",
      " 5   team_1_wickets  518 non-null    float64\n",
      " 6   team_2_runs     513 non-null    float64\n",
      " 7   team_2_wickets  513 non-null    float64\n",
      " 8   result          528 non-null    object \n",
      " 9   pom             510 non-null    object \n",
      " 10  best_batters    250 non-null    object \n",
      " 11  best_bowlers    250 non-null    object \n",
      " 12  world_cup_year  528 non-null    int64  \n",
      " 13  host_country    528 non-null    object \n",
      "dtypes: float64(4), int64(1), object(9)\n",
      "memory usage: 57.9+ KB\n"
     ]
    }
   ],
   "source": [
    "crick_df.info()"
   ]
  },
  {
   "cell_type": "code",
   "execution_count": 44,
   "id": "c9432b56",
   "metadata": {},
   "outputs": [
    {
     "name": "stdout",
     "output_type": "stream",
     "text": [
      "            venue match_category team_1 team_2  team_1_runs  team_1_wickets  \\\n",
      "17     Manchester   League-Match    CAN    ENG         45.0             0.0   \n",
      "24     Manchester   League-Match    CAN    ENG         45.0             0.0   \n",
      "98         Mackay   League-Match    IND     SL          1.0             0.0   \n",
      "144         Patna   League-Match    ZIM  KENYA         45.0             3.0   \n",
      "271         Paarl   League-Match    CAN     SL         36.0             0.0   \n",
      "474   Southampton   League-Match     SA     WI         29.0             2.0   \n",
      "\n",
      "     team_2_runs  team_2_wickets  \\\n",
      "17          46.0             2.0   \n",
      "24          46.0             2.0   \n",
      "98           NaN             NaN   \n",
      "144          NaN             NaN   \n",
      "271         37.0             1.0   \n",
      "474          NaN             NaN   \n",
      "\n",
      "                                                result               pom  \\\n",
      "17   England won by 8 wickets (with 277 balls remai...         Chris Old   \n",
      "24   England won by 8 wickets (with 277 balls remai...         Chris Old   \n",
      "98                                           No result               NaN   \n",
      "144                                          No result               NaN   \n",
      "271  Sri Lanka won by 9 wickets (with 272 balls rem...  Prabath Nissanka   \n",
      "474                                          No result               NaN   \n",
      "\n",
      "                                      best_batters  \\\n",
      "17                                             NaN   \n",
      "24                                             NaN   \n",
      "98                                             NaN   \n",
      "144                                            NaN   \n",
      "271                                            NaN   \n",
      "474  ['Q de Kock - 17 runs ', 'HM Amla - 6 runs ']   \n",
      "\n",
      "                            best_bowlers  world_cup_year  host_country  \n",
      "17                                   NaN            1979       England  \n",
      "24                                   NaN            1979       England  \n",
      "98                                   NaN            1992   New Zealand  \n",
      "144                                  NaN            1996         India  \n",
      "271                                  NaN            2003  South Africa  \n",
      "474  ['SS Cottrell - 2', 'O Thomas - 0']            2019       England  \n"
     ]
    }
   ],
   "source": [
    "# Filter rows where team_1_runs < 50\n",
    "low_scoring_matches_1 = crick_df[crick_df['team_1_runs'] < 50]\n",
    "\n",
    "# Display the filtered rows\n",
    "print(low_scoring_matches_1)"
   ]
  },
  {
   "cell_type": "code",
   "execution_count": 45,
   "id": "07d8f1c2",
   "metadata": {},
   "outputs": [
    {
     "name": "stdout",
     "output_type": "stream",
     "text": [
      "Empty DataFrame\n",
      "Columns: [venue, match_category, team_1, team_2, team_1_runs, team_1_wickets, team_2_runs, team_2_wickets, result, pom, best_batters, best_bowlers, world_cup_year, host_country]\n",
      "Index: []\n"
     ]
    }
   ],
   "source": [
    "# Filter rows where team_2_runs > 400\n",
    "high_scoring_matches_2 = crick_df[crick_df['team_2_runs'] > 400]\n",
    "\n",
    "# Display the filtered rows\n",
    "print(high_scoring_matches_2)"
   ]
  },
  {
   "cell_type": "code",
   "execution_count": 46,
   "id": "ba13df5b",
   "metadata": {},
   "outputs": [
    {
     "name": "stdout",
     "output_type": "stream",
     "text": [
      "              venue match_category team_1 team_2  team_1_runs  team_1_wickets  \\\n",
      "17       Manchester   League-Match    CAN    ENG         45.0             0.0   \n",
      "24       Manchester   League-Match    CAN    ENG         45.0             0.0   \n",
      "119        Adelaide   League-Match    PAK    ENG         74.0             0.0   \n",
      "230   Potchefstroom   League-Match    AUS    NAM        301.0             6.0   \n",
      "237          Benoni   League-Match     WI    BAN        244.0             9.0   \n",
      "271           Paarl   League-Match    CAN     SL         36.0             0.0   \n",
      "\n",
      "     team_2_runs  team_2_wickets  \\\n",
      "17          46.0             2.0   \n",
      "24          46.0             2.0   \n",
      "119         24.0             1.0   \n",
      "230         45.0             0.0   \n",
      "237         32.0             2.0   \n",
      "271         37.0             1.0   \n",
      "\n",
      "                                                result               pom  \\\n",
      "17   England won by 8 wickets (with 277 balls remai...         Chris Old   \n",
      "24   England won by 8 wickets (with 277 balls remai...         Chris Old   \n",
      "119                                          No result               NaN   \n",
      "230                          Australia won by 256 runs     Glenn McGrath   \n",
      "237                                          No result               NaN   \n",
      "271  Sri Lanka won by 9 wickets (with 272 balls rem...  Prabath Nissanka   \n",
      "\n",
      "    best_batters best_bowlers  world_cup_year  host_country  \n",
      "17           NaN          NaN            1979       England  \n",
      "24           NaN          NaN            1979       England  \n",
      "119          NaN          NaN            1992     Australia  \n",
      "230          NaN          NaN            2003  South Africa  \n",
      "237          NaN          NaN            2003  South Africa  \n",
      "271          NaN          NaN            2003  South Africa  \n"
     ]
    }
   ],
   "source": [
    "# Filter rows where team_2_runs < 50\n",
    "low_scoring_matches_2 = crick_df[crick_df['team_2_runs'] < 50]\n",
    "\n",
    "# Display the filtered rows\n",
    "print(low_scoring_matches_2)"
   ]
  },
  {
   "cell_type": "markdown",
   "id": "c8f5831f",
   "metadata": {},
   "source": [
    "Since these values are not extreme according to the reality, we are not going to remove these.\n",
    "\n",
    "Normally the minimum wicket count is 0 and the maximum wicket count is 10. Therefore we are going to check for extremes using these values.\n"
   ]
  },
  {
   "cell_type": "code",
   "execution_count": 47,
   "id": "86451926",
   "metadata": {},
   "outputs": [
    {
     "name": "stdout",
     "output_type": "stream",
     "text": [
      "Empty DataFrame\n",
      "Columns: [venue, match_category, team_1, team_2, team_1_runs, team_1_wickets, team_2_runs, team_2_wickets, result, pom, best_batters, best_bowlers, world_cup_year, host_country]\n",
      "Index: []\n"
     ]
    }
   ],
   "source": [
    "# Filter rows where team_1_wickets > 10\n",
    "high_wicket_matches_1 = crick_df[crick_df['team_1_wickets'] > 10]\n",
    "\n",
    "# Display the filtered rows\n",
    "print(high_wicket_matches_1)"
   ]
  },
  {
   "cell_type": "code",
   "execution_count": 48,
   "id": "a4ceeea2",
   "metadata": {},
   "outputs": [
    {
     "name": "stdout",
     "output_type": "stream",
     "text": [
      "Empty DataFrame\n",
      "Columns: [venue, match_category, team_1, team_2, team_1_runs, team_1_wickets, team_2_runs, team_2_wickets, result, pom, best_batters, best_bowlers, world_cup_year, host_country]\n",
      "Index: []\n"
     ]
    }
   ],
   "source": [
    "# Filter rows where team_1_wickets <1\n",
    "low_wicket_matches_1 = crick_df[crick_df['team_1_wickets'] > 10]\n",
    "\n",
    "# Display the filtered rows\n",
    "print(low_wicket_matches_1)"
   ]
  },
  {
   "cell_type": "code",
   "execution_count": 49,
   "id": "a2a3fabb",
   "metadata": {},
   "outputs": [
    {
     "name": "stdout",
     "output_type": "stream",
     "text": [
      "Empty DataFrame\n",
      "Columns: [venue, match_category, team_1, team_2, team_1_runs, team_1_wickets, team_2_runs, team_2_wickets, result, pom, best_batters, best_bowlers, world_cup_year, host_country]\n",
      "Index: []\n"
     ]
    }
   ],
   "source": [
    "# Filter rows where team_2_wickets > 10\n",
    "high_wicket_matches_2 = crick_df[crick_df['team_2_wickets'] > 10]\n",
    "\n",
    "# Display the filtered rows\n",
    "print(high_wicket_matches_2)"
   ]
  },
  {
   "cell_type": "code",
   "execution_count": 50,
   "id": "f4cadec6",
   "metadata": {},
   "outputs": [
    {
     "name": "stdout",
     "output_type": "stream",
     "text": [
      "Empty DataFrame\n",
      "Columns: [venue, match_category, team_1, team_2, team_1_runs, team_1_wickets, team_2_runs, team_2_wickets, result, pom, best_batters, best_bowlers, world_cup_year, host_country]\n",
      "Index: []\n"
     ]
    }
   ],
   "source": [
    "# Filter rows where team_2_wickets <1\n",
    "low_wicket_matches_2 = crick_df[crick_df['team_2_wickets'] > 10]\n",
    "\n",
    "# Display the filtered rows\n",
    "print(low_wicket_matches_2)"
   ]
  },
  {
   "cell_type": "markdown",
   "id": "3f9a22f9",
   "metadata": {},
   "source": [
    "There are no extreme values for the wicket counts."
   ]
  }
 ],
 "metadata": {
  "kernelspec": {
   "display_name": "Python 3",
   "language": "python",
   "name": "python3"
  },
  "language_info": {
   "codemirror_mode": {
    "name": "ipython",
    "version": 3
   },
   "file_extension": ".py",
   "mimetype": "text/x-python",
   "name": "python",
   "nbconvert_exporter": "python",
   "pygments_lexer": "ipython3",
   "version": "3.12.7"
  }
 },
 "nbformat": 4,
 "nbformat_minor": 5
}
