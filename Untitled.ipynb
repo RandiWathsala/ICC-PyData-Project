{
 "cells": [
  {
   "cell_type": "code",
   "execution_count": 1,
   "id": "83b21b77",
   "metadata": {},
   "outputs": [
    {
     "name": "stdout",
     "output_type": "stream",
     "text": [
      "   Unnamed: 0.1  Unnamed: 0       date        venue match_category team_1  \\\n",
      "0             0          11        NaN   Nottingham   League-Match    PAK   \n",
      "1             1           5        NaN        Leeds   League-Match    EAf   \n",
      "2             2          12  6/18/1975        Leeds     Semi-Final    ENG   \n",
      "3             3           8  6/14/1975   Birmingham   League-Match    ENG   \n",
      "4             4          13        NaN     The Oval     Semi-Final     NZ   \n",
      "\n",
      "  team_2  team_1_runs  team_1_wickets  team_2_runs  team_2_wickets  \\\n",
      "0     SL        330.0             6.0        138.0             0.0   \n",
      "1    IND        120.0             0.0        123.0             0.0   \n",
      "2    AUS         93.0             0.0         94.0             6.0   \n",
      "3    EAf        290.0             5.0         94.0             0.0   \n",
      "4     WI        158.0             0.0        159.0             5.0   \n",
      "\n",
      "                                              result                 pom  \\\n",
      "0                           Pakistan won by 192 runs        Zaheer Abbas   \n",
      "1  India won by 10 wickets (with 181 balls remain...     Farokh Engineer   \n",
      "2  Australia won by 4 wickets (with 188 balls rem...        Gary Gilmour   \n",
      "3                            England won by 196 runs           John Snow   \n",
      "4  West Indies won by 5 wickets (with 119 balls r...  Alvin Kallicharran   \n",
      "\n",
      "  best_batters best_bowlers commentary_line  world_cup_year host_country  \n",
      "0          NaN          NaN             NaN            1975      England  \n",
      "1          NaN          NaN             NaN            1975      England  \n",
      "2          NaN          NaN             NaN            1975      England  \n",
      "3          NaN          NaN             NaN            1975      England  \n",
      "4          NaN          NaN             NaN            1975      England  \n"
     ]
    }
   ],
   "source": [
    "import pandas as pd\n",
    "import glob\n",
    "\n",
    "# Path to the folder containing the CSV files\n",
    "path_to_csv_files = \"C:/Users/chani/Downloads/CASE2/CASE2/WorldCup_Stats\"\n",
    "\n",
    "# List all CSV files in the directory\n",
    "csv_files = glob.glob(f\"{path_to_csv_files}/*.csv\")\n",
    "\n",
    "# Read and concatenate all CSV files into a single DataFrame\n",
    "crick_df = pd.concat([pd.read_csv(file) for file in csv_files], ignore_index=True)\n",
    "\n",
    "# Print the first few rows of the combined DataFrame\n",
    "print(crick_df.head())\n"
   ]
  },
  {
   "cell_type": "code",
   "execution_count": null,
   "id": "a48a7871",
   "metadata": {},
   "outputs": [],
   "source": []
  }
 ],
 "metadata": {
  "kernelspec": {
   "display_name": "Python 3 (ipykernel)",
   "language": "python",
   "name": "python3"
  },
  "language_info": {
   "codemirror_mode": {
    "name": "ipython",
    "version": 3
   },
   "file_extension": ".py",
   "mimetype": "text/x-python",
   "name": "python",
   "nbconvert_exporter": "python",
   "pygments_lexer": "ipython3",
   "version": "3.11.5"
  }
 },
 "nbformat": 4,
 "nbformat_minor": 5
}
